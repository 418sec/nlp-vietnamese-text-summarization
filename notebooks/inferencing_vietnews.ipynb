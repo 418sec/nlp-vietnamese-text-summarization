{
  "nbformat": 4,
  "nbformat_minor": 0,
  "metadata": {
    "colab": {
      "name": "testing-huggingface",
      "provenance": [],
      "toc_visible": true,
      "machine_shape": "hm",
      "include_colab_link": true
    },
    "kernelspec": {
      "display_name": "Python 3",
      "name": "python3"
    },
    "accelerator": "GPU",
    "widgets": {
      "application/vnd.jupyter.widget-state+json": {
        "22f78a4069864febaa62d0db307b8cd0": {
          "model_module": "@jupyter-widgets/controls",
          "model_name": "HBoxModel",
          "state": {
            "_view_name": "HBoxView",
            "_dom_classes": [],
            "_model_name": "HBoxModel",
            "_view_module": "@jupyter-widgets/controls",
            "_model_module_version": "1.5.0",
            "_view_count": null,
            "_view_module_version": "1.5.0",
            "box_style": "",
            "layout": "IPY_MODEL_f67a2fcaae0748159e1cb40a3f24c199",
            "_model_module": "@jupyter-widgets/controls",
            "children": [
              "IPY_MODEL_07f57c3189a54fb8839d6c2088e85a72",
              "IPY_MODEL_9cb7ad15568a4059bff5435144cff4c1"
            ]
          }
        },
        "f67a2fcaae0748159e1cb40a3f24c199": {
          "model_module": "@jupyter-widgets/base",
          "model_name": "LayoutModel",
          "state": {
            "_view_name": "LayoutView",
            "grid_template_rows": null,
            "right": null,
            "justify_content": null,
            "_view_module": "@jupyter-widgets/base",
            "overflow": null,
            "_model_module_version": "1.2.0",
            "_view_count": null,
            "flex_flow": null,
            "width": null,
            "min_width": null,
            "border": null,
            "align_items": null,
            "bottom": null,
            "_model_module": "@jupyter-widgets/base",
            "top": null,
            "grid_column": null,
            "overflow_y": null,
            "overflow_x": null,
            "grid_auto_flow": null,
            "grid_area": null,
            "grid_template_columns": null,
            "flex": null,
            "_model_name": "LayoutModel",
            "justify_items": null,
            "grid_row": null,
            "max_height": null,
            "align_content": null,
            "visibility": null,
            "align_self": null,
            "height": null,
            "min_height": null,
            "padding": null,
            "grid_auto_rows": null,
            "grid_gap": null,
            "max_width": null,
            "order": null,
            "_view_module_version": "1.2.0",
            "grid_template_areas": null,
            "object_position": null,
            "object_fit": null,
            "grid_auto_columns": null,
            "margin": null,
            "display": null,
            "left": null
          }
        },
        "07f57c3189a54fb8839d6c2088e85a72": {
          "model_module": "@jupyter-widgets/controls",
          "model_name": "FloatProgressModel",
          "state": {
            "_view_name": "ProgressView",
            "style": "IPY_MODEL_3c4f34318aae4dfb94630b4901be1561",
            "_dom_classes": [],
            "description": "Downloading: ",
            "_model_name": "FloatProgressModel",
            "bar_style": "success",
            "max": 1717,
            "_view_module": "@jupyter-widgets/controls",
            "_model_module_version": "1.5.0",
            "value": 1717,
            "_view_count": null,
            "_view_module_version": "1.5.0",
            "orientation": "horizontal",
            "min": 0,
            "description_tooltip": null,
            "_model_module": "@jupyter-widgets/controls",
            "layout": "IPY_MODEL_7f6f0140cccf412892423b32e43e82fd"
          }
        },
        "9cb7ad15568a4059bff5435144cff4c1": {
          "model_module": "@jupyter-widgets/controls",
          "model_name": "HTMLModel",
          "state": {
            "_view_name": "HTMLView",
            "style": "IPY_MODEL_78ad9465d68342a7bd20df762eabbeb0",
            "_dom_classes": [],
            "description": "",
            "_model_name": "HTMLModel",
            "placeholder": "​",
            "_view_module": "@jupyter-widgets/controls",
            "_model_module_version": "1.5.0",
            "value": " 4.20k/? [00:00&lt;00:00, 17.0kB/s]",
            "_view_count": null,
            "_view_module_version": "1.5.0",
            "description_tooltip": null,
            "_model_module": "@jupyter-widgets/controls",
            "layout": "IPY_MODEL_d17d38585ea9431592adbf70ae88ad11"
          }
        },
        "3c4f34318aae4dfb94630b4901be1561": {
          "model_module": "@jupyter-widgets/controls",
          "model_name": "ProgressStyleModel",
          "state": {
            "_view_name": "StyleView",
            "_model_name": "ProgressStyleModel",
            "description_width": "initial",
            "_view_module": "@jupyter-widgets/base",
            "_model_module_version": "1.5.0",
            "_view_count": null,
            "_view_module_version": "1.2.0",
            "bar_color": null,
            "_model_module": "@jupyter-widgets/controls"
          }
        },
        "7f6f0140cccf412892423b32e43e82fd": {
          "model_module": "@jupyter-widgets/base",
          "model_name": "LayoutModel",
          "state": {
            "_view_name": "LayoutView",
            "grid_template_rows": null,
            "right": null,
            "justify_content": null,
            "_view_module": "@jupyter-widgets/base",
            "overflow": null,
            "_model_module_version": "1.2.0",
            "_view_count": null,
            "flex_flow": null,
            "width": null,
            "min_width": null,
            "border": null,
            "align_items": null,
            "bottom": null,
            "_model_module": "@jupyter-widgets/base",
            "top": null,
            "grid_column": null,
            "overflow_y": null,
            "overflow_x": null,
            "grid_auto_flow": null,
            "grid_area": null,
            "grid_template_columns": null,
            "flex": null,
            "_model_name": "LayoutModel",
            "justify_items": null,
            "grid_row": null,
            "max_height": null,
            "align_content": null,
            "visibility": null,
            "align_self": null,
            "height": null,
            "min_height": null,
            "padding": null,
            "grid_auto_rows": null,
            "grid_gap": null,
            "max_width": null,
            "order": null,
            "_view_module_version": "1.2.0",
            "grid_template_areas": null,
            "object_position": null,
            "object_fit": null,
            "grid_auto_columns": null,
            "margin": null,
            "display": null,
            "left": null
          }
        },
        "78ad9465d68342a7bd20df762eabbeb0": {
          "model_module": "@jupyter-widgets/controls",
          "model_name": "DescriptionStyleModel",
          "state": {
            "_view_name": "StyleView",
            "_model_name": "DescriptionStyleModel",
            "description_width": "",
            "_view_module": "@jupyter-widgets/base",
            "_model_module_version": "1.5.0",
            "_view_count": null,
            "_view_module_version": "1.2.0",
            "_model_module": "@jupyter-widgets/controls"
          }
        },
        "d17d38585ea9431592adbf70ae88ad11": {
          "model_module": "@jupyter-widgets/base",
          "model_name": "LayoutModel",
          "state": {
            "_view_name": "LayoutView",
            "grid_template_rows": null,
            "right": null,
            "justify_content": null,
            "_view_module": "@jupyter-widgets/base",
            "overflow": null,
            "_model_module_version": "1.2.0",
            "_view_count": null,
            "flex_flow": null,
            "width": null,
            "min_width": null,
            "border": null,
            "align_items": null,
            "bottom": null,
            "_model_module": "@jupyter-widgets/base",
            "top": null,
            "grid_column": null,
            "overflow_y": null,
            "overflow_x": null,
            "grid_auto_flow": null,
            "grid_area": null,
            "grid_template_columns": null,
            "flex": null,
            "_model_name": "LayoutModel",
            "justify_items": null,
            "grid_row": null,
            "max_height": null,
            "align_content": null,
            "visibility": null,
            "align_self": null,
            "height": null,
            "min_height": null,
            "padding": null,
            "grid_auto_rows": null,
            "grid_gap": null,
            "max_width": null,
            "order": null,
            "_view_module_version": "1.2.0",
            "grid_template_areas": null,
            "object_position": null,
            "object_fit": null,
            "grid_auto_columns": null,
            "margin": null,
            "display": null,
            "left": null
          }
        },
        "991ada91c1a24462b1dd72f5cab2ebd0": {
          "model_module": "@jupyter-widgets/controls",
          "model_name": "HBoxModel",
          "state": {
            "_view_name": "HBoxView",
            "_dom_classes": [],
            "_model_name": "HBoxModel",
            "_view_module": "@jupyter-widgets/controls",
            "_model_module_version": "1.5.0",
            "_view_count": null,
            "_view_module_version": "1.5.0",
            "box_style": "",
            "layout": "IPY_MODEL_dea698502dfc46e3a2ff5d5354d8acbe",
            "_model_module": "@jupyter-widgets/controls",
            "children": [
              "IPY_MODEL_cf95a90774654c309fc9207b11cd2c68",
              "IPY_MODEL_ec4057e5313d4207a06cad898236eee4"
            ]
          }
        },
        "dea698502dfc46e3a2ff5d5354d8acbe": {
          "model_module": "@jupyter-widgets/base",
          "model_name": "LayoutModel",
          "state": {
            "_view_name": "LayoutView",
            "grid_template_rows": null,
            "right": null,
            "justify_content": null,
            "_view_module": "@jupyter-widgets/base",
            "overflow": null,
            "_model_module_version": "1.2.0",
            "_view_count": null,
            "flex_flow": null,
            "width": null,
            "min_width": null,
            "border": null,
            "align_items": null,
            "bottom": null,
            "_model_module": "@jupyter-widgets/base",
            "top": null,
            "grid_column": null,
            "overflow_y": null,
            "overflow_x": null,
            "grid_auto_flow": null,
            "grid_area": null,
            "grid_template_columns": null,
            "flex": null,
            "_model_name": "LayoutModel",
            "justify_items": null,
            "grid_row": null,
            "max_height": null,
            "align_content": null,
            "visibility": null,
            "align_self": null,
            "height": null,
            "min_height": null,
            "padding": null,
            "grid_auto_rows": null,
            "grid_gap": null,
            "max_width": null,
            "order": null,
            "_view_module_version": "1.2.0",
            "grid_template_areas": null,
            "object_position": null,
            "object_fit": null,
            "grid_auto_columns": null,
            "margin": null,
            "display": null,
            "left": null
          }
        },
        "cf95a90774654c309fc9207b11cd2c68": {
          "model_module": "@jupyter-widgets/controls",
          "model_name": "FloatProgressModel",
          "state": {
            "_view_name": "ProgressView",
            "style": "IPY_MODEL_b16612566e4e43609443a35bcabcbb52",
            "_dom_classes": [],
            "description": "100%",
            "_model_name": "FloatProgressModel",
            "bar_style": "success",
            "max": 708,
            "_view_module": "@jupyter-widgets/controls",
            "_model_module_version": "1.5.0",
            "value": 708,
            "_view_count": null,
            "_view_module_version": "1.5.0",
            "orientation": "horizontal",
            "min": 0,
            "description_tooltip": null,
            "_model_module": "@jupyter-widgets/controls",
            "layout": "IPY_MODEL_c7afcd65c7e343afa21596492949027a"
          }
        },
        "ec4057e5313d4207a06cad898236eee4": {
          "model_module": "@jupyter-widgets/controls",
          "model_name": "HTMLModel",
          "state": {
            "_view_name": "HTMLView",
            "style": "IPY_MODEL_c574adf109f94fdc9e654a70d0ae6089",
            "_dom_classes": [],
            "description": "",
            "_model_name": "HTMLModel",
            "placeholder": "​",
            "_view_module": "@jupyter-widgets/controls",
            "_model_module_version": "1.5.0",
            "value": " 708/708 [40:40&lt;00:00,  3.45s/ba]",
            "_view_count": null,
            "_view_module_version": "1.5.0",
            "description_tooltip": null,
            "_model_module": "@jupyter-widgets/controls",
            "layout": "IPY_MODEL_615a08604cef4791a8ba21bd76a82a60"
          }
        },
        "b16612566e4e43609443a35bcabcbb52": {
          "model_module": "@jupyter-widgets/controls",
          "model_name": "ProgressStyleModel",
          "state": {
            "_view_name": "StyleView",
            "_model_name": "ProgressStyleModel",
            "description_width": "initial",
            "_view_module": "@jupyter-widgets/base",
            "_model_module_version": "1.5.0",
            "_view_count": null,
            "_view_module_version": "1.2.0",
            "bar_color": null,
            "_model_module": "@jupyter-widgets/controls"
          }
        },
        "c7afcd65c7e343afa21596492949027a": {
          "model_module": "@jupyter-widgets/base",
          "model_name": "LayoutModel",
          "state": {
            "_view_name": "LayoutView",
            "grid_template_rows": null,
            "right": null,
            "justify_content": null,
            "_view_module": "@jupyter-widgets/base",
            "overflow": null,
            "_model_module_version": "1.2.0",
            "_view_count": null,
            "flex_flow": null,
            "width": null,
            "min_width": null,
            "border": null,
            "align_items": null,
            "bottom": null,
            "_model_module": "@jupyter-widgets/base",
            "top": null,
            "grid_column": null,
            "overflow_y": null,
            "overflow_x": null,
            "grid_auto_flow": null,
            "grid_area": null,
            "grid_template_columns": null,
            "flex": null,
            "_model_name": "LayoutModel",
            "justify_items": null,
            "grid_row": null,
            "max_height": null,
            "align_content": null,
            "visibility": null,
            "align_self": null,
            "height": null,
            "min_height": null,
            "padding": null,
            "grid_auto_rows": null,
            "grid_gap": null,
            "max_width": null,
            "order": null,
            "_view_module_version": "1.2.0",
            "grid_template_areas": null,
            "object_position": null,
            "object_fit": null,
            "grid_auto_columns": null,
            "margin": null,
            "display": null,
            "left": null
          }
        },
        "c574adf109f94fdc9e654a70d0ae6089": {
          "model_module": "@jupyter-widgets/controls",
          "model_name": "DescriptionStyleModel",
          "state": {
            "_view_name": "StyleView",
            "_model_name": "DescriptionStyleModel",
            "description_width": "",
            "_view_module": "@jupyter-widgets/base",
            "_model_module_version": "1.5.0",
            "_view_count": null,
            "_view_module_version": "1.2.0",
            "_model_module": "@jupyter-widgets/controls"
          }
        },
        "615a08604cef4791a8ba21bd76a82a60": {
          "model_module": "@jupyter-widgets/base",
          "model_name": "LayoutModel",
          "state": {
            "_view_name": "LayoutView",
            "grid_template_rows": null,
            "right": null,
            "justify_content": null,
            "_view_module": "@jupyter-widgets/base",
            "overflow": null,
            "_model_module_version": "1.2.0",
            "_view_count": null,
            "flex_flow": null,
            "width": null,
            "min_width": null,
            "border": null,
            "align_items": null,
            "bottom": null,
            "_model_module": "@jupyter-widgets/base",
            "top": null,
            "grid_column": null,
            "overflow_y": null,
            "overflow_x": null,
            "grid_auto_flow": null,
            "grid_area": null,
            "grid_template_columns": null,
            "flex": null,
            "_model_name": "LayoutModel",
            "justify_items": null,
            "grid_row": null,
            "max_height": null,
            "align_content": null,
            "visibility": null,
            "align_self": null,
            "height": null,
            "min_height": null,
            "padding": null,
            "grid_auto_rows": null,
            "grid_gap": null,
            "max_width": null,
            "order": null,
            "_view_module_version": "1.2.0",
            "grid_template_areas": null,
            "object_position": null,
            "object_fit": null,
            "grid_auto_columns": null,
            "margin": null,
            "display": null,
            "left": null
          }
        }
      }
    }
  },
  "cells": [
    {
      "cell_type": "markdown",
      "metadata": {
        "id": "view-in-github",
        "colab_type": "text"
      },
      "source": [
        "<a href=\"https://colab.research.google.com/github/ngockhanh5110/nlp-vietnamese-text-summarization/blob/main/notebooks/inferencing_vietnews.ipynb\" target=\"_parent\"><img src=\"https://colab.research.google.com/assets/colab-badge.svg\" alt=\"Open In Colab\"/></a>"
      ]
    },
    {
      "cell_type": "code",
      "metadata": {
        "id": "A6hRf-gcm92k"
      },
      "source": [
        "# from google.colab import drive\n",
        "# drive.mount('/content/drive')"
      ],
      "execution_count": 1,
      "outputs": []
    },
    {
      "cell_type": "code",
      "metadata": {
        "id": "wgp6VBA8DQ-l",
        "colab": {
          "base_uri": "https://localhost:8080/"
        },
        "outputId": "7db2765a-28a9-4b13-f929-cbfab43baf0b"
      },
      "source": [
        "# Authenticate\r\n",
        "from google.colab import auth\r\n",
        "auth.authenticate_user()\r\n",
        "print('Authenticated')"
      ],
      "execution_count": 2,
      "outputs": [
        {
          "output_type": "stream",
          "text": [
            "Authenticated\n"
          ],
          "name": "stdout"
        }
      ]
    },
    {
      "cell_type": "code",
      "metadata": {
        "id": "Gx4Vg4cbEUJ_"
      },
      "source": [
        "OUTPUT_DIR = '/content/training/'"
      ],
      "execution_count": 3,
      "outputs": []
    },
    {
      "cell_type": "code",
      "metadata": {
        "id": "nVUAENd5DYp6"
      },
      "source": [
        "import random\r\n",
        "\r\n",
        "random.seed(0)"
      ],
      "execution_count": 4,
      "outputs": []
    },
    {
      "cell_type": "code",
      "metadata": {
        "id": "3_GCCIaj7ulj"
      },
      "source": [
        "%%capture\r\n",
        "\r\n",
        "!wget 'https://github.com/ThanhChinhBK/vietnews/archive/master.zip'\r\n",
        "!unzip 'master.zip'"
      ],
      "execution_count": 5,
      "outputs": []
    },
    {
      "cell_type": "code",
      "metadata": {
        "id": "YzywNFmeKVgx"
      },
      "source": [
        "%%capture\r\n",
        "\r\n",
        "# !wget 'https://github.com/CLC-HCMUS/ViMs-Dataset/raw/master/ViMs.zip'\r\n",
        "# !unzip 'ViMs.zip'\r\n",
        "\r\n",
        "# Install the vncorenlp python wrapper\r\n",
        "!pip install vncorenlp\r\n",
        "\r\n",
        "# Download VnCoreNLP-1.1.1.jar & its word segmentation component (i.e. RDRSegmenter) \r\n",
        "!mkdir -p vncorenlp/models/wordsegmenter\r\n",
        "!wget https://raw.githubusercontent.com/vncorenlp/VnCoreNLP/master/VnCoreNLP-1.1.1.jar\r\n",
        "!wget https://raw.githubusercontent.com/vncorenlp/VnCoreNLP/master/models/wordsegmenter/vi-vocab\r\n",
        "!wget https://raw.githubusercontent.com/vncorenlp/VnCoreNLP/master/models/wordsegmenter/wordsegmenter.rdr\r\n",
        "!mv VnCoreNLP-1.1.1.jar vncorenlp/ \r\n",
        "!mv vi-vocab vncorenlp/models/wordsegmenter/\r\n",
        "!mv wordsegmenter.rdr vncorenlp/models/wordsegmenter/\r\n",
        "!pip install datasets==1.0.2"
      ],
      "execution_count": 6,
      "outputs": []
    },
    {
      "cell_type": "code",
      "metadata": {
        "id": "TZYjioRkKviO"
      },
      "source": [
        "import glob\r\n",
        "import pandas as pd\r\n",
        "import concurrent.futures\r\n",
        "from datasets import *"
      ],
      "execution_count": 7,
      "outputs": []
    },
    {
      "cell_type": "markdown",
      "metadata": {
        "id": "4IteMtlc58-y"
      },
      "source": [
        "## Processing data"
      ]
    },
    {
      "cell_type": "code",
      "metadata": {
        "id": "oWuj00alIK5D"
      },
      "source": [
        "# from vncorenlp import VnCoreNLP\r\n",
        "# rdrsegmenter = VnCoreNLP(\"./vncorenlp/VnCoreNLP-1.1.1.jar\", annotators=\"wseg\", max_heap_size='-Xmx2g') "
      ],
      "execution_count": 8,
      "outputs": []
    },
    {
      "cell_type": "code",
      "metadata": {
        "id": "UVkc5HmK6Bdd"
      },
      "source": [
        "def listPaths(path):\r\n",
        "  pathfiles = list()\r\n",
        "  for pathfile in glob.glob(path):\r\n",
        "    pathfiles.append(pathfile)\r\n",
        "  return pathfiles\r\n",
        "\r\n",
        "train_paths = listPaths('/content/vietnews-master/data/train_tokenized/*')\r\n",
        "val_paths = listPaths('/content/vietnews-master/data/val_tokenized/*')\r\n",
        "test_paths = listPaths('/content/vietnews-master/data/test_tokenized/*')"
      ],
      "execution_count": 9,
      "outputs": []
    },
    {
      "cell_type": "code",
      "metadata": {
        "id": "YZ8pgIYN7zSW"
      },
      "source": [
        "def read_content(pathfile):\r\n",
        "  \"\"\"\r\n",
        "  Input: Path of txt file\r\n",
        "  Output: A dictionary has keys 'original' and 'summary'\r\n",
        "  \"\"\"\r\n",
        "  with open(pathfile) as f:\r\n",
        "    rows  = f.readlines()\r\n",
        "    original = ' '.join(''.join(rows[4:]).split('\\n'))\r\n",
        "    summary = ' '.join(rows[2].split('\\n'))\r\n",
        "          \r\n",
        "  return {'file' : pathfile,\r\n",
        "            'original': original, \r\n",
        "            'summary': summary}"
      ],
      "execution_count": 10,
      "outputs": []
    },
    {
      "cell_type": "code",
      "metadata": {
        "colab": {
          "base_uri": "https://localhost:8080/"
        },
        "id": "_716GF2iDTcD",
        "outputId": "65ffe2c7-79ca-435a-bbb1-0b1ccf6df370"
      },
      "source": [
        "read_content(train_paths[0])"
      ],
      "execution_count": 11,
      "outputs": [
        {
          "output_type": "execute_result",
          "data": {
            "text/plain": [
              "{'file': '/content/vietnews-master/data/train_tokenized/033889.txt.seg',\n",
              " 'original': 'Theo RT , liên_quân do Mỹ dẫn_đầu được cho là đã không_kích các vị_trí của quân_đội Syria tại khu_vực Al_Bukamal thuộc tỉnh Deir ez - Zor , phía Đông_Syria . Thông_tin trên được hãng thông_tấn nhà_nước Syria SANA trích_dẫn nguồn tin quân_sự cho_hay . Theo đó , cuộc không_kích nhằm vào một_số vị_trí của quân_đội Syria tại al - Harra , phía Đông nam khu_vực Al_Bukamal . Theo nguồn_tin này , vụ không_kích dẫn đến tổn_thất về nhân_lực của quân_đội Syria , tuy_nhiên con_số thương_vong cụ_thể chưa được công_bố . Vụ không_kích này có_thể do một_số máy_bay_không_người_lái ( UAV ) của Mỹ thực_hiện , đồng_thời vụ không_kích này được cho là nhằm vào một_số vị_trí của lực_lượng Iraq và quân_đội Chính_phủ Syria tại khu_vực giữa Al_Bukamal và Tanf . Tuy_nhiên , hiện Lầu_Năm_Góc phủ_nhận có liên_quan tới vụ_việc . Đây không phải là vụ không kích đầu_tiên nhằm vào lực_lượng quân_đội Syria và các lực_lượng ủng_hộ Chính_phủ Syria tại Deir ez - Zor , nơi Lực_lượng Syria Dân_chủ ( SDF ) do phương Tây hậu_thuẫn đang hoạt_động . Lực_lượng SDF với sự hỗ_trợ của liên_minh chống IS do Mỹ dẫn_đầu bắt_đầu triển_khai chiến_dịch vào ngày 1/5/2018 với mục_tiêu quét sạch những chiến_binh thánh_chiến còn sót lại tại khu_vực biên_giới Syria – Iraq và trung_tâm thung_lũng sông Euphrates . Để giúp lực_lượng đồng_minh giành được vị_trí trên mặt_đất , liên_minh này thực_hiện 225 vụ không_kích với 280 lần đụng_độ chỉ trong tháng 5 . Liên_quân do Mỹ dẫn_đầu đang ủng_hộ các nhóm vũ_trang người Kurds và Arab tại Syria đối_phó với nhóm Nhà_nước Hồi_giáo tự_xưng ( IS ) ở khu_vực Đông_Bắc_Albu_Kamal . Mặc_dù quân_đội Syria cùng với sự hỗ_trợ của các lực_lượng đã kiểm_soát được khu_vực cùng những vùng phụ_cận vào năm_ngoái , nhưng nhóm phiến quân này vẫn thực_hiện các vụ tấn_công trong khu_vực . Xem thêm > > Israel hé lộ tên_lửa có_thể xuyên thủng mọi lá_chắn phòng_không ở Trung_Đông  ',\n",
              " 'summary': 'Lực_lượng liên_quân do Mỹ dẫn_đầu được cho là đã không kích ồ_ạt vào một trong những căn_cứ của quân_đội Syria tại phía Đông quốc_gia Trung_Đông này . '}"
            ]
          },
          "metadata": {
            "tags": []
          },
          "execution_count": 11
        }
      ]
    },
    {
      "cell_type": "code",
      "metadata": {
        "id": "Wm5kLJD_840E"
      },
      "source": [
        "def get_dataframe(pathfiles):\r\n",
        "  with concurrent.futures.ProcessPoolExecutor() as executor:\r\n",
        "    data = executor.map(read_content, pathfiles)\r\n",
        "  \r\n",
        "  # Make blank dataframe\r\n",
        "  data_df = list()\r\n",
        "  for d in data:\r\n",
        "    data_df.append(d)\r\n",
        "  data_df = pd.DataFrame(data_df)\r\n",
        "  data_df.dropna(inplace = True)\r\n",
        "  data_df = data_df.sample(frac=1).reset_index(drop=True)\r\n",
        "\r\n",
        "  return data_df"
      ],
      "execution_count": 12,
      "outputs": []
    },
    {
      "cell_type": "code",
      "metadata": {
        "id": "d4c0pl5BAl3f"
      },
      "source": [
        "# train_df = get_dataframe(train_paths)"
      ],
      "execution_count": 13,
      "outputs": []
    },
    {
      "cell_type": "code",
      "metadata": {
        "id": "DgMgMnisA0cf"
      },
      "source": [
        "test_df = get_dataframe(test_paths)"
      ],
      "execution_count": 14,
      "outputs": []
    },
    {
      "cell_type": "markdown",
      "metadata": {
        "id": "H1F58j028eTV"
      },
      "source": [
        "## **Warm-starting RoBERTaShared for BBC XSum**\n",
        "\n",
        "***Note***: This notebook only uses a few training, validation, and test data samples for demonstration purposes. To fine-tune an encoder-decoder model on the full training data, the user should change the training and data preprocessing parameters accordingly as highlighted by the comments.\n"
      ]
    },
    {
      "cell_type": "markdown",
      "metadata": {
        "id": "3FO5ESocXvlK"
      },
      "source": [
        "### **Data Preprocessing**\n"
      ]
    },
    {
      "cell_type": "code",
      "metadata": {
        "id": "w67vkz3KP9eZ"
      },
      "source": [
        "%%capture\n",
        "!pip install datasets==1.0.2\n",
        "!pip install transformers\n",
        "\n",
        "import datasets\n",
        "import transformers"
      ],
      "execution_count": 15,
      "outputs": []
    },
    {
      "cell_type": "code",
      "metadata": {
        "id": "sgTiC0rhMb7C"
      },
      "source": [
        "from transformers import RobertaTokenizerFast,AutoTokenizer\n"
      ],
      "execution_count": 16,
      "outputs": []
    },
    {
      "cell_type": "code",
      "metadata": {
        "id": "U08MrUK9LcUM"
      },
      "source": [
        "from sklearn.model_selection import train_test_split\r\n",
        "\r\n",
        "# train_data =  Dataset.from_pandas(train_df)"
      ],
      "execution_count": 17,
      "outputs": []
    },
    {
      "cell_type": "code",
      "metadata": {
        "id": "gzRvi4dEiMS9"
      },
      "source": [
        "test_data =  Dataset.from_pandas(test_df)"
      ],
      "execution_count": 18,
      "outputs": []
    },
    {
      "cell_type": "markdown",
      "metadata": {
        "id": "u98CLZiTkgzv"
      },
      "source": [
        "### **Fine-Tuning Warm-Started Encoder-Decoder Models**"
      ]
    },
    {
      "cell_type": "markdown",
      "metadata": {
        "id": "-gYzA-w96wCt"
      },
      "source": [
        "The `Seq2SeqTrainer` that can be found under [examples/seq2seq/seq2seq_trainer.py](https://github.com/huggingface/transformers/blob/master/examples/seq2seq/seq2seq_trainer.py) will be used to fine-tune a warm-started encoder-decoder model.\n",
        "\n",
        "Let's download the `Seq2SeqTrainer` code and import the module along with `TrainingArguments`."
      ]
    },
    {
      "cell_type": "code",
      "metadata": {
        "id": "pyiwaF0noA5c"
      },
      "source": [
        "%%capture\n",
        "!rm seq2seq_trainer.py\n",
        "!wget https://raw.githubusercontent.com/huggingface/transformers/master/examples/seq2seq/seq2seq_trainer.py\n",
        "\n",
        "!pip install git-python==1.0.3\n",
        "!pip install sacrebleu==1.4.12\n",
        "!pip install rouge_score\n",
        "\n",
        "from seq2seq_trainer import Seq2SeqTrainer\n",
        "from transformers import TrainingArguments\n",
        "from dataclasses import dataclass, field\n",
        "from typing import Optional"
      ],
      "execution_count": 19,
      "outputs": []
    },
    {
      "cell_type": "markdown",
      "metadata": {
        "id": "5nmQRT3XuHHz"
      },
      "source": [
        "We need to add some additional parameters to make `TrainingArguments` compatible with the `Seq2SeqTrainer`. Let's just copy the `dataclass` arguments as defined in [this file](https://github.com/patrickvonplaten/transformers/blob/make_seq2seq_trainer_self_contained/examples/seq2seq/finetune_trainer.py)."
      ]
    },
    {
      "cell_type": "markdown",
      "metadata": {
        "id": "dPUAgo7pxH24"
      },
      "source": [
        "Also, we need to define a function to correctly compute the ROUGE score during validation. ROUGE is a much better metric to track during training than only language modeling loss."
      ]
    },
    {
      "cell_type": "code",
      "metadata": {
        "id": "BQgzLsU_MJyz"
      },
      "source": [
        "import datasets"
      ],
      "execution_count": 20,
      "outputs": []
    },
    {
      "cell_type": "code",
      "metadata": {
        "id": "68IHmFYLx09W",
        "outputId": "02c51a1a-5aec-442b-dcb9-075a145b47e1",
        "colab": {
          "base_uri": "https://localhost:8080/",
          "height": 66,
          "referenced_widgets": [
            "22f78a4069864febaa62d0db307b8cd0",
            "f67a2fcaae0748159e1cb40a3f24c199",
            "07f57c3189a54fb8839d6c2088e85a72",
            "9cb7ad15568a4059bff5435144cff4c1",
            "3c4f34318aae4dfb94630b4901be1561",
            "7f6f0140cccf412892423b32e43e82fd",
            "78ad9465d68342a7bd20df762eabbeb0",
            "d17d38585ea9431592adbf70ae88ad11"
          ]
        }
      },
      "source": [
        "# load rouge for validation\n",
        "rouge = datasets.load_metric(\"rouge\")\n",
        "\n",
        "def compute_metrics(pred):\n",
        "    labels_ids = pred.label_ids\n",
        "    pred_ids = pred.predictions\n",
        "\n",
        "    # all unnecessary tokens are removed\n",
        "    pred_str = tokenizer.batch_decode(pred_ids, skip_special_tokens=True)\n",
        "    labels_ids[labels_ids == -100] = tokenizer.pad_token_id\n",
        "    label_str = tokenizer.batch_decode(labels_ids, skip_special_tokens=True)\n",
        "\n",
        "    rouge_output = rouge.compute(predictions=pred_str, references=label_str, rouge_types=[\"rouge2\"])[\"rouge2\"].mid\n",
        "\n",
        "    return {\n",
        "        \"rouge2_precision\": round(rouge_output.precision, 4),\n",
        "        \"rouge2_recall\": round(rouge_output.recall, 4),\n",
        "        \"rouge2_fmeasure\": round(rouge_output.fmeasure, 4),\n",
        "    }"
      ],
      "execution_count": 21,
      "outputs": [
        {
          "output_type": "display_data",
          "data": {
            "application/vnd.jupyter.widget-view+json": {
              "model_id": "22f78a4069864febaa62d0db307b8cd0",
              "version_minor": 0,
              "version_major": 2
            },
            "text/plain": [
              "HBox(children=(FloatProgress(value=0.0, description='Downloading', max=1717.0, style=ProgressStyle(description…"
            ]
          },
          "metadata": {
            "tags": []
          }
        },
        {
          "output_type": "stream",
          "text": [
            "\n"
          ],
          "name": "stdout"
        }
      ]
    },
    {
      "cell_type": "markdown",
      "metadata": {
        "id": "ZwQIEhKOrJpl"
      },
      "source": [
        "### **Evaluation**\n",
        "\n",
        "Awesome, we finished training our dummy model. Let's now evaluated the model on the test data. We make use of the dataset's handy `.map()` function to generate a summary of each sample of the test data."
      ]
    },
    {
      "cell_type": "code",
      "metadata": {
        "id": "T1YN8JZ4kRIw"
      },
      "source": [
        "!mkdir 'training'"
      ],
      "execution_count": 24,
      "outputs": []
    },
    {
      "cell_type": "code",
      "metadata": {
        "id": "7854KKs6EY4x",
        "outputId": "35422e40-140d-4d96-c599-d441d2890b8a",
        "colab": {
          "base_uri": "https://localhost:8080/"
        }
      },
      "source": [
        "!gsutil -m cp -r 'gs://kaggle-vbdi-test/training_data/checkpoint-5000/*' '/content/training/' "
      ],
      "execution_count": 27,
      "outputs": [
        {
          "output_type": "stream",
          "text": [
            "Copying gs://kaggle-vbdi-test/training_data/checkpoint-5000/optimizer.pt...\n",
            "/ [0/6 files][    0.0 B/  1.8 GiB]   0% Done                                    \rCopying gs://kaggle-vbdi-test/training_data/checkpoint-5000/scheduler.pt...\n",
            "/ [0/6 files][    0.0 B/  1.8 GiB]   0% Done                                    \rCopying gs://kaggle-vbdi-test/training_data/checkpoint-5000/trainer_state.json...\n",
            "/ [0/6 files][    0.0 B/  1.8 GiB]   0% Done                                    \rCopying gs://kaggle-vbdi-test/training_data/checkpoint-5000/config.json...\n",
            "/ [0/6 files][    0.0 B/  1.8 GiB]   0% Done                                    \rCopying gs://kaggle-vbdi-test/training_data/checkpoint-5000/pytorch_model.bin...\n",
            "Copying gs://kaggle-vbdi-test/training_data/checkpoint-5000/training_args.bin...\n",
            "/ [6/6 files][  1.8 GiB/  1.8 GiB] 100% Done  48.0 MiB/s ETA 00:00:00           \n",
            "Operation completed over 6 objects/1.8 GiB.                                      \n"
          ],
          "name": "stdout"
        }
      ]
    },
    {
      "cell_type": "code",
      "metadata": {
        "id": "oOoSrwWarJAC",
        "colab": {
          "base_uri": "https://localhost:8080/",
          "height": 66,
          "referenced_widgets": [
            "991ada91c1a24462b1dd72f5cab2ebd0",
            "dea698502dfc46e3a2ff5d5354d8acbe",
            "cf95a90774654c309fc9207b11cd2c68",
            "ec4057e5313d4207a06cad898236eee4",
            "b16612566e4e43609443a35bcabcbb52",
            "c7afcd65c7e343afa21596492949027a",
            "c574adf109f94fdc9e654a70d0ae6089",
            "615a08604cef4791a8ba21bd76a82a60"
          ]
        },
        "outputId": "afade10f-fd76-4b95-f856-f263d7ca416c"
      },
      "source": [
        "import datasets\n",
        "from transformers import RobertaTokenizer, EncoderDecoderModel, AutoTokenizer\n",
        "from sklearn.model_selection import train_test_split\n",
        "\n",
        "tokenizer = AutoTokenizer.from_pretrained(\"vinai/phobert-base\", use_fast=False)\n",
        "\n",
        "model = EncoderDecoderModel.from_pretrained('/content/training')\n",
        "model.to(\"cuda\")\n",
        "\n",
        "# test_data = datasets.load_dataset(\"xsum\", split=\"test\")\n",
        "\n",
        "batch_size = 32  # change to 64 for full evaluation\n",
        "\n",
        "# map data correctly\n",
        "def generate_summary(batch):\n",
        "    # Tokenizer will automatically set [BOS] <text> [EOS]\n",
        "    inputs = tokenizer(batch[\"original\"], padding=\"max_length\", truncation=True, max_length=256, return_tensors=\"pt\")\n",
        "    input_ids = inputs.input_ids.to(\"cuda\")\n",
        "    attention_mask = inputs.attention_mask.to(\"cuda\")\n",
        "\n",
        "    outputs = model.generate(input_ids, attention_mask=attention_mask)\n",
        "\n",
        "    # all special tokens including will be removed\n",
        "    output_str = tokenizer.batch_decode(outputs, skip_special_tokens=True)\n",
        "\n",
        "    batch[\"pred\"] = output_str\n",
        "\n",
        "    return batch\n",
        "\n",
        "results = test_data.map(generate_summary, batched=True, batch_size=batch_size, remove_columns=[\"original\"])\n",
        "\n",
        "pred_str = results[\"pred\"]\n",
        "label_str = results[\"summary\"]"
      ],
      "execution_count": 28,
      "outputs": [
        {
          "output_type": "display_data",
          "data": {
            "application/vnd.jupyter.widget-view+json": {
              "model_id": "991ada91c1a24462b1dd72f5cab2ebd0",
              "version_major": 2,
              "version_minor": 0
            },
            "text/plain": [
              "HBox(children=(FloatProgress(value=0.0, max=708.0), HTML(value='')))"
            ]
          },
          "metadata": {
            "tags": []
          }
        },
        {
          "output_type": "stream",
          "text": [
            "\n"
          ],
          "name": "stdout"
        }
      ]
    },
    {
      "cell_type": "code",
      "metadata": {
        "id": "NHl8NMjEiTb6"
      },
      "source": [
        "rouge_output = rouge.compute(predictions=pred_str, references=label_str, rouge_types=[\"rouge1\",\"rouge2\",\"rougeL\"])"
      ],
      "execution_count": 29,
      "outputs": []
    },
    {
      "cell_type": "code",
      "metadata": {
        "id": "13HUSVh4-CAk",
        "colab": {
          "base_uri": "https://localhost:8080/"
        },
        "outputId": "daf80fde-7406-4cbc-d22a-a2cc83ddd6b4"
      },
      "source": [
        "for key,value in rouge_output.items():\r\n",
        "  print(key)\r\n",
        "  print(value.mid)"
      ],
      "execution_count": 30,
      "outputs": [
        {
          "output_type": "stream",
          "text": [
            "rouge1\n",
            "Score(precision=0.5941934140108612, recall=0.519659224472204, fmeasure=0.5429459937735283)\n",
            "rouge2\n",
            "Score(precision=0.22187960217910824, recall=0.19439264344591123, fmeasure=0.2028052420247029)\n",
            "rougeL\n",
            "Score(precision=0.36592791774158084, recall=0.32054213434134515, fmeasure=0.33452800500084656)\n"
          ],
          "name": "stdout"
        }
      ]
    },
    {
      "cell_type": "code",
      "metadata": {
        "id": "Y8R5CclwUGuC",
        "colab": {
          "base_uri": "https://localhost:8080/"
        },
        "outputId": "d1563bfa-1fe6-4792-e4a4-88190276bd26"
      },
      "source": [
        "i = 600\r\n",
        "print('Prediction: ',pred_str[i])\r\n",
        "print('Truth: ',label_str[i])\r\n",
        "print('Content: ',test_data[i]['original'])"
      ],
      "execution_count": 70,
      "outputs": [
        {
          "output_type": "stream",
          "text": [
            "Prediction:  Trong tỉnh Thừa_Thiên - Huế, ba người chết và mất_tích trong vụ lũ cuốn trôi nhà dân ở huyện Quảng_Điền ( Thừa_Thiên_Huế ).\n",
            "Truth:  Nước lũ đã rút từ đêm qua , nhưng hôm_nay lại lên do trời mưa to . Toàn tỉnh có hơn 70.000 căn nhà bị ngập , 9 người chết . \n",
            "Content:  Sáng 7/11 , lực_lượng chức_năng đã tìm thấy thi_thể ông Phan_Văn_Quốc và con_gái Phan_Thị_Thuý ( 24 tuổi , xã Thuỷ_Thanh , thị_xã Hương_Thuỷ ) . Cha_con ông Quốc bị lũ cuốn mất_tích trên đường đi làm sáng 5/11 . Ngoài hai nạn_nhân này , tỉnh còn 7 người chết do lũ cuốn . Hơn 70.200 căn nhà bị ngập sâu 0,2-0,8 m . 10 km bờ biển sạt_lở , nhiều diện_tích hoa_màu bị ngập , hàng trăm tấn cá nuôi của người_dân bị chết . Nước lũ ở huyện Quảng_Điền còn ngập sâu . Ông Phan_Thanh_Hùng , Ban chỉ_huy phòng_chống thiên_tai và tìm_kiếm cứu nạn tỉnh cho biết , đợt lũ này mực nước lớn nhất trên sông Hương , sông Bồ đều vượt báo_động 3 , trong đó nước sông Bồ xấp_xỉ đỉnh lũ lịch_sử 1999 ( 5,18 m ) . Đêm qua lũ các sông đã giảm nhiều so với mức đỉnh , nhưng sáng nay mưa lớn ở thượng_lưu khiến lũ lên trở_lại . Tại thành_phố Huế , 45.200 căn nhà bị ngập 0,3-0,8 m , hơn 80 % tuyến đường của 25 phường đã ngập bình_quân 0,5-1,3 m . Tại huyện Quảng_Điền , hạ_lưu của dòng sông Hương và sông Bồ , hàng nghìn hộ dân đang bị cô_lập . Mưa to liên_tục nên mực nước sông Bồ đoạn qua huyện sau một đêm hạ đã lên trở_lại . Ông Hoàng_Đăng_Khoa , Bí_thư huyện Quảng_Điền cho biết , đợt lũ này khiến hàng trăm tấn cá lồng của người_dân xã Quảng_Phú , Quảng_Thọ nuôi dọc sông Bồ bị chết , trong đó có 13 lồng bị lũ cuốn trôi . Hiện_nay , các xã ở Quảng_An , Quảng_Thành , Quảng_Thọ với hàng nghìn hộ dân vẫn bị cô_lập . Theo ông Khoa , người_dân huyện Quảng_Điền đã quen với mưa_lũ nên có sự chuẩn_bị trước . Toàn huyện có một người chết là chị Đoàn_Thị_Phương ( 48 tuổi , thị_trấn Sịa ) do lật thuyền . Chính_quyền đang chuẩn_bị phương_án ứng_phó khi lũ lên , đặc_biệt là vùng thấp trũng . Cá lồng trên sông Bồ chết do nước lũ lên nhanh . Mưa lớn đã gây sạt_lở các tuyến đường lên huyện miền núi Nam_Đông và A_Lưới . Quốc_lộ 49A từ TP Huế lên huyện A_Lưới bị sạt 6 điểm ở đèo A_Co , đèo Tà_Lương ( xã Hồng_Hạ ) , cầu Chai 1 , 2 ( xã Đông_Sơn ) . Tỉnh_lộ 14B lên huyện Nam_Đông bị sạt 4 điểm ở đoạn đèo La_Hi , giao_thông ách_tắc . Mưa_lũ cũng khiến nhiều trường_học bị ngập sâu 0,6-1 m . Học_sinh các huyện Phú_Vang , Quảng_Điền , Phú_Lộc , TP Huế vẫn chưa_thể đến trường . 6h ngày 4/11 , bão Damrey đổ_bộ Phú_Yên - Khánh_Hoà , mạnh cấp 12 ( 135 km/h ) . 13h , tiến sâu vào nam Tây_Nguyên , bão giảm còn cấp 9 ( 90 km/h ) và đến 15h cùng ngày thì suy_yếu thành áp_thấp_nhiệt_đới khi ở biên_giới Việt_Nam - Campuchia . Trong 9 tiếng hoành_hành , bão đã gây gió mạnh , mưa to suốt từ Thừa_Thiên_Huế tới Bình_Thuận và các tỉnh Tây_Nguyên . Lũ các sông dâng cao , hầu_hết vượt báo_động 3 , một_số nơi gần chạm mức lũ lịch_sử năm 2013 và 2009 . Thống_kê đến tối 7/11 có 89 người chết , 18 người mất_tích , chủ_yếu do sập nhà , sạt_lở đất , chìm tàu và lũ cuốn .   Nước lũ ở huyện Quảng_Điền còn ngập sâu . \n"
          ],
          "name": "stdout"
        }
      ]
    },
    {
      "cell_type": "code",
      "metadata": {
        "id": "n4kLAIQSr5g2",
        "colab": {
          "base_uri": "https://localhost:8080/",
          "height": 35
        },
        "outputId": "ae37d717-a440-48af-9017-d5fc990ca7bd"
      },
      "source": [
        "test_data[i]['file']"
      ],
      "execution_count": 34,
      "outputs": [
        {
          "output_type": "execute_result",
          "data": {
            "application/vnd.google.colaboratory.intrinsic+json": {
              "type": "string"
            },
            "text/plain": [
              "'/content/vietnews-master/data/test_tokenized/016385.txt.seg'"
            ]
          },
          "metadata": {
            "tags": []
          },
          "execution_count": 34
        }
      ]
    },
    {
      "cell_type": "code",
      "metadata": {
        "id": "D__lCYyZvFhr"
      },
      "source": [
        "from vncorenlp import VnCoreNLP\r\n",
        "\r\n",
        "rdrsegmenter = VnCoreNLP(\"./vncorenlp/VnCoreNLP-1.1.1.jar\", annotators=\"wseg\", max_heap_size='-Xmx2g') "
      ],
      "execution_count": 36,
      "outputs": []
    },
    {
      "cell_type": "code",
      "metadata": {
        "id": "wWa2uIUHzY1R"
      },
      "source": [
        "text = '''\r\n",
        "Theo tin từ Ban chỉ huy phòng chống lụt bão tỉnh Quảng Bình, ngày 26-11, mưa lớn đã làm ngập 100 ngôi nhà, chủ yếu ở huyện miền núi Tuyên Hóa, 65ha ngô đông và hàng trăm ha rau màu bị ngập. Hơn 300ha ao hồ nuôi tôm và các loại thủy sản nước ngọt có nguy cơ bị mất trắng. Hiện đã có một người chết do lũ cuốn trôi. Riêng vụ lật đò ngang trên thượng nguồn sông Gianh vào sáng 26-11 đã làm một người mất tích, ba người bị thương nặng.\r\n",
        "\r\n",
        "Tại Quảng Trị, mưa lớn trong các ngày 24, 25 và 26-11 đã khiến nhiều vùng trên địa bàn bị ngập lụt nặng. Đã có hai nạn nhân thiệt mạng trong hai ngày mưa lũ vừa qua. \r\n",
        "\r\n",
        "Mưa lũ lớn đã làm nhiều đoạn đường Hồ Chí Minh bị sạt lở gây ách tắc giao thông tại các điểm km28, km42, km49 (tính từ cầu Đakrông vào). Chiều 26-11 sạt thêm các đoạn km10, km31, km28. Hiện ở vị trí km31 giao thông đang tắc nghẽn hoàn toàn do đoạn sạt này dài hơn 100m. Tuyến đường du lịch “đường Hồ Chí Minh huyền thoại” cũng bị sạt lở dài hơn 150m từ km28 đi vào theo tuyến xã Tà Long.\r\n",
        "\r\n",
        "Tại Cửa Tùng (huyện Vĩnh Linh), có ba tàu đánh cá của ngư dân thôn An Hòa 3 bị sóng đánh trôi ra biển, nhân dân địa phương đã tổ chức cứu được hai tàu, còn một chiếc không tìm được.\r\n",
        "\r\n",
        "Riêng khu vực đồng bằng huyện Hải Lăng đã chìm sâu trong nước, hệ thống giao thông liên huyện, liên xã bị chia cắt hoàn toàn với hơn 8.000 hộ dân, có nhà bị ngập từ 0,5-1m. Cũng theo báo cáo của huyện này chưa có thiệt hại về người nhưng hiện mọi người đang lo lắng cho số phận của 15 người dân ở xã Hải Lâm đi trồng rừng nay vẫn chưa thấy về...\r\n",
        "'''"
      ],
      "execution_count": 74,
      "outputs": []
    },
    {
      "cell_type": "code",
      "metadata": {
        "id": "XUXmH90UznVP",
        "colab": {
          "base_uri": "https://localhost:8080/",
          "height": 120
        },
        "outputId": "5ac85c98-a3de-4dbc-8620-747edc984e3c"
      },
      "source": [
        "text = rdrsegmenter.tokenize(text)\r\n",
        "text = ' '.join([' '.join(x) for x in text])\r\n",
        "text"
      ],
      "execution_count": 75,
      "outputs": [
        {
          "output_type": "execute_result",
          "data": {
            "application/vnd.google.colaboratory.intrinsic+json": {
              "type": "string"
            },
            "text/plain": [
              "'Theo tin từ Ban chỉ_huy phòng_chống lụt_bão tỉnh Quảng_Bình , ngày 26-11 , mưa lớn đã làm ngập 100 ngôi nhà , chủ_yếu ở huyện miền núi Tuyên_Hoá , 65ha ngô đông và hàng trăm ha rau_màu bị ngập . Hơn 300ha ao_hồ nuôi tôm và các loại thuỷ_sản nước_ngọt có nguy_cơ bị mất_trắng . Hiện đã có một người chết do lũ cuốn trôi . Riêng vụ lật đò_ngang trên thượng_nguồn sông Gianh vào sáng 26-11 đã làm một người mất_tích , ba người bị_thương nặng . Tại Quảng_Trị , mưa lớn trong các ngày 24 , 25 và 26-11 đã khiến nhiều vùng trên địa_bàn bị ngập_lụt nặng . Đã có hai nạn_nhân thiệt_mạng trong hai ngày mưa_lũ vừa_qua . Mưa_lũ lớn đã làm nhiều đoạn đường Hồ_Chí_Minh bị sạt_lở gây ách_tắc giao_thông tại các điểm km28 , km42 , km49 ( tính từ cầu Đakrông vào ) . Chiều 26-11 sạt thêm các đoạn km10 , km31 , km2 8 . Hiện ở vị_trí km31 giao_thông đang tắc_nghẽn hoàn_toàn do đoạn sạt này dài hơn 100m . Tuyến đường du_lịch “ đường Hồ_Chí_Minh huyền_thoại ” cũng bị sạt_lở dài hơn 150m từ km28 đi vào theo tuyến xã Tà_Long . Tại Cửa_Tùng ( huyện Vĩnh_Linh ) , có ba tàu đánh_cá của ngư_dân thôn An_Hoà 3 bị sóng đánh trôi ra biển , nhân_dân địa_phương đã tổ_chức cứu được hai tàu , còn một chiếc không tìm được . Riêng khu_vực đồng_bằng huyện Hải_Lăng đã chìm sâu trong nước , hệ_thống giao_thông liên huyện , liên xã bị chia_cắt hoàn_toàn với hơn 8.000 hộ dân , có nhà bị ngập từ 0,5-1 m . Cũng theo báo_cáo của huyện này chưa có thiệt_hại về người nhưng hiện mọi người đang lo_lắng cho số_phận của 15 người_dân ở xã Hải_Lâm đi trồng rừng nay vẫn chưa thấy về ...'"
            ]
          },
          "metadata": {
            "tags": []
          },
          "execution_count": 75
        }
      ]
    },
    {
      "cell_type": "code",
      "metadata": {
        "id": "eCQ5zA96zuzu",
        "colab": {
          "base_uri": "https://localhost:8080/"
        },
        "outputId": "06f40386-6833-4929-dbac-7e438a533d1d"
      },
      "source": [
        "inputs = tokenizer(text, padding=\"max_length\", truncation=True, max_length=256, return_tensors=\"pt\")\r\n",
        "input_ids = inputs.input_ids.to(\"cuda\")\r\n",
        "attention_mask = inputs.attention_mask.to(\"cuda\")\r\n",
        "\r\n",
        "outputs = model.generate(input_ids, attention_mask=attention_mask)\r\n",
        "\r\n",
        "# all special tokens including will be removed\r\n",
        "output_str = tokenizer.batch_decode(outputs, skip_special_tokens=True)\r\n",
        "output_str"
      ],
      "execution_count": 76,
      "outputs": [
        {
          "output_type": "execute_result",
          "data": {
            "text/plain": [
              "['Mưa mưa lớn kéo_dài khiến nhiều tuyến đường ở Quảng_Bình bị ngập sâu, hàng chục nhà dân bị tốc mái, hàng trăm ngôi nhà bị sập.']"
            ]
          },
          "metadata": {
            "tags": []
          },
          "execution_count": 76
        }
      ]
    },
    {
      "cell_type": "code",
      "metadata": {
        "id": "H06_kgjD3ftO"
      },
      "source": [
        ""
      ],
      "execution_count": null,
      "outputs": []
    }
  ]
}