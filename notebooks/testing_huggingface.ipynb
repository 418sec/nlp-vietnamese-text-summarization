{
  "nbformat": 4,
  "nbformat_minor": 0,
  "metadata": {
    "colab": {
      "name": "testing-huggingface",
      "provenance": [],
      "include_colab_link": true
    },
    "kernelspec": {
      "display_name": "Python 3",
      "name": "python3"
    }
  },
  "cells": [
    {
      "cell_type": "markdown",
      "metadata": {
        "id": "view-in-github",
        "colab_type": "text"
      },
      "source": [
        "<a href=\"https://colab.research.google.com/github/ngockhanh5110/nlp-vietnamese-text-summarization/blob/main/notebooks/testing_huggingface.ipynb\" target=\"_parent\"><img src=\"https://colab.research.google.com/assets/colab-badge.svg\" alt=\"Open In Colab\"/></a>"
      ]
    },
    {
      "cell_type": "code",
      "metadata": {
        "id": "YzywNFmeKVgx"
      },
      "source": [
        "%%capture\r\n",
        "\r\n",
        "!wget 'https://github.com/CLC-HCMUS/ViMs-Dataset/raw/master/ViMs.zip'\r\n",
        "!unzip 'ViMs.zip'\r\n",
        "\r\n",
        "# Install the vncorenlp python wrapper\r\n",
        "!pip install vncorenlp\r\n",
        "\r\n",
        "# Download VnCoreNLP-1.1.1.jar & its word segmentation component (i.e. RDRSegmenter) \r\n",
        "!mkdir -p vncorenlp/models/wordsegmenter\r\n",
        "!wget https://raw.githubusercontent.com/vncorenlp/VnCoreNLP/master/VnCoreNLP-1.1.1.jar\r\n",
        "!wget https://raw.githubusercontent.com/vncorenlp/VnCoreNLP/master/models/wordsegmenter/vi-vocab\r\n",
        "!wget https://raw.githubusercontent.com/vncorenlp/VnCoreNLP/master/models/wordsegmenter/wordsegmenter.rdr\r\n",
        "!mv VnCoreNLP-1.1.1.jar vncorenlp/ \r\n",
        "!mv vi-vocab vncorenlp/models/wordsegmenter/\r\n",
        "!mv wordsegmenter.rdr vncorenlp/models/wordsegmenter/\r\n",
        "!pip install datasets==1.0.2"
      ],
      "execution_count": null,
      "outputs": []
    },
    {
      "cell_type": "code",
      "metadata": {
        "id": "TZYjioRkKviO"
      },
      "source": [
        "import glob\r\n",
        "import pandas as pd\r\n",
        "import concurrent.futures\r\n",
        "from datasets import *"
      ],
      "execution_count": null,
      "outputs": []
    },
    {
      "cell_type": "markdown",
      "metadata": {
        "id": "4IteMtlc58-y"
      },
      "source": [
        "## Processing data"
      ]
    },
    {
      "cell_type": "code",
      "metadata": {
        "id": "oWuj00alIK5D"
      },
      "source": [
        "from vncorenlp import VnCoreNLP\r\n",
        "rdrsegmenter = VnCoreNLP(\"./vncorenlp/VnCoreNLP-1.1.1.jar\", annotators=\"wseg\", max_heap_size='-Xmx2g') "
      ],
      "execution_count": null,
      "outputs": []
    },
    {
      "cell_type": "code",
      "metadata": {
        "id": "UVkc5HmK6Bdd"
      },
      "source": [
        "pathfiles = list()\r\n",
        "for pathdir in glob.glob('/content/ViMs/original/*'):\r\n",
        "  for pathfile in glob.glob(pathdir + '/original/*'):\r\n",
        "    pathfiles.append(pathfile)"
      ],
      "execution_count": null,
      "outputs": []
    },
    {
      "cell_type": "code",
      "metadata": {
        "id": "YZ8pgIYN7zSW"
      },
      "source": [
        "def read_content(pathfile):\r\n",
        "  \"\"\"\r\n",
        "  Input: Path of txt file\r\n",
        "  Output: A dictionary has keys 'original' and 'summary'\r\n",
        "  \"\"\"\r\n",
        "  with open(pathfile) as f:\r\n",
        "    rows  = f.readlines()\r\n",
        "    original = ''\r\n",
        "    summary = ''\r\n",
        "    start_copy_summary = False\r\n",
        "    start_copy_content= False\r\n",
        "\r\n",
        "    for row in rows:\r\n",
        "      if row[:7] == 'Content':\r\n",
        "        start_copy_summary = False\r\n",
        "        start_copy_content = True\r\n",
        "      elif start_copy_content:\r\n",
        "        original += row + ' '\r\n",
        "      elif start_copy_summary:\r\n",
        "        summary += row + ' '\r\n",
        "      elif row[:7] == 'Summary': \r\n",
        "        start_copy_summary = True\r\n",
        "        summary += row[9:] + ' '\r\n",
        "\r\n",
        "    original = rdrsegmenter.tokenize(original)\r\n",
        "    original = ' '.join([' '.join(x) for x in original])\r\n",
        "\r\n",
        "    summary = rdrsegmenter.tokenize(summary)\r\n",
        "    summary = ' '.join([' '.join(x) for x in summary])\r\n",
        "\r\n",
        "    if summary == '':\r\n",
        "      summary = None\r\n",
        "    if original == '':\r\n",
        "      original = None\r\n",
        "      \r\n",
        "    return {'file' : pathfile,\r\n",
        "            'original': original, \r\n",
        "            'summary': summary}"
      ],
      "execution_count": null,
      "outputs": []
    },
    {
      "cell_type": "code",
      "metadata": {
        "colab": {
          "base_uri": "https://localhost:8080/"
        },
        "id": "_716GF2iDTcD",
        "outputId": "2e782231-4631-41a5-a6d4-e95a36c76e30"
      },
      "source": [
        "read_content('/content/ViMs/original/Cluster_001/original/8.txt')"
      ],
      "execution_count": null,
      "outputs": [
        {
          "output_type": "execute_result",
          "data": {
            "text/plain": [
              "{'file': '/content/ViMs/original/Cluster_001/original/8.txt',\n",
              " 'original': 'Bộ_trưởng Quốc_phòng Hy_Lạp Panos_Kammenos , máy_bay đã \" quay 90 độ sang trái và 360 độ sang phải , hạ độ cao từ 37.000 feet xuống 15.000 feet và mất tín_hiệu ở độ cao 10.000 feet \" ( khoảng 11 km ) . Theo lời quan_chức này , chiếc máy_bay MS804 bất_ngờ bay chậm lại ở độ cao khoảng hơn 11km . Ở toạ_độ này , máy_bay \" bất_ngờ chuyển_hướng \" , ban_đầu xoay 90 độ sang bên phải , sau đó lại xoay ngược về bên trước khi biến mất khỏi màn_hình radar và có_thể là bắt_đầu rơi . Theo nguồn tin sân_bay Hy_Lạp cho biết , chiếc máy_bay MS804 đã rơi ở ngoài khơi đảo Karpathos của nước này . Truyền_thông Hy_Lạp cũng đưa tin rằng , ngư_dân trên một tàu đánh_cá của Hy_Lạp đã nhìn thấy một vệt sáng trên bầu_trời ở Địa_Trung_Hải . Tuy_nhiên , thông_tin này hiện chưa được kiểm_chứng . Một đoạn video xuất_hiện trên mạng Twitter được cho là quay lại khoảnh_khắc máy_bay của hãng hàng_không EgyptAir bốc cháy như một quả cầu lửa trên bầu_trời phía trên Địa_Trung_Hải song chưa được xác_thực . Hiện_giờ , các chuyên_gia quốc_tế và địa_phương hầu_hết đều nghiêng về giả_thiết máy_bay bị tấn_công khủng_bố . Cũng có ý_kiến cho rằng nhóm khủng_bố Nhà_nước Hồi_giáo ( IS ) có liên_quan đến thảm_kịch này . Máy_bay MS804 gặp nạn khi đang trên đường từ sân_bay quốc_tế ở Paris đến Cairo của Ai_Cập , mang theo 66 người trong đó chủ_yếu là công_dân Ai_Cập . Một cuộc tìm_kiếm đang diễn ra ở phía nam đảo Karpathos nhưng đến nay chưa có kết_quả .',\n",
              " 'summary': 'Bộ_trưởng Quốc_phòng Hy_Lạp cho biết , theo thông_tin mà nước này nhận được , máy_bay EgyptAir đã đột_ngột chuyển_hướng khi ở độ cao hơn 11 km .'}"
            ]
          },
          "metadata": {
            "tags": []
          },
          "execution_count": 5
        }
      ]
    },
    {
      "cell_type": "code",
      "metadata": {
        "id": "Wm5kLJD_840E"
      },
      "source": [
        "with concurrent.futures.ProcessPoolExecutor() as executor:\r\n",
        "  data = executor.map(read_content, pathfiles)"
      ],
      "execution_count": null,
      "outputs": []
    },
    {
      "cell_type": "code",
      "metadata": {
        "id": "jpi4DH0y_FlB",
        "colab": {
          "base_uri": "https://localhost:8080/"
        },
        "outputId": "b6312e05-de83-41e9-91d4-e8778116cb82"
      },
      "source": [
        "# Make blank dataframe\r\n",
        "data_df = list()\r\n",
        "for d in data:\r\n",
        "  data_df.append(d)\r\n",
        "data_df = pd.DataFrame(data_df)\r\n",
        "data_df"
      ],
      "execution_count": null,
      "outputs": [
        {
          "output_type": "execute_result",
          "data": {
            "text/html": [
              "<div>\n",
              "<style scoped>\n",
              "    .dataframe tbody tr th:only-of-type {\n",
              "        vertical-align: middle;\n",
              "    }\n",
              "\n",
              "    .dataframe tbody tr th {\n",
              "        vertical-align: top;\n",
              "    }\n",
              "\n",
              "    .dataframe thead th {\n",
              "        text-align: right;\n",
              "    }\n",
              "</style>\n",
              "<table border=\"1\" class=\"dataframe\">\n",
              "  <thead>\n",
              "    <tr style=\"text-align: right;\">\n",
              "      <th></th>\n",
              "      <th>file</th>\n",
              "      <th>original</th>\n",
              "      <th>summary</th>\n",
              "    </tr>\n",
              "  </thead>\n",
              "  <tbody>\n",
              "    <tr>\n",
              "      <th>0</th>\n",
              "      <td>/content/ViMs/original/Cluster_298/original/19...</td>\n",
              "      <td>Thông_tin trên Pravda cho biết , sự_việc hy_hữ...</td>\n",
              "      <td>Một chiếc máy_bay chở 147 hành_khách vừa đáp x...</td>\n",
              "    </tr>\n",
              "    <tr>\n",
              "      <th>1</th>\n",
              "      <td>/content/ViMs/original/Cluster_298/original/19...</td>\n",
              "      <td>Hãng tin Pravda cho biết , sự_việc xảy ra_chiề...</td>\n",
              "      <td>Đường_băng ở sân_bay quốc_tế Domodedovo ở Mosc...</td>\n",
              "    </tr>\n",
              "    <tr>\n",
              "      <th>2</th>\n",
              "      <td>/content/ViMs/original/Cluster_298/original/19...</td>\n",
              "      <td>Báo Pravda của Nga đưa tin , hôm 2/4 , đường_b...</td>\n",
              "      <td>Một sự_cố hi_hữu đã xảy ra khi một chiếc máy_b...</td>\n",
              "    </tr>\n",
              "    <tr>\n",
              "      <th>3</th>\n",
              "      <td>/content/ViMs/original/Cluster_298/original/19...</td>\n",
              "      <td>Chiếc máy bay đã đứng tại chỗ trong khoả...</td>\n",
              "      <td>Một chiếc máy_bay thực hiện chuyến bay từ ...</td>\n",
              "    </tr>\n",
              "    <tr>\n",
              "      <th>4</th>\n",
              "      <td>/content/ViMs/original/Cluster_298/original/19...</td>\n",
              "      <td>Theo những tin_tức mới nhất báo Dân_Trí trích ...</td>\n",
              "      <td>ai nạn hy_hữu xảy ra ở Nga , khi đường_băng ở ...</td>\n",
              "    </tr>\n",
              "    <tr>\n",
              "      <th>...</th>\n",
              "      <td>...</td>\n",
              "      <td>...</td>\n",
              "      <td>...</td>\n",
              "    </tr>\n",
              "    <tr>\n",
              "      <th>1940</th>\n",
              "      <td>/content/ViMs/original/Cluster_157/original/10...</td>\n",
              "      <td>Sáng nay , khi cơ_quan điều_tra vào_cuộc điều_...</td>\n",
              "      <td>Trưa nay ( 29-5 ) , nguồn tin cho biết trong v...</td>\n",
              "    </tr>\n",
              "    <tr>\n",
              "      <th>1941</th>\n",
              "      <td>/content/ViMs/original/Cluster_157/original/10...</td>\n",
              "      <td>Trước đó , báo Người đưa tin đã thông_tin , kh...</td>\n",
              "      <td>Trong khi bị lực_lượng chức_năng tổ_chức vây b...</td>\n",
              "    </tr>\n",
              "    <tr>\n",
              "      <th>1942</th>\n",
              "      <td>/content/ViMs/original/Cluster_157/original/10...</td>\n",
              "      <td>Sáng nay , Công_an huyện Quế_Phong ( Nghệ_An )...</td>\n",
              "      <td>Tỉnh_giấc sau chầu nhậu , Thắng ra_tay giết ch...</td>\n",
              "    </tr>\n",
              "    <tr>\n",
              "      <th>1943</th>\n",
              "      <td>/content/ViMs/original/Cluster_157/original/10...</td>\n",
              "      <td>Theo đó , khi cơ_quan công_an huyện Quế_Phong ...</td>\n",
              "      <td>Sáng 29/5 , ông Lương_Trường_Sơn - Trưởng CA x...</td>\n",
              "    </tr>\n",
              "    <tr>\n",
              "      <th>1944</th>\n",
              "      <td>/content/ViMs/original/Cluster_157/original/10...</td>\n",
              "      <td>Một bác_sĩ khoa Tai_Mũi Họng-Bệnh viện Đa_khoa...</td>\n",
              "      <td>Nghi phạm Vi_Văn_Thắng ( SN 1993 ) - kẻ dùng d...</td>\n",
              "    </tr>\n",
              "  </tbody>\n",
              "</table>\n",
              "<p>1945 rows × 3 columns</p>\n",
              "</div>"
            ],
            "text/plain": [
              "                                                   file  ...                                            summary\n",
              "0     /content/ViMs/original/Cluster_298/original/19...  ...  Một chiếc máy_bay chở 147 hành_khách vừa đáp x...\n",
              "1     /content/ViMs/original/Cluster_298/original/19...  ...  Đường_băng ở sân_bay quốc_tế Domodedovo ở Mosc...\n",
              "2     /content/ViMs/original/Cluster_298/original/19...  ...  Một sự_cố hi_hữu đã xảy ra khi một chiếc máy_b...\n",
              "3     /content/ViMs/original/Cluster_298/original/19...  ...  Một chiếc máy_bay thực hiện chuyến bay từ ...\n",
              "4     /content/ViMs/original/Cluster_298/original/19...  ...  ai nạn hy_hữu xảy ra ở Nga , khi đường_băng ở ...\n",
              "...                                                 ...  ...                                                ...\n",
              "1940  /content/ViMs/original/Cluster_157/original/10...  ...  Trưa nay ( 29-5 ) , nguồn tin cho biết trong v...\n",
              "1941  /content/ViMs/original/Cluster_157/original/10...  ...  Trong khi bị lực_lượng chức_năng tổ_chức vây b...\n",
              "1942  /content/ViMs/original/Cluster_157/original/10...  ...  Tỉnh_giấc sau chầu nhậu , Thắng ra_tay giết ch...\n",
              "1943  /content/ViMs/original/Cluster_157/original/10...  ...  Sáng 29/5 , ông Lương_Trường_Sơn - Trưởng CA x...\n",
              "1944  /content/ViMs/original/Cluster_157/original/10...  ...  Nghi phạm Vi_Văn_Thắng ( SN 1993 ) - kẻ dùng d...\n",
              "\n",
              "[1945 rows x 3 columns]"
            ]
          },
          "metadata": {
            "tags": []
          },
          "execution_count": 7
        }
      ]
    },
    {
      "cell_type": "code",
      "metadata": {
        "colab": {
          "base_uri": "https://localhost:8080/"
        },
        "id": "2LKnIWtBBHSS",
        "outputId": "65b1c5a6-c639-4c57-da6f-4e35488ed23f"
      },
      "source": [
        "data_df.dropna(inplace = True)\r\n",
        "data_df"
      ],
      "execution_count": null,
      "outputs": [
        {
          "output_type": "execute_result",
          "data": {
            "text/html": [
              "<div>\n",
              "<style scoped>\n",
              "    .dataframe tbody tr th:only-of-type {\n",
              "        vertical-align: middle;\n",
              "    }\n",
              "\n",
              "    .dataframe tbody tr th {\n",
              "        vertical-align: top;\n",
              "    }\n",
              "\n",
              "    .dataframe thead th {\n",
              "        text-align: right;\n",
              "    }\n",
              "</style>\n",
              "<table border=\"1\" class=\"dataframe\">\n",
              "  <thead>\n",
              "    <tr style=\"text-align: right;\">\n",
              "      <th></th>\n",
              "      <th>file</th>\n",
              "      <th>original</th>\n",
              "      <th>summary</th>\n",
              "    </tr>\n",
              "  </thead>\n",
              "  <tbody>\n",
              "    <tr>\n",
              "      <th>0</th>\n",
              "      <td>/content/ViMs/original/Cluster_298/original/19...</td>\n",
              "      <td>Thông_tin trên Pravda cho biết , sự_việc hy_hữ...</td>\n",
              "      <td>Một chiếc máy_bay chở 147 hành_khách vừa đáp x...</td>\n",
              "    </tr>\n",
              "    <tr>\n",
              "      <th>1</th>\n",
              "      <td>/content/ViMs/original/Cluster_298/original/19...</td>\n",
              "      <td>Hãng tin Pravda cho biết , sự_việc xảy ra_chiề...</td>\n",
              "      <td>Đường_băng ở sân_bay quốc_tế Domodedovo ở Mosc...</td>\n",
              "    </tr>\n",
              "    <tr>\n",
              "      <th>2</th>\n",
              "      <td>/content/ViMs/original/Cluster_298/original/19...</td>\n",
              "      <td>Báo Pravda của Nga đưa tin , hôm 2/4 , đường_b...</td>\n",
              "      <td>Một sự_cố hi_hữu đã xảy ra khi một chiếc máy_b...</td>\n",
              "    </tr>\n",
              "    <tr>\n",
              "      <th>3</th>\n",
              "      <td>/content/ViMs/original/Cluster_298/original/19...</td>\n",
              "      <td>Chiếc máy bay đã đứng tại chỗ trong khoả...</td>\n",
              "      <td>Một chiếc máy_bay thực hiện chuyến bay từ ...</td>\n",
              "    </tr>\n",
              "    <tr>\n",
              "      <th>4</th>\n",
              "      <td>/content/ViMs/original/Cluster_298/original/19...</td>\n",
              "      <td>Theo những tin_tức mới nhất báo Dân_Trí trích ...</td>\n",
              "      <td>ai nạn hy_hữu xảy ra ở Nga , khi đường_băng ở ...</td>\n",
              "    </tr>\n",
              "    <tr>\n",
              "      <th>...</th>\n",
              "      <td>...</td>\n",
              "      <td>...</td>\n",
              "      <td>...</td>\n",
              "    </tr>\n",
              "    <tr>\n",
              "      <th>1940</th>\n",
              "      <td>/content/ViMs/original/Cluster_157/original/10...</td>\n",
              "      <td>Sáng nay , khi cơ_quan điều_tra vào_cuộc điều_...</td>\n",
              "      <td>Trưa nay ( 29-5 ) , nguồn tin cho biết trong v...</td>\n",
              "    </tr>\n",
              "    <tr>\n",
              "      <th>1941</th>\n",
              "      <td>/content/ViMs/original/Cluster_157/original/10...</td>\n",
              "      <td>Trước đó , báo Người đưa tin đã thông_tin , kh...</td>\n",
              "      <td>Trong khi bị lực_lượng chức_năng tổ_chức vây b...</td>\n",
              "    </tr>\n",
              "    <tr>\n",
              "      <th>1942</th>\n",
              "      <td>/content/ViMs/original/Cluster_157/original/10...</td>\n",
              "      <td>Sáng nay , Công_an huyện Quế_Phong ( Nghệ_An )...</td>\n",
              "      <td>Tỉnh_giấc sau chầu nhậu , Thắng ra_tay giết ch...</td>\n",
              "    </tr>\n",
              "    <tr>\n",
              "      <th>1943</th>\n",
              "      <td>/content/ViMs/original/Cluster_157/original/10...</td>\n",
              "      <td>Theo đó , khi cơ_quan công_an huyện Quế_Phong ...</td>\n",
              "      <td>Sáng 29/5 , ông Lương_Trường_Sơn - Trưởng CA x...</td>\n",
              "    </tr>\n",
              "    <tr>\n",
              "      <th>1944</th>\n",
              "      <td>/content/ViMs/original/Cluster_157/original/10...</td>\n",
              "      <td>Một bác_sĩ khoa Tai_Mũi Họng-Bệnh viện Đa_khoa...</td>\n",
              "      <td>Nghi phạm Vi_Văn_Thắng ( SN 1993 ) - kẻ dùng d...</td>\n",
              "    </tr>\n",
              "  </tbody>\n",
              "</table>\n",
              "<p>1900 rows × 3 columns</p>\n",
              "</div>"
            ],
            "text/plain": [
              "                                                   file  ...                                            summary\n",
              "0     /content/ViMs/original/Cluster_298/original/19...  ...  Một chiếc máy_bay chở 147 hành_khách vừa đáp x...\n",
              "1     /content/ViMs/original/Cluster_298/original/19...  ...  Đường_băng ở sân_bay quốc_tế Domodedovo ở Mosc...\n",
              "2     /content/ViMs/original/Cluster_298/original/19...  ...  Một sự_cố hi_hữu đã xảy ra khi một chiếc máy_b...\n",
              "3     /content/ViMs/original/Cluster_298/original/19...  ...  Một chiếc máy_bay thực hiện chuyến bay từ ...\n",
              "4     /content/ViMs/original/Cluster_298/original/19...  ...  ai nạn hy_hữu xảy ra ở Nga , khi đường_băng ở ...\n",
              "...                                                 ...  ...                                                ...\n",
              "1940  /content/ViMs/original/Cluster_157/original/10...  ...  Trưa nay ( 29-5 ) , nguồn tin cho biết trong v...\n",
              "1941  /content/ViMs/original/Cluster_157/original/10...  ...  Trong khi bị lực_lượng chức_năng tổ_chức vây b...\n",
              "1942  /content/ViMs/original/Cluster_157/original/10...  ...  Tỉnh_giấc sau chầu nhậu , Thắng ra_tay giết ch...\n",
              "1943  /content/ViMs/original/Cluster_157/original/10...  ...  Sáng 29/5 , ông Lương_Trường_Sơn - Trưởng CA x...\n",
              "1944  /content/ViMs/original/Cluster_157/original/10...  ...  Nghi phạm Vi_Văn_Thắng ( SN 1993 ) - kẻ dùng d...\n",
              "\n",
              "[1900 rows x 3 columns]"
            ]
          },
          "metadata": {
            "tags": []
          },
          "execution_count": 8
        }
      ]
    },
    {
      "cell_type": "code",
      "metadata": {
        "colab": {
          "base_uri": "https://localhost:8080/"
        },
        "id": "LXwxF4cPKjZE",
        "outputId": "00e3a48a-0e2d-4413-e7de-82564ecf21af"
      },
      "source": [
        "data_df = data_df.sample(frac=1).reset_index(drop=True)\r\n",
        "data_df"
      ],
      "execution_count": null,
      "outputs": [
        {
          "output_type": "execute_result",
          "data": {
            "text/html": [
              "<div>\n",
              "<style scoped>\n",
              "    .dataframe tbody tr th:only-of-type {\n",
              "        vertical-align: middle;\n",
              "    }\n",
              "\n",
              "    .dataframe tbody tr th {\n",
              "        vertical-align: top;\n",
              "    }\n",
              "\n",
              "    .dataframe thead th {\n",
              "        text-align: right;\n",
              "    }\n",
              "</style>\n",
              "<table border=\"1\" class=\"dataframe\">\n",
              "  <thead>\n",
              "    <tr style=\"text-align: right;\">\n",
              "      <th></th>\n",
              "      <th>file</th>\n",
              "      <th>original</th>\n",
              "      <th>summary</th>\n",
              "    </tr>\n",
              "  </thead>\n",
              "  <tbody>\n",
              "    <tr>\n",
              "      <th>0</th>\n",
              "      <td>/content/ViMs/original/Cluster_146/original/94...</td>\n",
              "      <td>Vụ_việc trên xảy ra vào_khoảng 15h30 chiều nay...</td>\n",
              "      <td>Sau nhiều lần đòi gặp người đứng đầu tập_đoàn ...</td>\n",
              "    </tr>\n",
              "    <tr>\n",
              "      <th>1</th>\n",
              "      <td>/content/ViMs/original/Cluster_297/original/19...</td>\n",
              "      <td>Chiều 3/6 , trao_đổi với PV Báo Gia_đình &amp; Xã_...</td>\n",
              "      <td>Sau khi hiếp_dâm nữ_sinh lớp 11 , tên yêu râu ...</td>\n",
              "    </tr>\n",
              "    <tr>\n",
              "      <th>2</th>\n",
              "      <td>/content/ViMs/original/Cluster_271/original/17...</td>\n",
              "      <td>Dự_án sẽ được thi_công hai giai_đoạn . Tổng mứ...</td>\n",
              "      <td>Công_trình nhằm xoá điểm kẹt xe vào cảng Cát_L...</td>\n",
              "    </tr>\n",
              "    <tr>\n",
              "      <th>3</th>\n",
              "      <td>/content/ViMs/original/Cluster_007/original/56...</td>\n",
              "      <td>Anh Phan_Đức_Huy đến bãi thu_mua lốp xe cũ ở đ...</td>\n",
              "      <td>Trong lúc kéo điện ra hàn ôtô tại bãi thu_mua ...</td>\n",
              "    </tr>\n",
              "    <tr>\n",
              "      <th>4</th>\n",
              "      <td>/content/ViMs/original/Cluster_051/original/33...</td>\n",
              "      <td>Vụ_việc ông Nguyễn_Phi_Cường ( quản_lý của ca_...</td>\n",
              "      <td>Hai người quen dàn_cảnh lừa mua nhà gần 4 tỉ đ...</td>\n",
              "    </tr>\n",
              "    <tr>\n",
              "      <th>...</th>\n",
              "      <td>...</td>\n",
              "      <td>...</td>\n",
              "      <td>...</td>\n",
              "    </tr>\n",
              "    <tr>\n",
              "      <th>1895</th>\n",
              "      <td>/content/ViMs/original/Cluster_263/original/17...</td>\n",
              "      <td>Cuộc họp_báo diễn ra ngày 1-6 ( giờ_địa_phương...</td>\n",
              "      <td>\" Cô biết gì về Trung_Quốc ? Cô đi Trung_Quốc ...</td>\n",
              "    </tr>\n",
              "    <tr>\n",
              "      <th>1896</th>\n",
              "      <td>/content/ViMs/original/Cluster_245/original/16...</td>\n",
              "      <td>Chiều 2/6 , Chính_phủ họp_báo thường_kỳ tháng ...</td>\n",
              "      <td>“ Đến nay các nhà_khoa_học đã xác_định được ng...</td>\n",
              "    </tr>\n",
              "    <tr>\n",
              "      <th>1897</th>\n",
              "      <td>/content/ViMs/original/Cluster_294/original/19...</td>\n",
              "      <td>Vụ_việc xảy ra khoảng 4h sáng nay ( 3.6 ) tại ...</td>\n",
              "      <td>Do nghi_ngờ dẫn đến ghen_tuông , đối_tượng đã ...</td>\n",
              "    </tr>\n",
              "    <tr>\n",
              "      <th>1898</th>\n",
              "      <td>/content/ViMs/original/Cluster_081/original/53...</td>\n",
              "      <td>Ông Alexander_Van der Bellen ( 72 tuổi , chuyê...</td>\n",
              "      <td>Lãnh_đạo châu_Âu cảm_thấy nhẹ_nhõm do Tây_Âu s...</td>\n",
              "    </tr>\n",
              "    <tr>\n",
              "      <th>1899</th>\n",
              "      <td>/content/ViMs/original/Cluster_004/original/31...</td>\n",
              "      <td>Chủ_tịch UBND TP. HCM Nguyễn_Thành_Phong cùng ...</td>\n",
              "      <td>Sáng 19-5 , tại khách_sạn Rex ( TP. HCM ) , bá...</td>\n",
              "    </tr>\n",
              "  </tbody>\n",
              "</table>\n",
              "<p>1900 rows × 3 columns</p>\n",
              "</div>"
            ],
            "text/plain": [
              "                                                   file  ...                                            summary\n",
              "0     /content/ViMs/original/Cluster_146/original/94...  ...  Sau nhiều lần đòi gặp người đứng đầu tập_đoàn ...\n",
              "1     /content/ViMs/original/Cluster_297/original/19...  ...  Sau khi hiếp_dâm nữ_sinh lớp 11 , tên yêu râu ...\n",
              "2     /content/ViMs/original/Cluster_271/original/17...  ...  Công_trình nhằm xoá điểm kẹt xe vào cảng Cát_L...\n",
              "3     /content/ViMs/original/Cluster_007/original/56...  ...  Trong lúc kéo điện ra hàn ôtô tại bãi thu_mua ...\n",
              "4     /content/ViMs/original/Cluster_051/original/33...  ...  Hai người quen dàn_cảnh lừa mua nhà gần 4 tỉ đ...\n",
              "...                                                 ...  ...                                                ...\n",
              "1895  /content/ViMs/original/Cluster_263/original/17...  ...  \" Cô biết gì về Trung_Quốc ? Cô đi Trung_Quốc ...\n",
              "1896  /content/ViMs/original/Cluster_245/original/16...  ...  “ Đến nay các nhà_khoa_học đã xác_định được ng...\n",
              "1897  /content/ViMs/original/Cluster_294/original/19...  ...  Do nghi_ngờ dẫn đến ghen_tuông , đối_tượng đã ...\n",
              "1898  /content/ViMs/original/Cluster_081/original/53...  ...  Lãnh_đạo châu_Âu cảm_thấy nhẹ_nhõm do Tây_Âu s...\n",
              "1899  /content/ViMs/original/Cluster_004/original/31...  ...  Sáng 19-5 , tại khách_sạn Rex ( TP. HCM ) , bá...\n",
              "\n",
              "[1900 rows x 3 columns]"
            ]
          },
          "metadata": {
            "tags": []
          },
          "execution_count": 9
        }
      ]
    },
    {
      "cell_type": "markdown",
      "metadata": {
        "id": "H1F58j028eTV"
      },
      "source": [
        "## **Warm-starting RoBERTaShared for BBC XSum**\n",
        "\n",
        "***Note***: This notebook only uses a few training, validation, and test data samples for demonstration purposes. To fine-tune an encoder-decoder model on the full training data, the user should change the training and data preprocessing parameters accordingly as highlighted by the comments.\n"
      ]
    },
    {
      "cell_type": "markdown",
      "metadata": {
        "id": "3FO5ESocXvlK"
      },
      "source": [
        "### **Data Preprocessing**\n"
      ]
    },
    {
      "cell_type": "code",
      "metadata": {
        "id": "w67vkz3KP9eZ"
      },
      "source": [
        "%%capture\n",
        "!pip install datasets==1.0.2\n",
        "!pip install transformers\n",
        "\n",
        "import datasets\n",
        "import transformers"
      ],
      "execution_count": null,
      "outputs": []
    },
    {
      "cell_type": "code",
      "metadata": {
        "id": "sgTiC0rhMb7C",
        "colab": {
          "base_uri": "https://localhost:8080/",
          "height": 164,
          "referenced_widgets": [
            "f2dda5b2a98844e999a8c08339789981",
            "06bda6b2887e4849b7ffd449030f77aa",
            "427f82626b9d4198ad1476958a1b86b1",
            "400c907f5853401fa85174fcceca153d",
            "e569a5230fbf437d970c13dd96ace7ab",
            "ad34e72d6b254da6ac50f29d118577f3",
            "d75f31d3bbea4180b498be7ac153b1c3",
            "0ec64ae740684b81a8e52ada78edad16",
            "8a8271736f5c47149b3ebe8323243f61",
            "36159e002ba0460f985a90d1fcc34c4c",
            "746e9c96e9ce46e08b32b9a5aba9da6e",
            "db1e1a6fcb804395b8fd88ec14b0846b",
            "a4d390bd54dd4fec95237d98a6bdd85f",
            "6dcbe04a4c4641b99403b061d5d1bb72",
            "aad070a8ec3e494fb8a55323e7e7432a",
            "e37fd5267e1943bbbb4980b22a3091f3",
            "ef5e46b3f4834ea282f2f42f6f2cd967",
            "e81af819647d40258197ce4adebdb1a6",
            "6e8773e4b2e64d9aba4546b2fc85b9f3",
            "41c037f4d0d9401b832d890796b9e2fc",
            "8a58c54ddde14c16917d831ac384be57",
            "9927d2b7e3b44665a8b20305c7868425",
            "1eaf22a836fd4109bf73a83d30bf76df",
            "a82bcd96929044769d6b3cc8c2ae480a"
          ]
        },
        "outputId": "b4bc9afc-f0d6-4fe8-a04b-940e7c2ecd00"
      },
      "source": [
        "from transformers import RobertaTokenizerFast,AutoTokenizer\n",
        "\n",
        "# phobert = AutoModel.from_pretrained(\"vinai/phobert-base\")\n",
        "\n",
        "# For transformers v4.x+: \n",
        "tokenizer = AutoTokenizer.from_pretrained(\"vinai/phobert-base\", use_fast=False)\n",
        "\n",
        "# tokenizer = RobertaTokenizerFast.from_pretrained(\"roberta-base\")\n",
        "\n",
        "# train_data = datasets.load_dataset(\"xsum\", split=\"train\")\n",
        "# val_data = datasets.load_dataset(\"xsum\", split=\"validation[:10%]\")"
      ],
      "execution_count": null,
      "outputs": [
        {
          "output_type": "display_data",
          "data": {
            "application/vnd.jupyter.widget-view+json": {
              "model_id": "f2dda5b2a98844e999a8c08339789981",
              "version_minor": 0,
              "version_major": 2
            },
            "text/plain": [
              "HBox(children=(FloatProgress(value=0.0, description='Downloading', max=557.0, style=ProgressStyle(description_…"
            ]
          },
          "metadata": {
            "tags": []
          }
        },
        {
          "output_type": "stream",
          "text": [
            "\n"
          ],
          "name": "stdout"
        },
        {
          "output_type": "display_data",
          "data": {
            "application/vnd.jupyter.widget-view+json": {
              "model_id": "8a8271736f5c47149b3ebe8323243f61",
              "version_minor": 0,
              "version_major": 2
            },
            "text/plain": [
              "HBox(children=(FloatProgress(value=0.0, description='Downloading', max=895321.0, style=ProgressStyle(descripti…"
            ]
          },
          "metadata": {
            "tags": []
          }
        },
        {
          "output_type": "stream",
          "text": [
            "\n"
          ],
          "name": "stdout"
        },
        {
          "output_type": "display_data",
          "data": {
            "application/vnd.jupyter.widget-view+json": {
              "model_id": "ef5e46b3f4834ea282f2f42f6f2cd967",
              "version_minor": 0,
              "version_major": 2
            },
            "text/plain": [
              "HBox(children=(FloatProgress(value=0.0, description='Downloading', max=1135173.0, style=ProgressStyle(descript…"
            ]
          },
          "metadata": {
            "tags": []
          }
        },
        {
          "output_type": "stream",
          "text": [
            "\n"
          ],
          "name": "stdout"
        }
      ]
    },
    {
      "cell_type": "code",
      "metadata": {
        "id": "U08MrUK9LcUM"
      },
      "source": [
        "from sklearn.model_selection import train_test_split\r\n",
        "\r\n",
        "train_data, val_data = train_test_split(data_df, test_size=0.2)\r\n",
        "train_data =  Dataset.from_pandas(train_data)\r\n",
        "val_data =  Dataset.from_pandas(val_data)"
      ],
      "execution_count": null,
      "outputs": []
    },
    {
      "cell_type": "code",
      "metadata": {
        "id": "yoN2q0hZUbXN",
        "colab": {
          "base_uri": "https://localhost:8080/",
          "height": 115,
          "referenced_widgets": [
            "ef572ea4d409419d91d5525af48e2755",
            "2bc7a7bc539f4954ac4c24d26607e0b1",
            "b88e66cb1db24eb49e9d5062d7b9d7ce",
            "01fa4e3328024abbaf0d72e212e86378",
            "43e9c18bc80541a99fa9eac4f1b0a172",
            "97c2f0b166474428b577d629b2bdc06c",
            "8a6d96b3bcb041dc92003e3b82ae06cf",
            "33ab994745dd4e94b19e8da0ae7fa41c",
            "6b2086494ad84fa4beb356e4843f1f2b",
            "2af698c49b3946a6add8433033f1d638",
            "615f460a2a964f17b3cfc8f82b298894",
            "f555094c024b44ada7f60cab998cd938",
            "9fdf477243c5439aaf6bc7a5a6cab8e0",
            "5d0ca85d677643de9cc12b143092f40c",
            "1990c0b233a346a082d2abcc139cd1ca",
            "ecc774f911e74143a5b8b4340d1fa281"
          ]
        },
        "outputId": "14b18f4c-4ebf-4d86-ad5a-09af7e53ba26"
      },
      "source": [
        "batch_size=4  # change to 16 for full training\n",
        "encoder_max_length=256\n",
        "decoder_max_length=64\n",
        "\n",
        "def process_data_to_model_inputs(batch):                                                               \n",
        "    # Tokenizer will automatically set [BOS] <text> [EOS]                                               \n",
        "    inputs = tokenizer(batch[\"original\"], padding=\"max_length\", truncation=True, max_length=encoder_max_length)\n",
        "    outputs = tokenizer(batch[\"summary\"], padding=\"max_length\", truncation=True, max_length=decoder_max_length)\n",
        "                                                                                                        \n",
        "    batch[\"input_ids\"] = inputs.input_ids                                                               \n",
        "    batch[\"attention_mask\"] = inputs.attention_mask                                                     \n",
        "    batch[\"decoder_input_ids\"] = outputs.input_ids                                                      \n",
        "    batch[\"labels\"] = outputs.input_ids.copy()                                                          \n",
        "    # mask loss for padding                                                                             \n",
        "    batch[\"labels\"] = [                                                                                 \n",
        "        [-100 if token == tokenizer.pad_token_id else token for token in labels] for labels in batch[\"labels\"]\n",
        "    ]                     \n",
        "    batch[\"decoder_attention_mask\"] = outputs.attention_mask                                                                              \n",
        "                                                                                                         \n",
        "    return batch  \n",
        "\n",
        "# only use 32 training examples for notebook - DELETE LINE FOR FULL TRAINING\n",
        "# train_data = train_data.select(range(32))\n",
        "\n",
        "train_data = train_data.map(\n",
        "    process_data_to_model_inputs, \n",
        "    batched=True, \n",
        "    batch_size=batch_size, \n",
        "    remove_columns=[\"file\",\"original\", \"summary\"],\n",
        ")\n",
        "train_data.set_format(\n",
        "    type=\"torch\", columns=[\"input_ids\", \"attention_mask\", \"decoder_input_ids\", \"decoder_attention_mask\", \"labels\"],\n",
        ")\n",
        "\n",
        "\n",
        "# only use 16 training examples for notebook - DELETE LINE FOR FULL TRAINING\n",
        "# val_data = val_data.select(range(16))\n",
        "\n",
        "val_data = val_data.map(\n",
        "    process_data_to_model_inputs, \n",
        "    batched=True, \n",
        "    batch_size=batch_size, \n",
        "    remove_columns=[\"file\", \"original\", \"summary\"],\n",
        ")\n",
        "val_data.set_format(\n",
        "    type=\"torch\", columns=[\"input_ids\", \"attention_mask\", \"decoder_input_ids\", \"decoder_attention_mask\", \"labels\"],\n",
        ")"
      ],
      "execution_count": null,
      "outputs": [
        {
          "output_type": "display_data",
          "data": {
            "application/vnd.jupyter.widget-view+json": {
              "model_id": "ef572ea4d409419d91d5525af48e2755",
              "version_minor": 0,
              "version_major": 2
            },
            "text/plain": [
              "HBox(children=(FloatProgress(value=0.0, max=380.0), HTML(value='')))"
            ]
          },
          "metadata": {
            "tags": []
          }
        },
        {
          "output_type": "stream",
          "text": [
            "\n"
          ],
          "name": "stdout"
        },
        {
          "output_type": "display_data",
          "data": {
            "application/vnd.jupyter.widget-view+json": {
              "model_id": "6b2086494ad84fa4beb356e4843f1f2b",
              "version_minor": 0,
              "version_major": 2
            },
            "text/plain": [
              "HBox(children=(FloatProgress(value=0.0, max=95.0), HTML(value='')))"
            ]
          },
          "metadata": {
            "tags": []
          }
        },
        {
          "output_type": "stream",
          "text": [
            "\n"
          ],
          "name": "stdout"
        }
      ]
    },
    {
      "cell_type": "markdown",
      "metadata": {
        "id": "aEjb026cNC38"
      },
      "source": [
        "### **Warm-starting the Encoder-Decoder Model**"
      ]
    },
    {
      "cell_type": "code",
      "metadata": {
        "id": "tS0UndNoQh8t",
        "colab": {
          "base_uri": "https://localhost:8080/",
          "height": 66,
          "referenced_widgets": [
            "cc056507f7634ec1bec8c686d21228fe",
            "1cd6da9e38444383822c721edad2a1df",
            "45f9ead4ac5946cca2dea5fc017c4ad9",
            "b1d544d031b142739efe779d62d6309d",
            "abac2e73ac75463c93500322431d6908",
            "00725dc00bce44aeb60c40d131906305",
            "9ef3a226f51e4c71b2731d53c546c5c2",
            "f79991841bb74de087c45f77b2251500"
          ]
        },
        "outputId": "b8aed4b7-b16d-4599-bf06-36720789110c"
      },
      "source": [
        "from transformers import EncoderDecoderModel\n",
        "\n",
        "# set encoder decoder tying to True\n",
        "roberta_shared = EncoderDecoderModel.from_encoder_decoder_pretrained(\"vinai/phobert-base\", \"vinai/phobert-base\", tie_encoder_decoder=True)"
      ],
      "execution_count": null,
      "outputs": [
        {
          "output_type": "display_data",
          "data": {
            "application/vnd.jupyter.widget-view+json": {
              "model_id": "cc056507f7634ec1bec8c686d21228fe",
              "version_minor": 0,
              "version_major": 2
            },
            "text/plain": [
              "HBox(children=(FloatProgress(value=0.0, description='Downloading', max=542923308.0, style=ProgressStyle(descri…"
            ]
          },
          "metadata": {
            "tags": []
          }
        },
        {
          "output_type": "stream",
          "text": [
            "\n"
          ],
          "name": "stdout"
        }
      ]
    },
    {
      "cell_type": "code",
      "metadata": {
        "id": "M8BoVt2AcbOu",
        "colab": {
          "base_uri": "https://localhost:8080/",
          "height": 115,
          "referenced_widgets": [
            "8b756da93b6f401c93da5825080a95a5",
            "e2c838a3d58d485090e0f7265fca04a1",
            "f9e3606ccd9e46d3b06235edb4afdeb8",
            "7f64e3ef89b049d3acf41bafcfab8a0f",
            "360aca85b95846c986729d8bbd6a1c59",
            "970e789061094cb3bacbb7f045f34b5c",
            "bcb6f196f4cf4c3f947f402ed531bf8a",
            "1dccee4573cb4555b2a507d6bbdf6a7a",
            "6a48ed9c10474021aae4815560f9c2b9",
            "16e8b63550cd475e9d7aa7acc327236c",
            "660eed3397fe4ed49b0bf9dbc2daf678",
            "1f0b9bb12fae496b8bec6f11c61c81fa",
            "abc9b961bedd402fbcf4dc2dcfc986a2",
            "c72f84eeafc34c9587f7a988d2ef7497",
            "db9f405cee25424ea9841818425f5882",
            "e147cada74ff4987968f91b26e8f2e49"
          ]
        },
        "outputId": "bdda3c15-2017-4ee4-f453-2c23d4baf565"
      },
      "source": [
        "roberta_shared1 = EncoderDecoderModel.from_encoder_decoder_pretrained(\"roberta-base\", \"roberta-base\", tie_encoder_decoder=True)"
      ],
      "execution_count": null,
      "outputs": [
        {
          "output_type": "display_data",
          "data": {
            "application/vnd.jupyter.widget-view+json": {
              "model_id": "8b756da93b6f401c93da5825080a95a5",
              "version_minor": 0,
              "version_major": 2
            },
            "text/plain": [
              "HBox(children=(FloatProgress(value=0.0, description='Downloading', max=481.0, style=ProgressStyle(description_…"
            ]
          },
          "metadata": {
            "tags": []
          }
        },
        {
          "output_type": "stream",
          "text": [
            "\n"
          ],
          "name": "stdout"
        },
        {
          "output_type": "display_data",
          "data": {
            "application/vnd.jupyter.widget-view+json": {
              "model_id": "6a48ed9c10474021aae4815560f9c2b9",
              "version_minor": 0,
              "version_major": 2
            },
            "text/plain": [
              "HBox(children=(FloatProgress(value=0.0, description='Downloading', max=501200538.0, style=ProgressStyle(descri…"
            ]
          },
          "metadata": {
            "tags": []
          }
        },
        {
          "output_type": "stream",
          "text": [
            "\n"
          ],
          "name": "stdout"
        }
      ]
    },
    {
      "cell_type": "code",
      "metadata": {
        "id": "JD2jv3GkyjR-"
      },
      "source": [
        "# set special tokens\n",
        "roberta_shared.config.decoder_start_token_id = tokenizer.bos_token_id                                             \n",
        "roberta_shared.config.eos_token_id = tokenizer.eos_token_id\n",
        "\n",
        "# sensible parameters for beam search\n",
        "# set decoding params                               \n",
        "roberta_shared.config.max_length = 64\n",
        "roberta_shared.config.early_stopping = True\n",
        "roberta_shared.config.no_repeat_ngram_size = 3\n",
        "roberta_shared.config.length_penalty = 2.0\n",
        "roberta_shared.config.num_beams = 4\n",
        "roberta_shared.config.vocab_size = roberta_shared.config.encoder.vocab_size  "
      ],
      "execution_count": null,
      "outputs": []
    },
    {
      "cell_type": "markdown",
      "metadata": {
        "id": "u98CLZiTkgzv"
      },
      "source": [
        "### **Fine-Tuning Warm-Started Encoder-Decoder Models**"
      ]
    },
    {
      "cell_type": "markdown",
      "metadata": {
        "id": "-gYzA-w96wCt"
      },
      "source": [
        "The `Seq2SeqTrainer` that can be found under [examples/seq2seq/seq2seq_trainer.py](https://github.com/huggingface/transformers/blob/master/examples/seq2seq/seq2seq_trainer.py) will be used to fine-tune a warm-started encoder-decoder model.\n",
        "\n",
        "Let's download the `Seq2SeqTrainer` code and import the module along with `TrainingArguments`."
      ]
    },
    {
      "cell_type": "code",
      "metadata": {
        "id": "pyiwaF0noA5c"
      },
      "source": [
        "%%capture\n",
        "!rm seq2seq_trainer.py\n",
        "!wget https://raw.githubusercontent.com/huggingface/transformers/master/examples/seq2seq/seq2seq_trainer.py\n",
        "\n",
        "!pip install git-python==1.0.3\n",
        "!pip install sacrebleu==1.4.12\n",
        "!pip install rouge_score\n",
        "\n",
        "from seq2seq_trainer import Seq2SeqTrainer\n",
        "from transformers import TrainingArguments\n",
        "from dataclasses import dataclass, field\n",
        "from typing import Optional"
      ],
      "execution_count": null,
      "outputs": []
    },
    {
      "cell_type": "markdown",
      "metadata": {
        "id": "5nmQRT3XuHHz"
      },
      "source": [
        "We need to add some additional parameters to make `TrainingArguments` compatible with the `Seq2SeqTrainer`. Let's just copy the `dataclass` arguments as defined in [this file](https://github.com/patrickvonplaten/transformers/blob/make_seq2seq_trainer_self_contained/examples/seq2seq/finetune_trainer.py)."
      ]
    },
    {
      "cell_type": "code",
      "metadata": {
        "id": "-zkkd66rtsnA"
      },
      "source": [
        "@dataclass\n",
        "class Seq2SeqTrainingArguments(TrainingArguments):\n",
        "    label_smoothing: Optional[float] = field(\n",
        "        default=0.0, metadata={\"help\": \"The label smoothing epsilon to apply (if not zero).\"}\n",
        "    )\n",
        "    sortish_sampler: bool = field(default=False, metadata={\"help\": \"Whether to SortishSamler or not.\"})\n",
        "    predict_with_generate: bool = field(\n",
        "        default=False, metadata={\"help\": \"Whether to use generate to calculate generative metrics (ROUGE, BLEU).\"}\n",
        "    )\n",
        "    adafactor: bool = field(default=False, metadata={\"help\": \"whether to use adafactor\"})\n",
        "    encoder_layerdrop: Optional[float] = field(\n",
        "        default=None, metadata={\"help\": \"Encoder layer dropout probability. Goes into model.config.\"}\n",
        "    )\n",
        "    decoder_layerdrop: Optional[float] = field(\n",
        "        default=None, metadata={\"help\": \"Decoder layer dropout probability. Goes into model.config.\"}\n",
        "    )\n",
        "    dropout: Optional[float] = field(default=None, metadata={\"help\": \"Dropout probability. Goes into model.config.\"})\n",
        "    attention_dropout: Optional[float] = field(\n",
        "        default=None, metadata={\"help\": \"Attention dropout probability. Goes into model.config.\"}\n",
        "    )\n",
        "    lr_scheduler: Optional[str] = field(\n",
        "        default=\"linear\", metadata={\"help\": f\"Which lr scheduler to use.\"}\n",
        "    )"
      ],
      "execution_count": null,
      "outputs": []
    },
    {
      "cell_type": "markdown",
      "metadata": {
        "id": "dPUAgo7pxH24"
      },
      "source": [
        "Also, we need to define a function to correctly compute the ROUGE score during validation. ROUGE is a much better metric to track during training than only language modeling loss."
      ]
    },
    {
      "cell_type": "code",
      "metadata": {
        "id": "BQgzLsU_MJyz"
      },
      "source": [
        "import datasets"
      ],
      "execution_count": null,
      "outputs": []
    },
    {
      "cell_type": "code",
      "metadata": {
        "id": "68IHmFYLx09W"
      },
      "source": [
        "# load rouge for validation\n",
        "rouge = datasets.load_metric(\"rouge\")\n",
        "\n",
        "def compute_metrics(pred):\n",
        "    labels_ids = pred.label_ids\n",
        "    pred_ids = pred.predictions\n",
        "\n",
        "    # all unnecessary tokens are removed\n",
        "    pred_str = tokenizer.batch_decode(pred_ids, skip_special_tokens=True)\n",
        "    labels_ids[labels_ids == -100] = tokenizer.pad_token_id\n",
        "    label_str = tokenizer.batch_decode(labels_ids, skip_special_tokens=True)\n",
        "\n",
        "    rouge_output = rouge.compute(predictions=pred_str, references=label_str, rouge_types=[\"rouge2\"])[\"rouge2\"].mid\n",
        "\n",
        "    return {\n",
        "        \"rouge2_precision\": round(rouge_output.precision, 4),\n",
        "        \"rouge2_recall\": round(rouge_output.recall, 4),\n",
        "        \"rouge2_fmeasure\": round(rouge_output.fmeasure, 4),\n",
        "    }"
      ],
      "execution_count": null,
      "outputs": []
    },
    {
      "cell_type": "markdown",
      "metadata": {
        "id": "1ik4hZb2yV-b"
      },
      "source": [
        "Cool! Finally, we start training."
      ]
    },
    {
      "cell_type": "code",
      "metadata": {
        "id": "LAaTxUpdzshF",
        "colab": {
          "base_uri": "https://localhost:8080/",
          "height": 197
        },
        "outputId": "5f19e538-20ff-4808-9813-fdbb9d719eea"
      },
      "source": [
        "# set training arguments - these params are not really tuned, feel free to change\n",
        "training_args = Seq2SeqTrainingArguments(\n",
        "    output_dir=\"./\",\n",
        "    per_device_train_batch_size=batch_size,\n",
        "    per_device_eval_batch_size=batch_size,\n",
        "    predict_with_generate=True,\n",
        "    # evaluate_during_training=True,\n",
        "    do_train=True,\n",
        "    do_eval=True,\n",
        "    logging_steps=2000,  # set to 2000 for full training\n",
        "    save_steps=500,  # set to 500 for full training\n",
        "    eval_steps=7500,  # set to 7500 for full training\n",
        "    warmup_steps=3000,  # set to 3000 for full training\n",
        "    # max_steps=16, # delete for full training\n",
        "    num_train_epochs=5, #uncomment for full training\n",
        "    overwrite_output_dir=True,\n",
        "    save_total_limit=3,\n",
        "    fp16=True, \n",
        ")\n",
        "\n",
        "# instantiate trainer\n",
        "trainer = Seq2SeqTrainer(\n",
        "    model=roberta_shared,\n",
        "    args=training_args,\n",
        "    compute_metrics=compute_metrics,\n",
        "    train_dataset=train_data,\n",
        "    eval_dataset=val_data,\n",
        ")\n",
        "trainer.train()"
      ],
      "execution_count": null,
      "outputs": [
        {
          "output_type": "stream",
          "text": [
            "The `config.pad_token_id` is `None`. Using `config.eos_token_id` = 2 for padding..\n",
            "/usr/local/lib/python3.6/dist-packages/datasets/arrow_dataset.py:835: UserWarning: The given NumPy array is not writeable, and PyTorch does not support non-writeable tensors. This means you can write to the underlying (supposedly non-writeable) NumPy array using the tensor. You may want to copy the array to protect its data or make it writeable before converting it to a tensor. This type of warning will be suppressed for the rest of this program. (Triggered internally at  /pytorch/torch/csrc/utils/tensor_numpy.cpp:141.)\n",
            "  return torch.tensor(x, **format_kwargs)\n",
            "/usr/local/lib/python3.6/dist-packages/torch/optim/lr_scheduler.py:136: UserWarning: Detected call of `lr_scheduler.step()` before `optimizer.step()`. In PyTorch 1.1.0 and later, you should call them in the opposite order: `optimizer.step()` before `lr_scheduler.step()`.  Failure to do this will result in PyTorch skipping the first value of the learning rate schedule. See more details at https://pytorch.org/docs/stable/optim.html#how-to-adjust-learning-rate\n",
            "  \"https://pytorch.org/docs/stable/optim.html#how-to-adjust-learning-rate\", UserWarning)\n"
          ],
          "name": "stderr"
        },
        {
          "output_type": "display_data",
          "data": {
            "text/html": [
              "\n",
              "    <div>\n",
              "        <style>\n",
              "            /* Turns off some styling */\n",
              "            progress {\n",
              "                /* gets rid of default border in Firefox and Opera. */\n",
              "                border: none;\n",
              "                /* Needs to be in here for Safari polyfill so background images work as expected. */\n",
              "                background-size: auto;\n",
              "            }\n",
              "        </style>\n",
              "      \n",
              "      <progress value='1900' max='1900' style='width:300px; height:20px; vertical-align: middle;'></progress>\n",
              "      [1900/1900 09:33, Epoch 5/5]\n",
              "    </div>\n",
              "    <table border=\"1\" class=\"dataframe\">\n",
              "  <thead>\n",
              "    <tr style=\"text-align: left;\">\n",
              "      <th>Step</th>\n",
              "      <th>Training Loss</th>\n",
              "    </tr>\n",
              "  </thead>\n",
              "  <tbody>\n",
              "  </tbody>\n",
              "</table><p>"
            ],
            "text/plain": [
              "<IPython.core.display.HTML object>"
            ]
          },
          "metadata": {
            "tags": []
          }
        },
        {
          "output_type": "execute_result",
          "data": {
            "text/plain": [
              "TrainOutput(global_step=1900, training_loss=5.392902446546053, metrics={'train_runtime': 574.316, 'train_samples_per_second': 3.308, 'total_flos': 2393398065408000, 'epoch': 5.0})"
            ]
          },
          "metadata": {
            "tags": []
          },
          "execution_count": 24
        }
      ]
    },
    {
      "cell_type": "markdown",
      "metadata": {
        "id": "ZwQIEhKOrJpl"
      },
      "source": [
        "### **Evaluation**\n",
        "\n",
        "Awesome, we finished training our dummy model. Let's now evaluated the model on the test data. We make use of the dataset's handy `.map()` function to generate a summary of each sample of the test data."
      ]
    },
    {
      "cell_type": "code",
      "metadata": {
        "id": "oOoSrwWarJAC",
        "colab": {
          "base_uri": "https://localhost:8080/",
          "height": 756,
          "referenced_widgets": [
            "205611ad5b8243b1bdf8d66f3291d2b1",
            "5ae08dc28fd242c1a1e46b36a3d7f25e",
            "c82a0029c6554f03ac33abcf0ccf7891",
            "954366d4f15b46089cc0b7c40bdd4d5c",
            "b90aa7e22b454e9984745b38dbb3eaa4",
            "bdc8a26712cd4fb38aba07c372118973",
            "6c42e8159df14e5582a11b2735de522f",
            "2f970769900e45ce84c9671bc1c31e7a"
          ]
        },
        "outputId": "fe16cfb6-3c61-4e87-afeb-c06fce314133"
      },
      "source": [
        "import datasets\n",
        "from transformers import RobertaTokenizer, EncoderDecoderModel, AutoTokenizer\n",
        "from sklearn.model_selection import train_test_split\n",
        "\n",
        "tokenizer = AutoTokenizer.from_pretrained(\"vinai/phobert-base\", use_fast=False)\n",
        "\n",
        "model = EncoderDecoderModel.from_pretrained(\"./checkpoint-1500\")\n",
        "model.to(\"cuda\")\n",
        "\n",
        "# test_data = datasets.load_dataset(\"xsum\", split=\"test\")\n",
        "\n",
        "# # only use 16 training examples for notebook - DELETE LINE FOR FULL TRAINING\n",
        "# test_data = test_data.select(range(16))\n",
        "train_data, val_data = train_test_split(data_df, test_size=0.2)\n",
        "train_data =  Dataset.from_pandas(train_data)\n",
        "val_data =  Dataset.from_pandas(val_data)\n",
        "\n",
        "batch_size = 16  # change to 64 for full evaluation\n",
        "\n",
        "# map data correctly\n",
        "def generate_summary(batch):\n",
        "    # Tokenizer will automatically set [BOS] <text> [EOS]\n",
        "    inputs = tokenizer(batch[\"original\"], padding=\"max_length\", truncation=True, max_length=256, return_tensors=\"pt\")\n",
        "    input_ids = inputs.input_ids.to(\"cuda\")\n",
        "    attention_mask = inputs.attention_mask.to(\"cuda\")\n",
        "\n",
        "    outputs = model.generate(input_ids, attention_mask=attention_mask)\n",
        "\n",
        "    # all special tokens including will be removed\n",
        "    output_str = tokenizer.batch_decode(outputs, skip_special_tokens=True)\n",
        "\n",
        "    batch[\"pred\"] = output_str\n",
        "\n",
        "    return batch\n",
        "\n",
        "results = val_data.map(generate_summary, batched=True, batch_size=batch_size, remove_columns=[\"original\"])\n",
        "\n",
        "pred_str = results[\"pred\"]\n",
        "label_str = results[\"summary\"]\n",
        "\n"
      ],
      "execution_count": null,
      "outputs": [
        {
          "output_type": "stream",
          "text": [
            "Special tokens have been added in the vocabulary, make sure the associated word embedding are fine-tuned or trained.\n",
            "The following encoder weights were not tied to the decoder ['roberta/pooler']\n",
            "The following encoder weights were not tied to the decoder ['roberta/pooler']\n",
            "Setting `pad_token_id` to `eos_token_id`:2 for open-end generation.\n"
          ],
          "name": "stderr"
        },
        {
          "output_type": "display_data",
          "data": {
            "application/vnd.jupyter.widget-view+json": {
              "model_id": "205611ad5b8243b1bdf8d66f3291d2b1",
              "version_minor": 0,
              "version_major": 2
            },
            "text/plain": [
              "HBox(children=(FloatProgress(value=0.0, max=24.0), HTML(value='')))"
            ]
          },
          "metadata": {
            "tags": []
          }
        },
        {
          "output_type": "stream",
          "text": [
            "Setting `pad_token_id` to `eos_token_id`:2 for open-end generation.\n",
            "Setting `pad_token_id` to `eos_token_id`:2 for open-end generation.\n",
            "Setting `pad_token_id` to `eos_token_id`:2 for open-end generation.\n",
            "Setting `pad_token_id` to `eos_token_id`:2 for open-end generation.\n",
            "Setting `pad_token_id` to `eos_token_id`:2 for open-end generation.\n",
            "Setting `pad_token_id` to `eos_token_id`:2 for open-end generation.\n",
            "Setting `pad_token_id` to `eos_token_id`:2 for open-end generation.\n",
            "Setting `pad_token_id` to `eos_token_id`:2 for open-end generation.\n",
            "Setting `pad_token_id` to `eos_token_id`:2 for open-end generation.\n",
            "Setting `pad_token_id` to `eos_token_id`:2 for open-end generation.\n",
            "Setting `pad_token_id` to `eos_token_id`:2 for open-end generation.\n",
            "Setting `pad_token_id` to `eos_token_id`:2 for open-end generation.\n",
            "Setting `pad_token_id` to `eos_token_id`:2 for open-end generation.\n",
            "Setting `pad_token_id` to `eos_token_id`:2 for open-end generation.\n",
            "Setting `pad_token_id` to `eos_token_id`:2 for open-end generation.\n",
            "Setting `pad_token_id` to `eos_token_id`:2 for open-end generation.\n",
            "Setting `pad_token_id` to `eos_token_id`:2 for open-end generation.\n",
            "Setting `pad_token_id` to `eos_token_id`:2 for open-end generation.\n",
            "Setting `pad_token_id` to `eos_token_id`:2 for open-end generation.\n",
            "Setting `pad_token_id` to `eos_token_id`:2 for open-end generation.\n",
            "Setting `pad_token_id` to `eos_token_id`:2 for open-end generation.\n",
            "Setting `pad_token_id` to `eos_token_id`:2 for open-end generation.\n",
            "Setting `pad_token_id` to `eos_token_id`:2 for open-end generation.\n",
            "Setting `pad_token_id` to `eos_token_id`:2 for open-end generation.\n"
          ],
          "name": "stderr"
        },
        {
          "output_type": "stream",
          "text": [
            "\n"
          ],
          "name": "stdout"
        },
        {
          "output_type": "error",
          "ename": "NameError",
          "evalue": "ignored",
          "traceback": [
            "\u001b[0;31m---------------------------------------------------------------------------\u001b[0m",
            "\u001b[0;31mNameError\u001b[0m                                 Traceback (most recent call last)",
            "\u001b[0;32m<ipython-input-10-7ba9f17f0424>\u001b[0m in \u001b[0;36m<module>\u001b[0;34m()\u001b[0m\n\u001b[1;32m     39\u001b[0m \u001b[0mlabel_str\u001b[0m \u001b[0;34m=\u001b[0m \u001b[0mresults\u001b[0m\u001b[0;34m[\u001b[0m\u001b[0;34m\"summary\"\u001b[0m\u001b[0;34m]\u001b[0m\u001b[0;34m\u001b[0m\u001b[0;34m\u001b[0m\u001b[0m\n\u001b[1;32m     40\u001b[0m \u001b[0;34m\u001b[0m\u001b[0m\n\u001b[0;32m---> 41\u001b[0;31m \u001b[0mrouge_output\u001b[0m \u001b[0;34m=\u001b[0m \u001b[0mrouge\u001b[0m\u001b[0;34m.\u001b[0m\u001b[0mcompute\u001b[0m\u001b[0;34m(\u001b[0m\u001b[0mpredictions\u001b[0m\u001b[0;34m=\u001b[0m\u001b[0mpred_str\u001b[0m\u001b[0;34m,\u001b[0m \u001b[0mreferences\u001b[0m\u001b[0;34m=\u001b[0m\u001b[0mlabel_str\u001b[0m\u001b[0;34m,\u001b[0m \u001b[0mrouge_types\u001b[0m\u001b[0;34m=\u001b[0m\u001b[0;34m[\u001b[0m\u001b[0;34m\"rouge2\"\u001b[0m\u001b[0;34m]\u001b[0m\u001b[0;34m)\u001b[0m\u001b[0;34m[\u001b[0m\u001b[0;34m\"rouge2\"\u001b[0m\u001b[0;34m]\u001b[0m\u001b[0;34m.\u001b[0m\u001b[0mmid\u001b[0m\u001b[0;34m\u001b[0m\u001b[0;34m\u001b[0m\u001b[0m\n\u001b[0m\u001b[1;32m     42\u001b[0m \u001b[0;34m\u001b[0m\u001b[0m\n\u001b[1;32m     43\u001b[0m \u001b[0mprint\u001b[0m\u001b[0;34m(\u001b[0m\u001b[0mrouge_output\u001b[0m\u001b[0;34m)\u001b[0m\u001b[0;34m\u001b[0m\u001b[0;34m\u001b[0m\u001b[0m\n",
            "\u001b[0;31mNameError\u001b[0m: name 'rouge' is not defined"
          ]
        }
      ]
    },
    {
      "cell_type": "code",
      "metadata": {
        "id": "NHl8NMjEiTb6",
        "colab": {
          "base_uri": "https://localhost:8080/"
        },
        "outputId": "2972a103-e519-41ef-e325-132e8351aef4"
      },
      "source": [
        "rouge_output = rouge.compute(predictions=pred_str, references=label_str, rouge_types=[\"rouge2\"])[\"rouge2\"].mid\r\n",
        "\r\n",
        "print(rouge_output)"
      ],
      "execution_count": null,
      "outputs": [
        {
          "output_type": "stream",
          "text": [
            "Score(precision=0.1505006404700973, recall=0.12705074895880886, fmeasure=0.1319454793696977)\n"
          ],
          "name": "stdout"
        }
      ]
    },
    {
      "cell_type": "code",
      "metadata": {
        "id": "Y8R5CclwUGuC",
        "colab": {
          "base_uri": "https://localhost:8080/"
        },
        "outputId": "13acb9a8-66a5-4ce7-8377-4b2b13840ecb"
      },
      "source": [
        "pred_str"
      ],
      "execution_count": null,
      "outputs": [
        {
          "output_type": "execute_result",
          "data": {
            "text/plain": [
              "['Ngày 1/6, tại TP. HCM đã tổ_chức Đại_hội cổ_đông thường_niên năm 2016 với tên gọi Đại_hội cổ_đông năm 2015, với tên là Đại_hội_đồng cổ_đông năm 2016.',\n",
              " 'Trong đó, nữ diễn_viên xinh_đẹp nhất Hàn_Quốc đã đảm_nhận vai_trò diễn_viên chính trong bộ phim tình_cảm lãng_mạn, lãng_mạn.',\n",
              " 'Trong đó, người_dân phát_hiện thi_thể một nam thanh_niên đang nằm bên vệ đường, nghi bị sát_hại.',\n",
              " 'Theo thông_tin ban_đầu được đăng_tải trên mạng xã_hội Thổ_Nhĩ_Kỳ cho biết, hãng hàng_không EgyptAir đã hạ_cánh xuống biển Địa_Trung_Hải sau khi hạ_cánh xuống sân_bay quốc_tế Istanbul.',\n",
              " 'Sáng nay ( 1/6 ), tại Hà_Nội, Bộ NN PTNT PTNT & & PTNT ) cho biết, đơn_vị này đang phối_hợp với các địa_phương, các tỉnh, thành, thành_phố, thành_phố phía phía Nam, vùng miền Trung, các các tỉnh phía Trung, Tây_Nguyên, miền Trung và miền Trung - - Trung - Trung,',\n",
              " 'Trong trận đấu giữa hai đội đội bóng của Anh, tiền_vệ ĐT ĐT Anh vừa được HLV Roy_Hodgson triệu_tập vào danh_sách 23 cầu_thủ tham_dự Euro 2016.',\n",
              " 'Theo thông_tin ban_đầu, người_dân phát_hiện thi_thể một nam thanh_niên nằm bên vệ đường, nghi do bị sát_hại.',\n",
              " 'Trong đó, dự_án Khu đô_thị Đoàn_Ngoại_Giao sẽ được xây_dựng tại Khu đô_thị Ngoại_Giao, quận 2, TP. HCM, chủ đầu_tư dự_án là Công_ty TNHH Đầu_tư Phát_triển Phát_triển hạ_tầng Khang_Khang_Điền.',\n",
              " 'Trong đó, chỉ_số PMI toàn_cầu của PMI ( PMI ) tháng 5/2016 tăng 0,54% so với tháng trước, tăng 0,16% so với cùng kỳ trước.',\n",
              " 'Trong đó, Bộ NN & PTNT, Văn_phòng Chính_phủ đã có công_văn gửi Thủ_tướng Chính_phủ Nguyễn_Xuân_Phúc, đề_nghị Thủ_tướng Nguyễn_Xuân_Phúc, Thủ_tướng Nguyễn_Xuân_Phúc xem_xét, xem_xét,, chỉ_đạo chỉ_đạo các cơ_quan liên_quan liên_quan đến việc xử_lý các vấn_đề liên_quan đến đến đến các dự_án thuỷ_điện ở miền Trung.',\n",
              " 'Ngày 1/6, tại Bệnh_viện Nhi_Trung ương ( TP HCM ) đã tổ_chức lễ phát_động phát_động chiến_dịch hiến tạng người hiến tạng, hiến tạng.',\n",
              " 'Sau khi bị ném bom_xăng ném bom_xăng, nhóm thanh_niên cầm mã_tấu cầm mã_tấu, mã_tấu ném bom_xăng vào quán cà_phê để ném bom_xăng.',\n",
              " 'Ngày 1/6, tại TP. HCM ( TP. HCM ), Ban Tổ_chức Đại_hội Đại_hội cổ_đông thường_niên năm 2016, Đại_hội cổ_đông năm 2016.',\n",
              " 'Theo thông_tin từ nguồn nguồn tin từ phía phía LĐBĐ Thuỵ_Điển cho biết, họ đã chính_thức công_bố danh_sách 23 cầu_thủ của ĐT Thuỵ_Điển. Theo đó, tiền_đạo Zlatan_Ibrahimovic sẽ được điền tên vào danh_sách chính_thức.',\n",
              " 'Ngày 1/6, UBND TP Hà_Nội Nguyễn_Đức_Chung, Chủ_tịch UBND TP. Hà_Nội Nguyễn_Đức_Chung đã ký quyết_định phê_duyệt phê_duyệt Quy_hoạch chi_tiết chi_tiết Khu đô_thị Đoàn_Ngoại_Giao, quận Đống_Đa, Hà_Nội, TP Hà_Nội, UBND Hà_Nội.',\n",
              " 'Ngày 1/6, tại Hà_Nội, nhóm nhạc nữ nữ nổi_tiếng của nhóm nhạc Hello_Hello_Yellow đã chính_thức ra_mắt MV mới nhất của nhóm nhóm nhạc nhạc nữ Hello_YelYellow. Đây là một sáng_tác mới của nhạc_sĩ Đỗ_Hiếu.',\n",
              " 'Ngày 1/6, Bộ Thương_mại Trung_Quốc ( Trung_Quốc ) cho biết, nước này này sẽ xem_xét lại mức thuế nhập_khẩu của Trung_Quốc trong thời_gian tới.',\n",
              " 'Ngày 1/6, hãng hàng_không ANA ANA ( ANA ) vừa công_bố danh_sách các hãng hàng_không lớn nhất thế_giới của nước này trong tháng này.',\n",
              " 'Ngày 1/6, hãng hàng_không EgyptAir đã khai_trương đường_bay mới của hãng này tại thủ_đô Cairo.',\n",
              " 'Theo thông_tin từ quân_đội Iraq cho biết, một nhóm Taliban đã đánh bom một căn_cứ_quân_sự ở tỉnh Latakia, Syria, khiến ít_nhất 70 người thiệt_mạng.',\n",
              " 'Sáng nay ( 1/6 ), tại Hà_Nội, Tập_đoàn Vingroup ( Tập_đoàn Vingroup ) đã tổ_chức Lễ ký_kết hợp_tác hợp_tác chiến_lược với Công_ty Cổ_phần Cổ_phần Tập_đoàn Đầu_tư Khải_Hoàn Hoàn.',\n",
              " 'Theo báo_cáo của Sở GTVT TP. HCM cho biết, đơn_vị này đang phối_hợp với với các đơn_vị liên_quan để kiểm_tra, xác_định nguyên_nhân cá chết ở kênh Nhiêu_Lộc - Thị_Nghè.',\n",
              " 'Theo báo_cáo của Bộ Nội_vụ, Văn_phòng Văn_phòng Chính_phủ vừa có kết_luận về việc bổ_nhiệm trái quy_định của Chủ_tịch UBND UBND TP TP Đà_Nẵng Đà_Nẵng.',\n",
              " 'Trong quá_trình thi_công, Tập_đoàn Điện_lực Việt_Nam ( EVN ) vừa có văn_bản gửi Thủ_tướng Chính_phủ Nguyễn_Xuân_Phúc cho biết, đơn_vị này này đang khẩn_trương triển_khai các thủ_tục để sớm hoàn_thành các thủ_tục thủ_tục đầu_tư đầu_tư.',\n",
              " 'Ngày 1/6, Tổng_thống Philippines Rodrigo_Duterte đã tuyên_thệ nhậm_chức, tuyên_thệ nhậm_chức tại thủ_đô Manila.',\n",
              " 'Ngày 1/6, tại TP. HCM ( TP HCM ), UBND TP. HCM ) đã tổ_chức họp_báo thông_tin về việc tổ_chức lễ khởi_công dự_án công_viên Bạch_Đằng, quận 1, TP. HCM.',\n",
              " 'Ngày 1/6, tại huyện Krông_Pa, Gia_Lai đã tổ_chức lễ phát_động phát_động chiến_dịch hiến máu cứu người.',\n",
              " 'Theo thông_tin đăng_tải trên mạng xã_hội Trung_Quốc, một trang tin Trung_Quốc đã đăng_tải bài viết trên trang cá_nhân của một người đẹp Trung_Quốc.',\n",
              " 'Theo thông_tin ban_đầu từ Công_an TP. Thủ_Dầu_Một ( tỉnh Bình_Dương ) cho biết, đơn_vị này đang phối_hợp với Công_an TP. TP. Thủ_Dầu_Một, tỉnh Bình_Dương để điều_tra, truy bắt nghi phạm chém người.',\n",
              " 'Trong đó, một người đàn_ông bị điện giật tử_vong khi bị giật điện giật dẫn đến tử_vong.',\n",
              " 'Theo thông_tin ban_đầu từ cơ_quan Công_an tỉnh Đắk_Lắk cho biết, đơn_vị này đang điều_tra, xác_minh nguyên_nhân vụ án_mạng khiến một người tử_vong.',\n",
              " 'Trong trận đấu với Philippines, Philippines đã giành chiến_thắng đậm trước đối_thủ này trong trận đấu diễn ra hôm_nay ( 1/6 ).',\n",
              " 'Sáng nay ( 1/6 ), tại TP. HCM ), Ban Tổ_chức Trung_ương phối_hợp với Ban Tổ_chức Thành_uỷ TP. HCM, UBND TP. HCM HCM phối_hợp với Sở Du_lịch TP. HCM tổ_chức lễ kỷ_niệm kỷ_niệm 65 năm thành_lập thành_lập Khu lưu_niệm lưu_niệm Hồ_Chí_Minh - Khu Văn_hoá Văn_hoá Sài_Gòn - TP. HCM - - Khu Du_lịch Sài_Gòn - - Suối_Tiên.',\n",
              " 'Theo thông_tin từ Công_an tỉnh Đắk_Lắk cho biết, đơn_vị này đang phối_hợp với Công_an huyện Buôn_Đôn để điều_tra, truy bắt trùm trùm băng băng băng chém người trong đêm.',\n",
              " 'Sau khi bị cảnh_sát bắt_giữ sau khi bị một kẻ lạ_mặt dùng dao khống_chế để cướp tài_sản và cướp tài_sản.',\n",
              " 'Trong trận đấu giữa hai đội đội bóng đã kết_thúc hồi cuối tháng tháng này.',\n",
              " 'Sáng nay ( 1/6 ), tại Hà_Nội ), Bộ NN PTNT PTNT & PTNT ) vừa có công_văn gửi Bộ NN & PTNT ( NN PTNT & & PTNT, Bộ Nông_nghiệp & PTNT và PTNT PTNT, các địa_phương, các tỉnh, vùng miền miền Trung, Trung, Tây_Nguyên, miền Trung và miền Trung - - Tây_Nguyên',\n",
              " 'Trong quá_trình điều_tra, Công_an tỉnh Đắk_Lắk cho biết, đơn_vị này đang phối_hợp với Công_an huyện Buôn_Đôn ( Đắk_Lắk ) để điều_tra, truy bắt nghi phạm đã gây ra vụ án_mạng xảy ra trên địa_bàn.',\n",
              " 'Trong quá_trình điều_tra, Công_an huyện Quế_Phong, Nghệ_An bắt khẩn_cấp một đối_tượng dùng dao chém gục một cán_bộ Công_an xã Mường_Nọc, huyện Quế_Phong.',\n",
              " 'Ngày 1/6, tại Hà_Nội, Công_an TP Hà_Nội cho biết, đơn_vị này đang phối_hợp với các đơn_vị liên_quan liên_quan đến việc xử_lý các vụ vi_phạm trật_tự an_toàn giao_thông đô_thị.',\n",
              " 'Theo thông_tin ban_đầu, một nam thanh_niên đã tử_vong sau khi bị đâm vào cổ.',\n",
              " 'Trong đó, một người đàn_ông bị điện giật tử_vong khi bị giật điện giật dẫn đến tử_vong.',\n",
              " 'Ngày 1/6, TAND TP. HCM đã tuyên tuyên_án tử_hình đối_với bị_cáo Đinh_La_Thăng, nguyên Chủ_tịch UBND TP. TP. HCM Đinh_La_Thăng về tội “ giết người ”, gây hậu_quả nghiêm_trọng ”.',\n",
              " 'Trong đó, dự_án Khu đô_thị Đoàn_Ngoại_Giao sẽ được xây_dựng tại Khu đô_thị Ngoại_Giao, huyện Sóc_Sơn, Hà_Nội, Hà_Nội và các nhà_đầu_tư đã ký hợp_đồng hợp_tác hợp_tác đầu_tư với các các dự_án.',\n",
              " 'Theo báo_cáo của Tổng_thống Hàn_Quốc Kim Jong-un, một vụ đánh bom đã xảy ra tại một căn_cứ_quân_sự quân_sự của Hàn_Quốc.',\n",
              " 'Ngày 1/6, UBND tỉnh Lào_Cai đã tổ_chức Lễ khởi_công Dự_án Tổ_hợp Trung_tâm thương_mại Sa_Pa – Sa_Pa, Sa_Pa, tỉnh Lào_Cai. Đây là là dự_án Trung_tâm văn_hoá Sa_Pa - Sa_Pa.',\n",
              " 'Ngày 1/6, tại thủ_đô Moscow, Nga, Tổng_thống Vladimir_Putin đã ký quyết_định bổ_nhiệm Tổng_thống Nga Vladimir_Putin làm Tổng_thống mới của nước này vào ngày 1/6.',\n",
              " 'Theo thông_tin ban_đầu cho biết, đơn_vị này đang phối_hợp với các đơn_vị liên_quan để điều_tra nguyên_nhân, xác_định nguyên_nhân gây ra vụ tai_nạn máy_bay xảy ra tại sân_bay Buôn_Ma_Thuột, Buôn_Ma_Thuột.',\n",
              " 'Theo báo_cáo của Bộ Tài_chính, Tổng_cục Thống_kê ( Bộ Tài_chính ) vừa có công_văn gửi Bộ Tài_chính đề_nghị dừng hoạt_động bán hàng đa_cấp tại các cửa_hàng bán đa_cấp, cửa_hàng trà sữa, trà sữa.',\n",
              " 'Sáng nay ( 1/6 ), tại Bệnh_viện Nhi_Trung ương đã tổ_chức lễ khởi_công khởi_công Bệnh_viện Nhi ( BV Nhi ), Bệnh_viện Nhi trung_ương ).',\n",
              " 'Trong bối_cảnh căng_thẳng kinh_tế thế_giới, Tổng_thống Mỹ Barack_Obama đã ký một thoả_thuận cắt_giảm sản_lượng dầu_thô của nước này với Mỹ.',\n",
              " 'Ngày 1/6, tại TP. HCM, Công_viên phần_mềm Quang_Trung ( TP HCM ), UBND TP. HCM ) cho biết, trên cơ_sở cơ_sở pháp_lý của UBND TP HCM đã có quyết_định phê_duyệt Quy_hoạch chi_tiết Khu công_viên phần_mềm Quang_Trung.',\n",
              " 'Theo thông_tin ban_đầu, tiền_vệ Lương_Xuân_Trường đã chính_thức được ký hợp_đồng với CLB Incheon_United.',\n",
              " 'Theo thông_tin từ Công_an TP. HCM, Công_an TP HCM cho biết, đơn_vị này đang phối_hợp với Công_an TP Hồ_Chí_Minh để điều_tra về hành_vi vận_chuyển trái_phép chất ma_tuý, tàng_trữ trái_phép vũ_khí quân_dụng.',\n",
              " 'Ngày 1/6, Bộ GD & ĐT & & ĐT, Bộ Giáo_dục & ĐT ( GD ĐT ), các sở GD & và các địa_phương, thành_phố, thành_phố trực_thuộc Trung_ương.',\n",
              " 'Theo thông_tin ban_đầu, một nhóm người dùng mã_tấu mã_tấu, mã_tấu, kiếm chém gục một người đàn_ông.',\n",
              " 'Theo báo_cáo của Tổng_cục Thống_kê, Tổng_cục Đường_bộ Việt_Nam ( GPLX ) ) vừa có văn_bản gửi Tổng_cục Đường_bộ VN ( Tổng_cục Đường_bộ ) về việc triển_khai dịch_vụ công công mức_độ 4.',\n",
              " 'Trong quá_trình thi_công dự_án nhà cao_tầng tại quận 2, TP. HCM, UBND TP. HCM vừa ban_hành quyết_định thu_hồi thu_hồi dự_án xây_dựng chung_cư 727 727 Trần_Hưng_Đạo, quận 5, TP HCM để giao chủ đầu_tư.',\n",
              " 'Ngày 1/6, tại TP. HCM đã tổ_chức lễ phát_động phát_động chiến_dịch chiến_dịch hiến tạng hiến tạng, hiến tạng người hiến tạng.',\n",
              " 'Sáng nay ( 1/6 ), tại huyện Quế_Phong, tỉnh Nghệ_An ) đã tổ_chức lễ phát_động bầu_cử đại_biểu Quốc_hội khoá khoá XIV, nhiệm_kỳ 2021 - 2021.',\n",
              " 'Theo thông_tin ban_đầu từ phía phía CLB Barcelona, tiền_vệ Daniel_Daniel_Alves đã được cho là đã được điều_trị khỏi khỏi tình_trạng chấn_thương.',\n",
              " 'Ngày 1/6, tại Công_viên văn_hoá Sa_Pa, tỉnh Lào_Cai đã tổ_chức Lễ khai_mạc Công_viên văn_hoá thế_giới Sa_Pa. Đây là dự_án công_viên văn_hoá Sa_Pa.',\n",
              " 'Trong đó, TP. HCM sẽ tổ_chức lễ khởi_công dự_án chung_cư cao_tầng đầu_tiên tại trung_tâm TP. HCM, do UBND TP. HCM vừa ban_hành quyết_định phê_duyệt Quy_hoạch chi_tiết chi_tiết tỷ_lệ 1/1/0.',\n",
              " 'Trong trận đấu với ĐT Syria, ĐT Việt_Nam đã giành quyền tham_dự Olympic_Rio 2016 tại Brazil.',\n",
              " 'Trong khi đang đang làm_đồng thì bị điện giật tử_vong khiến người đàn_ông tử_vong.',\n",
              " 'Theo thông_tin ban_đầu từ nguồn nguồn tin từ từ phía phía Tây_Ban_Nha cho biết, họ đang rất tích_cực tích_cực để chuẩn_bị cho EURO 2016.',\n",
              " 'Trong đó, chỉ_số giá tiêu_dùng tiêu_dùng tháng 5/2016 tăng 0,54% so với tháng trước.',\n",
              " 'Theo báo_cáo của Tổng_cục Thuỷ_lợi cho biết,, đơn_vị này đang khẩn_trương rà_soát rà_soát, xác_định nguyên_nhân cá chết hàng_loạt ở các vùng miền Trung để báo_cáo Thủ_tướng Chính_phủ.',\n",
              " 'Ngày 1/6, Bộ Giao_thông và Truyền_thông ( GTVT ) đã chính_thức công_bố danh_sách các doanh_nghiệp viễn_thông lớn nhất tại Việt_Nam. Theo đó, hãng này sẽ cung_cấp dịch_vụ công công mức_độ 4.',\n",
              " 'Sau khi có những động_thái tích_cực, Tổng_thống Thổ_Nhĩ_Kỳ Recep_Tayyip_Erdogan đã tuyên_bố sẽ không bao_giờ bao_giờ xa_rời vị_trí này.',\n",
              " 'Trong đó, ĐT Việt_Nam đã giành quyền dự tranh Olympic_Rio 2016. Đây là trận đấu diễn ra ở Hà_Nội.',\n",
              " 'Theo thông_tin ban_đầu, người_dân đang hoang_mang vì bị một nhóm người lạ_mặt chặn xe, đập cửa_kính, phá kính, phá tài_sản.',\n",
              " 'Ngày 1-6, TAND TP Hà_Nội đã tuyên quyết_định thu_hồi thu_hồi quyết_định thu_hồi nội_dung nội_dung bán hàng đa_cấp, đồng_thời thu_hồi toàn_bộ số tiền thu bất_chính.',\n",
              " 'Theo báo_cáo của Tổng_thống Nga Vladimir_Putin, Tổng_thống Vladimir_Putin đã ký lệnh lệnh cấm không_kích các mục_tiêu tại Syria ở miền đông Syria.',\n",
              " 'Ngày 1/6, hãng hàng_không Emirates đã công_bố danh_sách các hãng hàng_không lớn nhất thế_giới, theo đó, hãng tin Reuters đã đưa tin.',\n",
              " 'Theo thông_tin từ Công_an TP. HCM, Công_an TP HCM cho biết, đơn_vị này đang tạm giữ hình_sự để điều_tra về hành_vi mua_bán trái_phép chất ma_tuý.',\n",
              " 'Trong khi đang đi tập_thể_dục, một người đàn_ông đã bị điện giật tử_vong khi đang đang chạy tập_thể_dục.',\n",
              " 'Theo thông_tin từ trang xã_hội, người đẹp đang chia_sẻ hình_ảnh hình_ảnh của cô gái được đăng_tải trên mạng xã_hội.',\n",
              " 'Theo thông_tin ban_đầu từ Công_an TP. Biên_Hoà, Công_an TP Biên_Hoà, tỉnh Đồng_Nai cho biết, đơn_vị này đang phối_hợp với Công_an huyện Long_Thành để điều_tra, truy bắt hung_thủ đã gây ra vụ án_mạng nghiêm_trọng.',\n",
              " 'Trong đó, nam thanh_niên 18 tuổi bị một nhóm thanh_niên dùng dao chém chết.',\n",
              " 'Ngày 1/6, tại Hà_Nội, Ban Tổ_chức Trung_ương Giải Báo_chí toàn_quốc về xây_dựng Đảng tổ_chức họp_báo Giải báo_chí toàn_quốc lần thứ 5.',\n",
              " 'Theo thông_tin ban_đầu, người_dân phát_hiện thi_thể một nam thanh_niên nằm bên vệ đường, nghi do bị giật.',\n",
              " 'Ngày 1/6, Tổng_thống Philippines Rodrigo_Duterte đã tuyên_thệ nhậm_chức, tuyên_thệ nhậm_chức tại thủ_đô Manila.',\n",
              " 'Sáng nay ( 1/6 ), tại TP. HCM ), các doanh_nghiệp chế_biến thuỷ_sản xuất_khẩu xuất_khẩu vào EU ( EU ) đã ký hợp_đồng với các cơ_sở chế_biến chế_biến hải_sản xuất_khẩu xuất_khẩu.',\n",
              " 'Theo thông_tin ban_đầu từ phía phía CLB Barcelona, tiền_đạo Lionel_Messi đã được cho là sẽ trở_lại với ĐT Argentina.',\n",
              " 'Theo thông_tin từ Công_an tỉnh Đắk_Lắk cho biết, đơn_vị này đang phối_hợp với Công_an huyện Krông_Năng, tỉnh Đắk_Lắk để điều_tra, truy bắt được kẻ dùng dao chém chết người.',\n",
              " 'Ngày 1/6, Tập_đoàn TH ( TH ) đã tổ_chức Lễ ký_kết hợp_tác chiến_lược với Tập_đoàn TH TH và Tập_đoàn TH True_Milk và TH TH, TH và TH True_True_Milk.',\n",
              " 'Trong lúc hàn dây_điện, nam công_nhân hàn điện bị điện giật tử_vong.',\n",
              " 'Sáng nay ( 1/6 ), tại Bệnh_viện Nhi_Trung ương ( Yên_Bái ) đã xảy ra vụ hoả_hoạn xảy ra tại Bệnh_viện Nhi Nhi tỉnh Yên_Bái, khiến 3 người bị_thương.',\n",
              " 'Theo báo_cáo của Tổng_thống Hàn_Quốc Kim Jong-un, hôm_nay ( 1/6 ), ông Kim Jong-un đã tuyên_thệ nhậm_chức, tuyên_thệ nhậm_chức tại thủ_đô Seoul.',\n",
              " 'Sáng nay ( 1/6 ), tại sân_bay Đà_Nẵng, sân_bay Đà_Nẵng đã diễn ra lễ kỷ_niệm 70 năm Quốc_khánh Quốc_khánh Việt_Nam năm Quốc_khánh Cộng_hoà Cộng_hoà Cộng_hoà Việt_Nam.',\n",
              " 'Trong quá_trình xây_dựng dự_án thuỷ_điện Đrăng_Phốk ( Đắk_Lắk ), Công_ty Cổ_phần Thuỷ_điện Đắk_Lắk ( EVN ) đã ký thoả_thuận hợp_tác đầu_tư với Công_ty TNHH MTV MTV thuỷ_điện Đắk_Lắk ( HAGL ) để đầu_tư xây_dựng nhà_máy thuỷ_điện răng_PhPhốk ).',\n",
              " 'Ngày 1/6, một vụ hoả_hoạn xảy ra tại một bệnh_viện nhi ở miền tây Ấn_Độ, khiến một bé trai thiệt_mạng.',\n",
              " 'Theo thông_tin đăng_tải trên mạng xã_hội Trung_Quốc, một trang tin Trung_Quốc đưa tin về việc một cặp đôi đã hẹn_hò với nhau ở Trung_Quốc.',\n",
              " 'Sáng nay ( 1/6 ), tại Hà_Nội ), Tập_đoàn Vingroup ( Vingroup ) đã tổ_chức Lễ ký_kết hợp_tác chiến_lược với Tập_đoàn Vingroup tại Việt_Nam.',\n",
              " 'Ngày 1/6, Tập_đoàn Vingroup ( Vingroup ) đã chính_thức tổ_chức Lễ ký_kết hợp_tác hợp_tác chiến_lược với Công_ty Cổ_phần Cổ_phần Tập_đoàn Vingroup - Vinmart ( Vinmart ).',\n",
              " 'Theo thông_tin ban_đầu, người_dân phát_hiện thi_thể một nam thanh_niên nằm bên vệ đường, nghi do bị giật.',\n",
              " 'Trong quá_trình điều_tra, Phòng Cảnh_sát hình_sự tỉnh Bắc_Giang, Công_an tỉnh Bắc_Giang cho biết, đơn_vị này vừa triệt_phá thành_công đường_dây buôn_bán ma_tuý quy_mô lớn nhất tỉnh Bắc_Giang.',\n",
              " 'Sáng nay ( 1/6 ), tại TP. HCM ) đã xảy ra một vụ tai_nạn giao_thông nghiêm_trọng xảy ra trên đường Nguyễn_Văn_Linh, quận 7, TP. HCM.',\n",
              " 'Theo thông_tin từ Công_an TP. HCM cho biết, đơn_vị này đang điều_tra vụ án_mạng xảy ra trên địa_bàn TP. HCM để điều_tra.',\n",
              " 'Sau khi bị kết_án vì âm_mưu đánh bom liều chết tại sân_bay quốc_tế Kuala_Lumpur, Malaysia, đã bị kết_án tử_hình.',\n",
              " 'Sáng nay ( 1/6 ), tại Bệnh_viện Nhi_Trung ương ( TP HCM ) đã xảy ra vụ tai_nạn giao_thông nghiêm_trọng xảy ra trên đường Nguyễn_Văn_Linh, TP. HCM.',\n",
              " 'Theo thông_tin từ phía phía Trung_Quốc, hãng tin Reuters cho biết, hãng hãng tin AFP cho biết họ đang trong quá_trình hoàn_tất quá_trình đàm_phán với các đối_tác Trung_Quốc tại Trung_Quốc.',\n",
              " 'Trong đó, dự_án Khu đô_thị đô_thị mới Sa_Pa được xây_dựng tại Khu đô_thị Sa_Pa, Sa_Pa, tỉnh Lào_Cai và tỉnh Lào_Cai, Lào_Cai, Yên_Bái, Yên_Bái và Yên_Bái.',\n",
              " 'Sáng nay ( 1/6 ), tại Bệnh_viện Nhi_Trung ương, Bệnh_viện Nhi ( BV Nhi ) đã tổ_chức lễ kỷ_niệm 70 năm thành_lập thành_lập Bệnh_viện Nhi. Đây là ngày thành_lập bệnh_viện này.',\n",
              " 'Sáng nay ( 1/6 ), tại TP Đà_Nẵng Đà_Nẵng ), Bộ Quốc_phòng Việt_Nam cho biết, đơn_vị này đã ký thoả_thuận hợp_tác hợp_tác với Việt_Nam để tăng_cường hợp_tác an_ninh với Việt_Nam.',\n",
              " 'Theo thông_tin ban_đầu từ Công_an tỉnh Đắk_Lắk cho biết, cơ_quan điều_tra đang khẩn_trương điều_tra, truy bắt nghi phạm đã giết vợ của mình.',\n",
              " 'Theo thông_tin từ Công_an TP. HCM cho biết, đơn_vị này đang phối_hợp với Công_an TP HCM để điều_tra, truy bắt các đối_tượng phạm liên_quan đến đường_dây lừa_đảo chiếm_đoạt tài_sản.',\n",
              " 'Theo thông_tin ban_đầu từ Tổng_cục Thống_kê đã được Tổng_cục Thống_kê công_bố trên trang thông_tin điện_tử chính_thức của Tổng_cục Thống_kê. Theo đó, Việt_Nam sẽ tham_dự Đại_hội Thể_thao Bãi biển châu_Á 2016.',\n",
              " 'Trong quá_trình xây_dựng dự_án chung_cư cao_tầng tại quận Thanh_Xuân, Hà_Nội, UBND TP Hà_Nội Nguyễn_Đức_Chung vừa ban_hành quyết_định thu_hồi thu_hồi dự_án đầu_tư xây_dựng khu chung_cư cao_tầng cao_tầng cao_tầng tại phường Nam_Sơn, quận Thanh_Xuân ( Hà_Nội ).',\n",
              " 'Sau khi bị kết_án vì âm_mưu âm_mưu đánh bom tự_sát ở Pakistan, một nhóm Taliban đã đánh bom liều chết tại một căn_cứ_quân_sự của Pakistan.',\n",
              " 'Trong trận đấu giữa hai đội đội bóng đã kết_thúc hồi cuối kỳ kỳ nghỉ vừa_qua.',\n",
              " 'Sáng nay ( 1/6 ), Công_an tỉnh Bắc_Giang ) đã phối_hợp với Công_an huyện Sơn_Động ( Bắc_Giang ), bắt quả_tang 2 đối_tượng vận_chuyển trái_phép chất ma_tuý, vận_chuyển hơn 10 kg ngà_voi.',\n",
              " 'Ngày 1/6, hãng hàng_không Emirates thông_báo, hãng này sẽ ngừng hoạt_động tại Venezuela, theo hãng tin Reuters.',\n",
              " 'Ngày 1/6, HLV Mourinho đã chính_thức ký hợp_đồng mới với HLV Mourinho, sau khi được bổ_nhiệm bổ_nhiệm.',\n",
              " 'Theo thông_tin từ trang cá_nhân của ca_sĩ Đông_Nhi, ca_sĩ Đông_Nhi sẽ đảm_nhận vai_trò ca_sĩ chính trong MV I I m I I I Love Love you you.',\n",
              " 'Trong khi đang đánh_bắt cá_ngừ vây vây xanh ở vùng_biển Hoàng_Sa, ngư_dân Khánh_Hoà phát_hiện một con cá_ngừ vây xanh xanh nặng nặng nhất Việt_Nam.',\n",
              " 'Sau khi bị kết_án vì âm_mưu âm_mưu đánh bom tự_sát ở Pakistan, nhóm Taliban đã lên kế_hoạch tấn_công khủng_bố tại thủ_đô London, Anh.',\n",
              " 'Trong đó, chỉ_số giá tiêu_dùng tháng 5/2016 tăng 0,54% so với tháng trước, tăng 0,21% so với cùng kỳ năm trước.',\n",
              " 'Sáng nay ( 1/6 ), tại TP. HCM ), Công_an TP. HCM ( PC 67 ) cho biết, đơn_vị này đang điều_tra, xác_minh nguyên_nhân vụ tai_nạn tai_nạn giao_thông nghiêm_trọng xảy ra trên địa_bàn TP. HCM.',\n",
              " 'Theo thông_tin ban_đầu từ phía phía CLB Barcelona, tiền_vệ Daniel_Daniel_Alves đã được cho là đã được điều_trị khỏi tình_trạng chấn_thương.',\n",
              " 'Ngày 1/6, tại TP. HCM ( TP. HCM ), Ban Tổ_chức Đại_hội Đại_hội cổ_đông thường_niên năm 2016, Đại_hội cổ_đông năm 2016.',\n",
              " 'Ngày 1/6, HLV Mourinho đã chính_thức ký hợp_đồng mới với HLV trưởng MU.',\n",
              " 'Sáng nay ( 1/6 ), Tập_đoàn Điện_lực Việt_Nam ( EVN ) cho biết, đơn_vị này vừa có báo_cáo gửi Thủ_tướng Chính_phủ Nguyễn_Xuân_Phúc về việc khắc_phục sự_cố điện xảy ra tại sân_bay Buôn_Ma_Thuột, tỉnh Đắk_Lắk.',\n",
              " 'Ngày 1/6, Bộ Giáo_dục và Truyền_thông ( GD & ), Bộ GD & ĐT ) cho biết đã có văn_bản gửi Bộ Tài_chính, đề_nghị các tỉnh, thành_phố, các thành_phố, thành_phố phía Nam và các tỉnh phía Nam.',\n",
              " 'Theo thông_tin từ phía phía Trung_Quốc, một nhóm nhóm người Trung_Quốc đang làm_việc tại Trung_Quốc để kiếm tiền từ Trung_Quốc.',\n",
              " 'Trong đó, Việt_Nam đã đạt được mức tăng_trưởng ấn_tượng nhất trong năm 2016. Mức tăng_trưởng ấn_tượng của nền kinh_tế Việt_Nam.',\n",
              " 'Sau khi dùng dao chém liên_tiếp nhiều nhát dao vào người bạn gái.',\n",
              " 'Ngày 1/6, Tập_đoàn ANA Holdings ( ANA ) đã ký thoả_thuận hợp_tác chiến_lược toàn_diện với Tập_đoàn ANA ANA Holdings Inc..',\n",
              " 'Trong trận đấu với Syria, ĐT Việt_Nam đã giành quyền dự VCK Euro 2016 tại Pháp.',\n",
              " 'Ngày 1/6, tại Hà_Nội, Ban Tổ_chức Trung_ương bầu_cử đại_biểu Quốc_hội khoá XIV, đại_biểu HĐND khoá XIV và đại_biểu HĐND cấp khoá khoá XIV - 2021.',\n",
              " 'Theo báo_cáo của Bộ NN & PTNT ( PTNT ) ) cho biết, đơn_vị này đang phối_hợp với các sở, ngành, các tỉnh, thành_phố, thành_phố trực_thuộc Trung_ương. Theo đó, báo_cáo của Văn_phòng Chính_phủ về việc việc thực_hiện các quy_định của Thủ_tướng Chính_phủ và Thủ_tướng Chính_phủ, Thủ_tướng Chính_phủ vừa ký quyết_định quyết_định phê_duyệt chủ_trương chủ_trương đầu_tư',\n",
              " 'Trong đó, nữ diễn_viên Hollywood đã vào_vai chính trong bộ phim tình_cảm lãng_mạn, lãng_mạn nhất Hollywood.',\n",
              " 'Theo thông_tin ban_đầu, người_dân phát_hiện thi_thể một nam thanh_niên nằm bên vệ đường, nghi do bị giật.',\n",
              " 'Sau khi bị cảnh_sát bắt_giữ, một người đàn_ông đã bị bắt_giữ sau khi bị một nhóm người đánh bom tự_sát tại một lễ_hội âm_nhạc ở Đức.',\n",
              " 'Trong đó, các ngân_hàng TMCP TMCP TMCP Sài_Gòn Sài_Gòn - Saigonbank, BIDV, BIDV và BIDV, Vietinbank, BIDV BIDV, VietinBank, Vietinbank và BIDV và các Chi_nhánh TMCP Sài_Gòn ( Saigonbank ), BIDV ) và BIDV ).',\n",
              " 'Theo báo_cáo của Tổng_cục Thống_kê, Tổng_cục Đường_bộ Việt_Nam ( Tổng_cục Đường_bộ ) vừa công_bố danh_sách các mẫu xe côn côn tay, côn tay 150 phân_khối, Winner 150 phân_khối.',\n",
              " 'Sáng nay ( 1/6 ), tại Hà_Nội, Bộ Y_tế ) đã tổ_chức lễ kỷ_niệm 70 năm Quốc_khánh Quốc_khánh Quốc_khánh, ngày 1/6, tại Bệnh_viện Nhi_Trung ương, Hà_Nội.',\n",
              " 'Theo thông_tin ban_đầu, người_dân phát_hiện thi_thể một nam thanh_niên nằm bên vệ đường, nghi do bị sát_hại.',\n",
              " 'Sáng nay ( 1/6 ), tại TP Nha_Trang, tỉnh Khánh_Hoà ) cho biết, đơn_vị này vừa có báo_cáo gửi Bộ NN PTNT PTNT, Bộ NN & PTNT ( NN PTNT ), Bộ Nông_nghiệp & & PTNT ) và Bộ Nông_nghiệp PTNT ( PTNT ) ) vừa có công_văn gửi Bộ Thuỷ_sản ( Bộ NN ), các tỉnh',\n",
              " 'Sáng nay ( 1/6 ), tại TP. HCM ), Bộ Y_tế đã tổ_chức lễ phát_động phát_động chiến_dịch chiến_dịch bảo_tồn tê_giác tại Việt_Nam.',\n",
              " 'Theo thông_tin ban_đầu, Công_an tỉnh Đắk_Lắk vừa triệt_phá chuyên_án lớn về ma_tuý lớn nhất tại tỉnh này. Vụ triệt_phá thành_công đường_dây buôn_bán ma_tuý lớn lớn nhất Việt_Nam.',\n",
              " 'Trong đó, người_dân phát_hiện thi_thể một nam thanh_niên tử_vong bên vệ đường, nghi do bị điện giật.',\n",
              " 'Trong đó, TAND TP. HCM cho biết, đơn_vị này đang phối_hợp với các đơn_vị liên_quan liên_quan đến đến vụ án lừa_đảo chiếm_đoạt tài_sản của một công_ty TNHH TNHH MTV MTV MTV Thiên_Mã Mã ( SN 1991 ) tại TP. HCM ).',\n",
              " 'Theo báo_cáo của Tổng_cục Thống_kê ( Tổng_cục Thống_kê ) vừa được Tổng_cục Thống_kê công_bố, Tổng_cục Đường_bộ Việt_Nam ( GPLX ) ) sẽ chính_thức dừng bán dịch_vụ dịch_vụ công công mức_độ 4.',\n",
              " 'Theo báo_cáo của Tổng_thống Mỹ Barack_Obama, Tổng_thống Mỹ Obama đã tuyên_thệ nhậm_chức tại một căn_cứ_quân_sự Mỹ ở Thái_Bình_Dương.',\n",
              " 'Ngày 1/6, tại Bệnh_viện Nhi_Trung ương ( TP HCM ) đã tổ_chức lễ phát_động phát_động chiến_dịch hiến tạng hiến tạng tại Bệnh_viện Nhi Đà_Nẵng.',\n",
              " 'Theo báo_cáo của Bộ Công_Thương cho biết,, đơn_vị này đang phối_hợp với các đơn_vị liên_quan để xây_dựng phương_án giá dịch_vụ công công mức_độ 4, mức_độ 4 4, thậm_chí thậm_chí là là cả hệ_thống mạng viễn_thông.',\n",
              " 'Trong trận đấu giữa hai đội đội bóng đã kết_thúc hồi cuối tháng tháng này.',\n",
              " 'Ngày 1/6, tại Hà_Nội, Ban Tổ_chức Trung_ương Hội Nhà_báo Nhà_báo Việt_Nam - Hội Nhà_báo Việt_Nam tổ_chức lễ kỷ_niệm kỷ_niệm 70 năm ngày thành_lập Hội Nhà_văn Nhà_văn Việt_Nam và Hội Nhà_văn Việt_Nam.',\n",
              " 'Trong quá_trình thực_hiện dự_án đầu_tư nhà_máy chế_biến chế_biến thuỷ_sản xuất_khẩu xuất_khẩu của Công_ty CP Thuỷ_sản Tây_Ninh, tỉnh Tây_Ninh.',\n",
              " 'Theo báo_cáo của Tổng_cục Thống_kê, Tổng_cục Thống_kê ( Tổng_cục Thống_kê ) vừa có công_văn gửi Bộ Nông_nghiệp PTNT PTNT, đề_nghị các địa_phương, các cơ_sở chế_biến chế_biến thuỷ_sản xuất_khẩu xuất_khẩu vào các tỉnh phía Nam.',\n",
              " 'Trong trận đấu với ĐT Syria, tiền_vệ Lương_Xuân_Trường đã bị gạch tên khỏi danh_sách 23 cầu_thủ tham_dự Copa_America 2016.',\n",
              " 'Ngày 1/6, tại TP. HCM ( TP. HCM ) đã tổ_chức Đại_hội cổ_đông thường_niên năm 2016 với tên gọi là Đại_hội cổ_đông năm 2015.',\n",
              " 'Ngày 1/6, một vụ hoả_hoạn xảy ra tại một bệnh_viện Nhi Nhi ở thủ_đô London, Anh, Anh.',\n",
              " 'Một vụ hoả_hoạn lớn xảy ra tại thành_phố Latakia, Syria, Syria.',\n",
              " 'Theo báo_cáo của Tổng_cục Thống_kê, Tổng_cục Thống_kê vừa công_bố số_liệu chính_thức về các mẫu xăng RON RON RON ( RON ) và RON RON ).',\n",
              " 'Một vụ hoả_hoạn xảy ra ở thủ_đô Moscow ( Nga ), hôm_qua ( 1/6 ).',\n",
              " 'Theo thông_tin ban_đầu, người_dân phát_hiện thi_thể một nam thanh_niên nằm bên vệ đường, nghi do bị sát_hại.',\n",
              " 'Ngày 1/6, tại Bệnh_viện Nhi_Trung ương ( TP HCM ) đã tổ_chức lễ phát_động phát_động chiến_dịch hiến tạng hiến tạng, hiến tạng để cứu người.',\n",
              " 'Trong khi đang làm_đồng, một bé trai đã bị một bé gái tử_vong trong lúc đang đạp xe đạp xe_đạp.',\n",
              " 'Sáng nay ( 1/6 ), tại Cảng cá Nha_Trang ( Khánh_Hoà ), lực_lượng chức_năng Khánh_Hoà ) cho biết, đơn_vị này đang khẩn_trương xác_định nguyên_nhân cá chết hàng_loạt tại vùng_biển Khánh_Hoà.',\n",
              " 'Sáng nay ( 1/6 ), tại TP. HCM đã tổ_chức lễ khởi_công dự_án chung_cư The_Harmona, quận 2, TP. HCM. Đây là dự_án đầu_tư bất_động_sản tại khu_vực trung_tâm TP. HCM HCM.',\n",
              " 'Sáng nay ( 1/6 ), tại Bệnh_viện Đa_khoa Đà_Nẵng ), Bệnh_viện Đà_Nẵng ( TP Đà_Nẵng ) cho biết, đơn_vị này đang phối_hợp với Công_an TP Đà_Nẵng để điều_tra, điều_tra nguyên_nhân vụ một vụ tai_nạn xe_khách xảy ra trên địa_bàn tỉnh Quảng_Nam.',\n",
              " 'Sáng nay ( 1/6 ), tại Hà_Nội, Công_an TP Hà_Nội cho biết, đơn_vị này đang điều_tra, điều_tra, làm rõ nguyên_nhân vụ TNGT nghiêm_trọng xảy ra trên địa_bàn TP Hà_Nội.',\n",
              " 'Ngày 1/6, tại Hà_Nội, Ban Tổ_chức Trung_ương Hội Nhà_báo Nhà_báo Việt_Nam - Hội Nhà_báo Việt_Nam tổ_chức lễ kỷ_niệm kỷ_niệm 70 năm ngày thành_lập Hội Nhà_văn Nhà_văn Việt_Nam và Hội Nhà_văn Việt_Nam.',\n",
              " 'Theo thông_tin từ phía phía Trung_Quốc, một nhóm nhóm người Trung_Quốc đang làm_việc tại Trung_Quốc, trong đó có có nhiều người Trung_Quốc đại_lục.',\n",
              " 'Theo thông_tin ban_đầu, nam thanh_niên dùng dao đâm vào đầu, khiến một người bị_thương nặng.',\n",
              " 'Trong trận đấu với Syria, ĐT Việt_Nam đã giành vé dự dự VCK VCK Euro 2016.',\n",
              " 'Theo thông_tin ban_đầu từ phía phía CLB Barcelona, tiền_đạo Zlatan_Ibrahimovic đã chính_thức được ký hợp_đồng với đội bóng này.',\n",
              " 'Ngày 1/6, tại Công_viên văn_hoá Sa_Pa ( TP Lào_Cai ), UBND tỉnh Lào_Cai ) đã tổ_chức Lễ khởi_công Dự_án Tổ_hợp Trung_tâm thương_mại, dịch_vụ, thương_mại, nhà_hàng, nhà_hàng đẳng_cấp đẳng_cấp quốc_tế.',\n",
              " 'Theo báo_cáo của Bộ Y_tế cho biết, đơn_vị này vừa có báo_cáo gửi Bộ Y_tế về việc xử_lý cán_bộ, công_chức công_chức, công_chức, Phó Văn_phòng Văn_phòng Bộ Bộ Nội_vụ cho biết.',\n",
              " 'Ngày 1/6, Tổng_thống Mỹ Barack_Obama đã ký thoả_thuận với Tổng_thống Mỹ Donald_Trump về việc rút khỏi Hiệp_ước an_ninh với Mỹ.',\n",
              " 'Sáng nay ( 1/6 ), tại thủ_đô Seoul, Hàn_Quốc ), cặp đôi đã tổ_chức hôn_lễ vào ngày 1/6.',\n",
              " 'Trong trận đấu với Philippines, Philippines đã giành chiến_thắng đậm ở trận đấu diễn ra hôm_nay ( 1/6 ).',\n",
              " 'Sau khi đăng_quang, Hoa_hậu Hàn_Quốc Kim Hyun đã chính_thức trở_thành cô_dâu của mình tại Hàn_Quốc.',\n",
              " 'Theo thông_tin mới nhất được đăng_tải trên mạng xã_hội Trung_Quốc, một người đàn_ông đã qua_đời sau khi bị một người bạn của mình.',\n",
              " 'Trong đó, dự_án Khu đô_thị Đoàn_Ngoại_Giao sẽ được xây_dựng tại Khu đô_thị Ngoại_Giao, huyện Sóc_Sơn, Hà_Nội, Hà_Nội và các tỉnh, thành_phố, thành_phố.',\n",
              " 'Ngày 1/6, tại TP. HCM, Ban Tổ_chức Giải bóng_đá nữ quốc_gia 2016, Ban tổ_chức giải giải đấu đầu_tiên của giải đấu này. Đây là lần đầu_tiên giải đấu được tổ_chức.',\n",
              " 'Theo báo_cáo của Tổng_cục Thống_kê, Tổng_cục Thống_kê ( Tổng_cục Thống_kê ) đã có báo_cáo sơ_bộ về tình_hình hoạt_động sản_xuất, kinh_doanh của doanh_nghiệp này.',\n",
              " 'Sau khi bị quân_đội Mỹ bắt_giữ, lực_lượng đặc_nhiệm đặc_nhiệm Mỹ đã tiến_hành chiến_dịch không_kích nhằm vào các mục_tiêu của IS ở Syria.',\n",
              " 'Theo báo_cáo của Tổng_thống Hàn_Quốc Kim Jong-un cho biết, Triều_Tiên sẵn_sàng đối_thoại với Triều_Tiên nếu được Tổng_thống Kim Jong-un đề_nghị đề_nghị đối_thoại.',\n",
              " 'Trong đó, Tổng_thống Nga Vladimir_Putin đã ký thoả_thuận hợp_tác an_ninh với Nga và Nga sẽ hợp_tác với Nga.',\n",
              " 'Theo thông_tin đăng_tải trên mạng xã_hội, cặp đôi đã công_khai công_khai tình_cảm bên nhau.',\n",
              " 'Theo thông_tin ban_đầu, Công_an TP. Biên_Hoà, tỉnh Đồng_Nai cho biết, đơn_vị này đang điều_tra, truy bắt trùm trùm trùm đường_dây ma_tuý liên tỉnh về đường_dây buôn_bán ma_tuý.',\n",
              " 'Sáng nay ( 1/6 ), tại Hà_Nội, Ban Tổ_chức Trung_ương Giải Báo_chí toàn_quốc về xây_dựng Đảng, Đại_hội XII, Đại_hội Đảng_bộ Đảng_bộ thành_phố Hà_Nội, Giải báo_chí toàn_quốc lần thứ XII.',\n",
              " 'Sau khi bị kết_án vì tội gian_lận thuế, Tổng_thống Mỹ Donald_Trump đã tuyên_bố sẽ không bao_giờ bao_giờ nhận lại tài_sản tài_sản của mình.',\n",
              " 'Ngày 1/6, tại Hà_Nội, UBND TP Hà_Nội Nguyễn_Đức_Chung, Phó Thủ_tướng Chính_phủ Nguyễn_Xuân_Phúc cho biết, tại buổi làm_việc với các đại_biểu Quốc_hội, đại_biểu Quốc_hội khoá XIV, đại_biểu HĐND TP Hà_Nội khoá XIV và các đại_biểu HĐND thành_phố Hà_Nội, HĐND TP. Hà_Nội.',\n",
              " 'Ngày 1/6, tại thủ_đô Moscow ( Nga ), Tổng_thống Nga Vladimir_Putin đã ký thoả_thuận hợp_tác với các công_ty nhà_nước Nga và Nga.',\n",
              " 'Trong đó, Bộ Công_Thương vừa có văn_bản gửi Bộ Công_Thương đề_nghị các tỉnh, thành_phố, thành_phố trực_thuộc Trung_ương, các tỉnh phía Nam, thành_phố Hồ_Chí_Minh, Đồng_Nai, Bà_Rịa Vũng_Tàu, Bà_Rịa - Vũng_Tàu ( Bà_Rịa ) vừa có công_văn gửi Cục Quản_lý Thị_trường Thị_trường Thị_trường về việc rà_soát, kiểm_tra, xử_lý các cơ_sở kinh_doanh, phân_phối hàng đa_cấp',\n",
              " 'Sau khi chia_tay, cặp đôi đã công_khai công_khai về mối quan_hệ tình_cảm.',\n",
              " 'Theo thông_tin ban_đầu từ phía phía CLB Barcelona, tiền_đạo Lionel_Messi đã được cho là đã bình_phục chấn_thương và đang bình_phục chấn_thương.',\n",
              " 'Trong quá_trình điều_tra, Công_an tỉnh Đắk_Lắk cho biết, đơn_vị này đang khẩn_trương điều_tra, xác_minh nguyên_nhân vụ án_mạng xảy ra tại huyện Buôn_Đôn, Đắk_Lắk.',\n",
              " 'Trong đó, Công_ty Cổ_phần cổ_phần Tập_đoàn Hoa_Sen đã ký_kết hợp_tác chiến_lược với Tập_đoàn Hoa_Sen và Tập_đoàn Hoa_Sen ( Tập_đoàn Hoa_Sen ) với Công_ty TNHH TNHH MTV MTV MTV Dịch_vụ Dịch_vụ hỗ_trợ và Khách_sạn, Khách_sạn và Khách_sạn Hoa_Sen.',\n",
              " 'Ngày 1/6, tại Hà_Nội, Ban Tổ_chức Trung_ương Hội Nhà_báo Nhà_báo Việt_Nam đã tổ_chức lễ kỷ_niệm kỷ_niệm 70 năm ngày thành_lập Hội Nhà_báo Việt_Nam.',\n",
              " 'Theo thông_tin mới nhất nhất của trang TMZ, DJ Calvin_Harris đã chính_thức lên_tiếng về chuyện tình_cảm với DJ DJ DJ Harris và DJ Harris.',\n",
              " 'Theo thông_tin từ phía phía Trung_Quốc, một nhóm nhóm người Trung_Quốc đã bị bắt_giữ sau khi bị cảnh_sát Dubai bắt sau khi cáo_buộc âm_mưu âm_mưu tấn_công khủng_bố.',\n",
              " 'Theo thông_tin ban_đầu, người_dân phát_hiện thi_thể một nam thanh_niên tử_vong trong tư_thế treo_cổ, nghi do bị giật điện.',\n",
              " 'Ngày 1/6, Tổng_thống Mỹ Barack_Obama đã tuyên_thệ nhậm_chức tại Nhà_Trắng, tại Nhà_Trắng.',\n",
              " 'Theo thông_tin ban_đầu từ trang xã_hội, một thành_viên của một nhóm nhạc nữ nữ Hàn_Quốc đã được biết đến và được biết là là sẽ đảm_nhận vai_trò một diễn_viên chính trong bộ phim tình_cảm lãng_mạn.',\n",
              " 'Sáng nay ( 1/6 ), tại TP. HCM ), các doanh_nghiệp chế_biến thuỷ_sản xuất_khẩu xuất_khẩu vào các tỉnh phía Nam, tỉnh Đồng_Nai, Đồng_Nai, Tây_Ninh, Cà_Mau, Bạc_Liêu, Cà_Mau.',\n",
              " 'Trong quá_trình điều_tra, Công_an tỉnh Đắk_Lắk, Công_an TP Buôn_Ma_Thuột, tỉnh Đắk_Lắk cho biết, đơn_vị này đang khẩn_trương điều_tra, truy bắt các đối_tượng cầm_đầu đường_dây đường_dây mua_bán ma_tuý liên tỉnh.',\n",
              " 'Theo thông_tin từ phía phía công_ty Sony, hãng Sony đã ký hợp_đồng với một công_ty Trung_Quốc, theo đó, công_ty này chỉ cần cần một nhân_viên thôi thôi.',\n",
              " 'Ngày 1/6, Tập_đoàn Vingroup ( Vingroup ) đã tổ_chức Lễ ký_kết hợp_tác hợp_tác chiến_lược với Tập_đoàn Vingroup, từ ngày 1/6 đến 1/6.',\n",
              " 'Ngày 1/6, hãng hàng_không Emirates ( Mỹ ) cho biết, hãng này sẽ mở_rộng phạm_vi hoạt_động của mình tại các quốc_gia Đông_Nam_Á.',\n",
              " 'Sau khi bị kết_án vì đã vi_phạm quy_định về an_toàn thực_phẩm, Tổng_thống Thổ_Nhĩ_Kỳ Recep_Tayyip_Erdogan đã lên_tiếng xin_lỗi người_dân.',\n",
              " 'Theo báo_cáo của Bộ Y_tế cho biết, đơn_vị này vừa có báo_cáo gửi Bộ Y_tế về việc tổ_chức kỷ_luật cán_bộ công_chức công_chức, công_chức công_chức công_chức thuộc Văn_phòng Bộ Y_tế.',\n",
              " 'Ngày 1/6, Tổng_thống Mỹ Barack_Obama đã tuyên_thệ nhậm_chức tại Nhà_Trắng, ngày 1/6.',\n",
              " 'Sáng nay ( 1/6 ), TAND TP. HCM ) đã tuyên đình_chỉ thi_đấu V-League 2016 2016 do nhận án phạt cấm thi_đấu.',\n",
              " 'Theo thông_tin ban_đầu, Công_an tỉnh Đắk_Lắk vừa triệt_phá chuyên_án lớn về buôn_bán ma_tuý lớn lớn nhất tỉnh này. Vụ án này xảy ra tại huyện Buôn_Đôn, tỉnh Đắk_Lắk.',\n",
              " 'Ngày 1/6, Bộ Giáo_dục và Đào_tạo ( GD ĐT ), Bộ GD & ĐT ) đã công_bố danh_sách các trường tiểu_học thuộc các trường trung_học_cơ_sở, tiểu_học, trung_học_cơ_sở và trung_học_cơ_sở, trung_học_cơ_sở, trung_học_phổ_thông, trung_học_cơ_sở ( tiểu_học ).',\n",
              " 'Sau khi bị quấy_rối tình_dục tại một lễ_hội âm_nhạc âm_nhạc ở Đức, một nhóm nhạc nữ đã bị cảnh_sát bắt_giữ sau khi bị một nhân_viên an_ninh bắt_giữ.',\n",
              " 'Sau khi bị cảnh_sát bắt_giữ, một kẻ lạ_mặt đã bị bắt_giữ sau khi bị bắt_giữ, bắt_giữ.',\n",
              " 'Trong trận đấu với Hải_Phòng trên sân_nhà của Hải_Phòng, Hải_Phòng đã giành chiến_thắng đậm ở trận đấu sớm vòng vòng 11 V-League 2016.',\n",
              " 'Sáng nay ( 1/6 ), tại Bệnh_viện Đa_khoa Đà_Nẵng ( TP Đà_Nẵng ) đã xảy ra vụ tai_nạn lao_động nghiêm_trọng xảy ra trên địa_bàn tỉnh này.',\n",
              " 'Theo báo_cáo của Tổng_thống Mỹ Barack_Obama, Tổng_thống Mỹ Obama đã tuyên_thệ nhậm_chức, tuyên_thệ nhậm_chức tại thủ_đô Washington.',\n",
              " 'Sáng nay ( 1/6 ), TAND TP. HCM HCM ) cho biết, đơn_vị này vừa ra quyết_định khởi_tố bị_can để tạm giam đối_với một tài_xế container đang lưu_thông trên đường Nguyễn_Văn_Linh, TP. HCM.',\n",
              " 'Trong quá_trình điều_tra, Công_an tỉnh Đắk_Lắk bắt khẩn_cấp một người đàn_ông dùng dao chém liên_tiếp 3 nhát dao vào đầu.',\n",
              " 'Ngày 1/6, tại Hà_Nội, Ban Tổ_chức Trung_ương Đảng Cộng_sản Cộng_sản Việt_Nam, Ban tổ_chức Trung_ương Hội Nhà_báo Việt_Nam đã phát_động cuộc thi hát hát Quốc_ca, hát Quốc_ca.',\n",
              " 'Sáng nay ( ( 1/6 ), tại Hà_Nội ) đã diễn ra lễ khai_mạc giải bóng_đá nữ thế_giới 2016.',\n",
              " 'Ngày 1/6, Bộ Thương_mại Trung_Quốc ( Trung_Quốc ) đã chính_thức ngừng hoạt_động bán hàng đa_cấp với các nhà_sản_xuất Trung_Quốc và Đài_Loan.',\n",
              " 'Ngày 1/6, tại TP. HCM đã diễn ra chương_trình giao_lưu âm_nhạc với các ca_sĩ nhóm nhạc nữ nữ nổi_tiếng của nhóm nhóm nhạc MTV, Yanbi, YanYanbi.',\n",
              " 'Theo báo_cáo của Bộ Nội_vụ, Văn_phòng Văn_phòng Chính_phủ vừa có kết_luận về việc bổ_nhiệm trái quy_định của Chủ_tịch UBND UBND TP TP Đà_Nẵng Đà_Nẵng.',\n",
              " 'Ngày 1/6, tại Cảng_hàng_không Nội_Bài ( Hà_Nội ), Cảng_hàng_không Nội_Bài đã tổ_chức Lễ khởi_công Dự_án Tổ_hợp Tổ_hợp khách_sạn, nhà_hàng, thương_mại, trung_tâm thương_mại sẽ được xây_dựng tại vị_trí đắc_địa nhất thành_phố Nội_Bài. Dự_kiến, sân_bay Nội_Bài sẽ được được xây_dựng mới tại vị_trí vị_trí này.',\n",
              " 'Sáng nay ( 1/6 ), tại TP. HCM ) đã xảy ra vụ tai_nạn tai_nạn nghiêm_trọng xảy ra trên đường Nguyễn_Văn_Linh, quận 7, TP HCM ).',\n",
              " 'Ngày 1/6, UBND TP. HCM đã ký quyết_định phê_duyệt Quy_hoạch chi_tiết Khu công_viên công_viên Bạch_Đằng, quận 1, TP. HCM.',\n",
              " 'Sáng nay ( 1/6 ), Công_an tỉnh Đắk_Lắk ) cho biết, đơn_vị này đang khẩn_trương điều_tra, truy bắt các nghi can đã chém chết một người tại huyện Buôn_Đôn, tỉnh Đắk_Lắk để điều_tra.',\n",
              " 'Sáng nay ( 1/6 ), Công_an tỉnh Bắc_Giang ) đã phối_hợp với Công_an huyện Sơn_Động ( Bắc_Giang ), bắt quả_tang 2 đối_tượng đã vận_chuyển trái_phép chất ma_tuý, vận_chuyển ma_tuý.',\n",
              " 'Trong đó, TAND TP. HCM cho biết, đơn_vị này đang thụ_lý vụ án lừa_đảo chiếm_đoạt tài_sản của bà Diệu_Hân, ngụ quận Phú_Nhuận, TP. HCM, để điều_tra.',\n",
              " 'Sáng nay ( 1/6 ), tại Hà_Nội ) đã diễn ra Lễ khai_mạc giải bóng_đá giao_hữu quốc_tế VTVcab VTVcab VTVcab 2016.',\n",
              " 'Trong trận đấu giữa Liverpool và Liverpool, HLV Brendan_Rodgers đã công_bố danh_sách 23 cầu_thủ của Liverpool dự Euro 2016.',\n",
              " 'Theo thông_tin ban_đầu, người_dân phát_hiện thi_thể một nam thanh_niên nằm bên vệ đường, nghi do bị sát_hại.',\n",
              " 'Theo thông_tin mới nhất từ TAND TP. HCM cho biết, từ ngày 1/6, TAND TP HCM đã tuyên bản_án án dân_sự dân_sự dân_sự đối_với ông Đinh_La_Thăng về tội_danh thiếu trách_nhiệm nghiêm_trọng gây hậu_quả nghiêm_trọng.',\n",
              " 'Ngày 1/6, tại TP. HCM ( TP. HCM ) đã tổ_chức Đại_hội cổ_đông thường_niên năm 2016 với tên gọi Đại_hội cổ_đông năm 2016.',\n",
              " 'Trong đó, Cục Quản_lý cạnh_tranh, Bộ Công_Thương ( Bộ Công_Thương ) vừa có văn_bản gửi Bộ Công_Thương yêu_cầu các tỉnh, thành_phố, thành_phố trực_thuộc Trung_ương về việc thực_hiện thủ_tục đăng_ký hoạt_động bán hàng đa_cấp.',\n",
              " 'Ngày 1/6, tại Hà_Nội, Ban Tổ_chức Trung_ương bầu_cử đại_biểu Quốc_hội khoá XIV và đại_biểu HĐND các cấp nhiệm_kỳ 2016-2021, HĐND khoá khoá XIV, HĐND nhiệm_kỳ 2016-2021.',\n",
              " 'Theo thông_tin ban_đầu, người_dân phát_hiện thi_thể một nam thanh_niên tử_vong bên vệ đường, nghi do bị giật điện.',\n",
              " 'Sáng nay ( 1/6 ), tại Hà_Nội, Ban Tuyên_giáo Trung_ương phối_hợp với Ban Tổ_chức Trung_ương ( Ban Tuyên_giáo T.Ư ), Bộ Tuyên_giáo và Truyền_thông phối_hợp với các đơn_vị liên_quan liên_quan, các cơ_quan báo_chí, báo_chí, các địa_phương, thành_phố, các đơn_vị báo_chí, Trung_ương, các tổ_chức chính_trị chính_trị - xã_hội và các tổ_chức tổ_chức chính_trị xã_hội',\n",
              " 'Ngày 1/6, tại Hà_Nội, Ban Tổ_chức Trung_ương bầu_cử đại_biểu Quốc_hội khoá XIV, đại_biểu HĐND khoá khoá XIV và đại_biểu HĐND các cấp nhiệm_kỳ 2016-2021 và đại_biểu đại_biểu HĐND cấp khoá khoá 2021.',\n",
              " 'Theo thông_tin ban_đầu, Công_an tỉnh Đắk_Lắk vừa triệt_phá chuyên_án lớn về buôn_bán ma_tuý quy_mô lớn nhất tỉnh này.',\n",
              " 'Ngày 1/6, tại Hà_Nội đã diễn ra lễ kỷ_niệm kỷ_niệm 70 năm Quốc_khánh Quốc_khánh nước Cộng_hoà Cộng_hoà Áo ( Áo ) và Cộng_hoà Cộng_hoà Đức ).',\n",
              " 'Sáng nay ( 1/6 ), tại Hà_Nội, Tập_đoàn Vingroup đã tổ_chức Lễ ký_kết hợp_tác chiến_lược toàn_diện với Tập_đoàn Vingroup tại Việt_Nam.',\n",
              " 'Sáng nay ( 1/6 ), tại TP. HCM ), Ban Tổ_chức Trung_ương phối_hợp với Ban Chỉ_đạo Chỉ_đạo Trung_ương về xây_dựng xây_dựng Đảng, tổ_chức Đại_hội đại_biểu toàn_quốc về xây_dựng Đảng và Đại_hội đại_biểu đại_biểu toàn_quốc.',\n",
              " 'Theo thông_tin ban_đầu từ phía phía CLB Barcelona, tiền_đạo Zlatan_Ibrahimovic đã chính_thức được ký hợp_đồng với đội bóng Hoàng_gia Tây_Ban_Nha.',\n",
              " 'Ngày 1/6, tại Venezuela, Tổng_thống Venezuela Nicolas_Maduro đã ký thoả_thuận với Tổng_thống Venezuela Venezuela Nicolas_Maduro về việc đóng_băng sản_lượng xuất_khẩu của nước này trong 5 năm tới.',\n",
              " 'Trong khi đang ngồi nhậu thì bị một nhóm thanh_niên chặn xe chặn đầu, đuổi theo.',\n",
              " 'Theo thông_tin ban_đầu, người_dân phát_hiện thi_thể một nam thanh_niên nằm bên vệ đường, nghi do bị sát_hại.',\n",
              " 'Theo báo_cáo của quân_đội Hàn_Quốc cho biết, một máy_bay chiến_đấu của Hàn_Quốc đã rơi xuống biển phía đông nam Hàn_Quốc.',\n",
              " 'Ngày 1/6, Tập_đoàn Điện_lực Điện_lực Việt_Nam ( EVN ) cho biết đã ký hợp_đồng hợp_tác chiến_lược với Tập_đoàn Điện_lực Việt_Nam, theo đó, Tập_đoàn này sẽ hợp_tác với Công_ty Điện_lực Việt_Nam Việt_Nam ( Vietnam_Airlines ) và Tổng_công_ty Hàng_không Việt_Nam ).',\n",
              " 'Theo thông_tin ban_đầu, người_dân phát_hiện thi_thể một nam thanh_niên nằm bên vệ đường, nghi do mâu_thuẫn với người khác.',\n",
              " 'Trong quá_trình xây_dựng dự_án thuỷ_điện Đrăng_Phốk, tỉnh Đắk_Lắk, Đắk_Lắk, tỉnh Gia_Lai, Gia_Lai, Kon_Tum, Đắk_Lắk và Đắk_Lắk, Gia_Lai và Kon_Tum, Kon_Tum và Đắk_Lắk và Gia_Lai, Đắk_Lắk để xây_dựng Thuỷ_điện Đrăng_Đốk, huyện Yok_Đôn, huyện Buôn_Đôn, Đắk_Lắk.',\n",
              " 'Theo thông_tin ban_đầu, người_dân phát_hiện thi_thể một nam thanh_niên nằm bên vệ đường, nghi bị sát_hại.',\n",
              " 'Theo báo_cáo điều_tra của cảnh_sát Brazil cho biết,, cảnh_sát Brazil đang điều_tra vụ án hiếp_dâm tập_thể một thiếu_nữ 16 tuổi ở thành_phố Rio de Janeiro.',\n",
              " 'Ngày 1/6, Tổng_thống Philippines Rodrigo_Duterte đã ký Hiệp_ước hợp_tác an_ninh với Philippines, theo đó Mỹ sẽ hợp_tác với Philippines.',\n",
              " 'Ngày 1/6, hãng hàng_không Emirates ( Mỹ ) cho biết, hãng này sẽ bán máy_bay 737 MAX MAX mới nhất của mình.',\n",
              " 'Sáng nay ( 1/6 ), tại Hà_Nội, Ban Tuyên_giáo Trung_ương phối_hợp với Ban Tổ_chức Trung_ương, Đài_Truyền_hình Việt_Nam ( VTV ), Đài_Truyền_hình VN ) phối_hợp với Đài_Truyền_hình Việt_Nam phối_hợp với Đài_truyền_hình Việt_Nam ( Đài_Truyền_hình Việt_Nam ) tổ_chức lễ kỷ_niệm kỷ_niệm 70 năm Quốc_khánh Quốc_khánh, Quốc_khánh Quốc_khánh Quốc_khánh ( Quốc_khánh ) ).',\n",
              " 'Trong buổi giao_lưu với sinh_viên trường Đại_học Luật Hà_Nội ( ĐH Hà_Nội ), các bạn sinh_viên khoa Luật ( ĐH Luật Hà_Nội ) đã hát Quốc_ca Quốc_ca Quốc_ca.',\n",
              " 'Theo thông_tin ban_đầu, một nam thanh_niên đã tử_vong sau khi bị sét đánh trúng khiến một người bị_thương.',\n",
              " 'Theo thông_tin từ trang cá_nhân của ca_sĩ Quang_Hà, ca_sĩ Quang_Hà cho biết, người này đã bị lừa tiền để mua nhà, nhưng không trả lại.',\n",
              " 'Theo thông_tin mới của Tổng_thống Mỹ Barack_Obama, ông Obama đã tuyên_thệ nhậm_chức tại Nhà_Trắng, tuyên_thệ nhậm_chức.',\n",
              " 'Trong đó, lực_lượng chức_năng tỉnh Quảng_Nam phát_hiện một vụ hoả_hoạn lớn xảy ra tại khu chung_cư cao_tầng ở phường Tam_Hiệp, TP Tam_Kỳ, Quảng_Nam.',\n",
              " 'Theo thông_tin ban_đầu từ phía phía Công_an TP. HCM cho biết, đơn_vị này đang điều_tra, truy bắt các nghi phạm liên_quan đến đường_dây buôn_bán ma_tuý lớn nhất Việt_Nam.',\n",
              " 'Theo thông_tin ban_đầu, người_dân phát_hiện thi_thể một nam thanh_niên nằm bên vệ đường, nghi do bị giật điện.',\n",
              " 'Sáng nay ( 1/6 ), Công_an tỉnh Bắc_Giang ) đã phối_hợp với Công_an huyện Sơn_Động ( Bắc_Giang ), bắt quả_tang 2 đối_tượng vận_chuyển trái_phép chất ma_tuý, tàng_trữ vũ_khí quân_dụng.',\n",
              " 'Ngày 1/6, Tổng_thống Mỹ Barack_Obama đã ký thoả_thuận với Tổng_thống Philippines Rodrigo_Duterte về một thoả_thuận an_ninh với Philippines, theo đó, Mỹ sẽ hợp_tác với Philippines.',\n",
              " 'Ngày 1/6, Tập_đoàn TH ( TH ) đã tổ_chức Lễ ký_kết hợp_tác chiến_lược với Tập_đoàn TH TH True_Milk tại Việt_Nam.',\n",
              " 'Theo thông_tin ban_đầu, IS đã nhận trách_nhiệm về vụ đánh bom tự_sát ở thành_phố MulMulleh, Syria.',\n",
              " 'Sáng nay ( 1/6 ), tại Hà_Nội ) đã diễn ra lễ khai_mạc giải bóng_đá nữ quốc_tế 2016.',\n",
              " 'Trong đó, chỉ_số PMI toàn_cầu của PMI ( PMI ) tháng 5/2016 tăng 0,54% so với tháng trước, tăng 0,16% so với cùng kỳ trước.',\n",
              " 'Ngày 1/6, tại TP. HCM ( TP. HCM ), Ban Tuyên_giáo Thành_uỷ TP. HCM phối_hợp với Ban Tuyên_giáo Trung_ương ( Ban Tuyên_giáo T.Ư ), Hội Nhà_báo Việt_Nam phối_hợp với Hội Nhà_văn Nhà_văn Việt_Nam, Hội Nhà_văn Việt_Nam ( Hội Nhà_văn VN ).',\n",
              " 'Theo thông_tin từ Công_an tỉnh Đắk_Lắk cho biết, cơ_quan điều_tra đang khẩn_trương điều_tra vụ án_mạng xảy ra tại huyện Buôn_Đôn, tỉnh Đắk_Lắk, nghi can giết người.',\n",
              " 'Trong bối_cảnh căng_thẳng kinh_tế thế_giới, Tổng_thống Venezuela Nicolas_Maduro đã ký thoả_thuận cắt_giảm sản_lượng dầu của nước này với Venezuela.',\n",
              " 'Trong trận đấu giữa Liverpool và Liverpool, HLV Brendan_Rodgers đã công_bố danh_sách 23 cầu_thủ chính_thức sẽ được triệu_tập vào ĐT Anh.',\n",
              " 'Ngày 1/6, tại Hà_Nội ( Hà_Nội ), Tập_đoàn Vingroup đã chính_thức công_bố thông_tin về việc Tập_đoàn Vingroup đầu_tư vào Việt_Nam tại Việt_Nam. Theo đó, Tập_đoàn này sẽ đầu_tư toàn_bộ tài_sản của mình.',\n",
              " 'Theo thông_tin ban_đầu từ phía phía CLB Barcelona, tiền_vệ Dani_Alves đã được cho là đã bình_phục chấn_thương và sẵn_sàng bình_phục chấn_thương.',\n",
              " 'Theo thông_tin ban_đầu, một người đàn_ông đã bị một nhóm người cầm dao chém chết.',\n",
              " 'Theo báo_cáo của Sở Y_tế TP. HCM cho biết, đơn_vị này đang phối_hợp với các đơn_vị liên_quan liên_quan đến việc xử_lý các cơ_sở sản_xuất mắm, lòng heo, lòng lợn.',\n",
              " 'Theo thông_tin ban_đầu từ nguồn tin từ phía phía Nga cho biết, họ đang tích_cực tích_cực chuẩn_bị cho EURO 2016 tại Pháp.',\n",
              " 'Sáng nay ( 1/6 ), tại TP. HCM ), UBND TP. HCM đã tổ_chức lễ phát_động phát_động chiến_dịch chiến_dịch vận_động vận_động người_dân tham_gia tham_gia xây_dựng nông_thôn nông_thôn mới, xây_dựng nông_thôn mới.',\n",
              " 'Sau khi bị quân_đội Syria bắt_giữ, lực_lượng đặc_nhiệm đặc_nhiệm Nga đã phải rút khỏi khỏi khu_vực Jableh, tỉnh Latakia.',\n",
              " 'Theo thông_tin từ trang xã_hội, Hoa_hậu Kỳ_Duyên sẽ đảm_nhận vai_trò giám_khảo giám_khảo của cuộc thi Hoa_hậu Việt_Nam 2016.',\n",
              " 'Trong đó, Ngân_hàng Nhà_nước Việt_Nam ( NHNN ) đã công_bố danh_sách các ngân_hàng TMCP lớn nhất tại Việt_Nam và khu_vực phía Nam, bao_gồm các tỉnh, thành_phố phía Nam.',\n",
              " 'Theo báo_cáo của Sở Xây_dựng TP. HCM HCM, UBND TP. HCM vừa có văn_bản chỉ_đạo chỉ_đạo UBND quận_huyện quận_huyện quận_huyện, huyện, xã, thị_trấn, trung_tâm thương_mại, khu vui_chơi vui_chơi giải_trí, công_viên vui_chơi giải_trí tại các khu đô_thị mới.',\n",
              " 'Trong đó, các cơ_sở chế_biến thực_phẩm, sơ_chế sơ_chế, sơ_chế lòng lợn, lòng lợn được phát_hiện trong quá_trình vận_chuyển, sơ_chế, chế_biến, sơ_chế nội_tạng.',\n",
              " 'Theo thông_tin ban_đầu từ trang Twitter, tiền_vệ Lương_Xuân_Trường đã chính_thức công_bố danh_sách 23 cầu_thủ Anh dự Copa_America 2016. Đây là bản hợp_đồng mới nhất của họ.',\n",
              " 'Sáng nay ( 1/6 ), tại Bệnh_viện Đa_khoa Đà_Nẵng ( TP Đà_Nẵng ) đã xảy ra vụ tai_nạn lao_động nghiêm_trọng xảy ra tại Cảng_hàng_không quốc_tế Đà_Nẵng.',\n",
              " 'Sau khi dùng dao chém liên_tiếp nhiều nhát nhát dao vào đầu, khiến người này tử_vong.',\n",
              " 'Ngày 1/6, Bộ GD & ĐT & & ĐT ( GD ĐT ), Bộ Giáo_dục và Đào_tạo ( GD & & ), các sở GD & và các địa_phương, các trường đại_học, cao_đẳng, các cơ_sở giáo_dục đại_học, các đơn_vị giáo_dục nghề_nghiệp thuộc các trường ĐH, cao_đẳng và và các các cơ_sở đào_tạo đại_học,,',\n",
              " 'Ngày 1/6, tại Hà_Nội, UBND TP Hà_Nội Nguyễn_Đức_Chung, Chủ_tịch UBND TP. Hà_Nội Nguyễn_Đức_Chung đã ký quyết_định phê_duyệt phê_duyệt dự_án đầu_tư xây_dựng trường trường tiểu_học ( TH TH TH School ), thuộc trường tiểu_học TH TH ( TH ) ).',\n",
              " 'Sáng nay ( 1/6 ), tại Hà_Nội ) đã diễn ra lễ khai_mạc giải bóng_đá nữ quốc_tế 2016.',\n",
              " 'Theo thông_tin ban_đầu từ TAND TP. HCM cho biết, từ ngày 1/6, TAND TP HCM xét_xử sơ_thẩm sơ_thẩm vụ án lừa_đảo chiếm_đoạt tài_sản của Công_ty TNHH Khải_Hoàn ( Công_ty Khải_Khải_Hoàn ).',\n",
              " 'Theo thông_tin ban_đầu, người_dân phát_hiện thi_thể một nam thanh_niên tử_vong bên vệ đường, nghi do bị điện giật.',\n",
              " 'Trong lúc đang làm_đồng, người đàn_ông phát_hiện thi_thể một nam thanh_niên nằm bên vệ đường, nghi bị sát_hại.',\n",
              " 'Theo báo_cáo của Thủ_tướng Chính_phủ Nguyễn_Xuân_Phúc, Thủ_tướng Nguyễn_Xuân_Phúc đã ký quyết_định phê_duyệt chủ_trương chủ_trương đầu_tư dự_án Tổ_hợp Tổ_hợp chăn_nuôi bò_sữa tại Nghệ_An, tỉnh Nghệ_An.',\n",
              " 'Sau khi gây án tại một quán cà_phê ở TP Buôn_Ma_Thuột, tỉnh Đắk_Lắk cho biết, đơn_vị này đang điều_tra, truy bắt nghi phạm gây ra vụ án_mạng xảy ra trên địa_bàn.',\n",
              " 'Sau khi bị quân_đội Mỹ bắt_giữ, lực_lượng đặc_nhiệm đặc_nhiệm Mỹ đã tiến_hành chiến_dịch không_kích nhằm vào các mục_tiêu của IS ở Syria.',\n",
              " 'Một vụ hoả_hoạn lớn xảy ra tại Venezuela, khiến nhiều người thiệt_mạng.',\n",
              " 'Trong quá_trình điều_tra, Công_an tỉnh Đắk_Lắk, Công_an huyện Buôn_Đôn ( Đắk_Lắk ) cho biết đang điều_tra vụ án_mạng xảy ra tại huyện Buôn_Đôn, tỉnh Đắk_Lắk ).',\n",
              " 'Theo thông_tin ban_đầu, người_dân phát_hiện thi_thể một nam thanh_niên tử_vong trong tư_thế treo_cổ, nghi do bị điện giật.',\n",
              " 'Trong đó, Thủ_tướng Nguyễn_Xuân_Phúc sẽ làm_việc với Thủ_tướng Nguyễn_Xuân_Phúc, Thủ_tướng Nhật_Bản Shinzo_Abe, Thủ_tướng Shinzo_Abe sẽ có bài phát_biểu quan_trọng với Thủ_tướng Shinzo_Abe.',\n",
              " 'Theo thông_tin từ trang cá_nhân của mình, một người đàn_ông đã bỏ lại tài_sản lớn với số tiền lớn nhất nước này.',\n",
              " 'Theo thông_tin ban_đầu từ trang cá_nhân của ca_sĩ Quang_Hà, nam ca_sĩ sẽ có màn trình_diễn đặc_biệt tại một sự_kiện âm_nhạc lớn.',\n",
              " 'Trong lúc đang đi tập_thể_dục thì phát_hiện thi_thể một nam thanh_niên nằm bên vệ đường, nghi do bị giật.',\n",
              " 'Sáng nay ( 1/6 ), tại TP. HCM đã tổ_chức lễ khởi_công dự_án chung_cư The_Harmona tại quận 2, TP. HCM.',\n",
              " 'Một vụ hoả_hoạn lớn xảy ra tại thành_phố Latakia, Syria, Syria.',\n",
              " 'Theo thông_tin ban_đầu, một người đàn_ông Syria đã bị thiêu sống sau khi bị một kẻ đánh bom tự_sát vào đầu.',\n",
              " 'Trong khi đang đang thi_công công_trình nhà cao_tầng tại huyện Quế_Phong, tỉnh Nghệ_An đã phát_hiện thi_thể một nam thanh_niên đang nằm bên vệ đường.',\n",
              " 'Trong trận đấu với Gwangju_FC FC ( GwangGwangju_) FC đã bị gạch tên khỏi danh_sách 23 cầu_thủ tham_dự vòng 1/8.',\n",
              " 'Theo thông_tin từ trang cá_nhân của ca_sĩ Quang_Hà, ca_sĩ Quang_Hà cho biết, người này đã bị người bạn quen là ca_sĩ Quang_Hà để đòi lại tài_sản.',\n",
              " 'Ngày 1/6, tại Hà_Nội đã diễn ra chương_trình giao_lưu âm_nhạc với các nhóm nhạc nữ nữ nổi_tiếng của Việt_Nam. Đây là đêm diễn ra tại Hà_Nội. Đây đây là đêm nhạc liên khúc liên khúc.',\n",
              " 'Một vụ hoả_hoạn lớn xảy ra ở Đài_Loan khiến nhiều người bị_thương.',\n",
              " 'Theo thông_tin từ trang xã_hội, Hoa_hậu Kỳ_Duyên đã được cho là đang hẹn_hò trong thời_gian gần đây tại Mỹ.',\n",
              " 'Trong quá_trình thi_công, Tập_đoàn Điện_lực Việt_Nam ( EVN ) vừa có văn_bản gửi Thủ_tướng Chính_phủ Nguyễn_Xuân_Phúc cho biết, đơn_vị này này đang khẩn_trương triển_khai các thủ_tục để sớm hoàn_thành các thủ_tục thủ_tục đầu_tư đầu_tư.',\n",
              " 'Một vụ tai_nạn máy_bay của hãng hàng_không EgyptAir Air đã xảy ra ở miền đông Ai_Cập.',\n",
              " 'Ngày 1/6, Tổng_thống Thổ_Nhĩ_Kỳ Recep_Tayyip_Erdogan đã tuyên_thệ nhậm_chức tổng_thống mới của nước này này.',\n",
              " 'Sau khi có những phát_biểu thẳng_thắn với Tổng_thống Recep_Tayyip_Erdogan, Tổng_thống Thổ_Nhĩ_Kỳ Recep_Tayyip_Erdogan đã có bài phát_biểu trước cử_tri. Đây là bài phát_biểu của ông Erdogan.',\n",
              " 'Theo thông_tin ban_đầu từ cơ_quan Công_an tỉnh Đắk_Lắk cho biết, đơn_vị này đang phối_hợp với Công_an TP Buôn_Ma_Thuột, tỉnh Đắk_Lắk để điều_tra, truy bắt nghi phạm dùng dao chém trọng_thương.',\n",
              " 'Trong trận đấu với GwangGwangju_FC ( Gwangju_) đã bị gạch tên khỏi danh_sách thi_đấu ở vòng 11 V-League 2016.',\n",
              " 'Ngày 1/6, tại TP. HCM, Chủ_tịch UBND TP. HCM Nguyễn_Thành_Phong đã ký quyết_định uỷ_quyền uỷ_quyền cho Chủ_tịch UBND TP Nguyễn_Thành_Phong làm chủ_tịch chủ_tịch UBND TP HCM Nguyễn_Thành_Phong.',\n",
              " 'Sau khi hạ_cánh xuống sân_bay quốc_tế Đà_Nẵng, Tổng_thống Mỹ Donald_Trump đã đáp xuống sân_bay Đà_Nẵng, hạ_cánh xuống Đà_Nẵng.',\n",
              " 'Sáng nay ( 1/6 ), tại TP. HCM ), Ban Tổ_chức Trung_ương phối_hợp với Ban Tuyên_giáo Trung_ương, Bộ Y_tế tổ_chức lễ công_bố Giải báo_chí toàn_quốc về bảo_tồn tê_giác Việt_Nam.',\n",
              " 'Sáng nay ( 1/6 ), tại huyện Krông_Pa, tỉnh Gia_Lai ) đã xảy ra vụ tai_nạn giao_thông nghiêm_trọng xảy ra tại xã Ia_Phốk, huyện Krông_Pa ( Gia_Lai ).',\n",
              " 'Theo thông_tin mới nhất nhất từ TAND TP. HCM HCM, TAND TP HCM vừa tuyên án án dân_sự dân_sự liên_quan đến vụ tranh_chấp tranh_chấp nhà chung_cư Harmona, quận Phú_Nhuận, TP. HCM, để thu_hồi lại tài_sản.',\n",
              " 'Sáng nay ( 1/6 ), tại huyện Lý_Sơn, tỉnh Quảng_Ngãi ) đã tổ_chức lễ phát_động bầu_cử đại_biểu đại_biểu Quốc_hội khoá khoá XIV, nhiệm_kỳ 2021.',\n",
              " 'Sau khi bị kết_án vì âm_mưu âm_mưu đánh bom liều liều chết của IS tại thủ_đô London, Anh đã bị kết_tội âm_mưu âm_mưu giết bom liều chết.',\n",
              " 'Theo thông_tin ban_đầu, Công_an tỉnh Đắk_Lắk vừa triệt_phá thành_công đường_dây buôn_bán ma_tuý quy_mô lớn nhất tỉnh này để điều_tra về hành_vi mua_bán trái_phép chất ma_tuý.',\n",
              " 'Theo thông_tin ban_đầu, người_dân phát_hiện thi_thể một nam thanh_niên tử_vong bên vệ đường, nghi do bị điện giật.',\n",
              " 'Theo thông_tin ban_đầu được cho là do một máy_bay Airbus Airbus A320 của hãng EgyptAir đã bị rơi xuống biển Địa_Trung_Hải.',\n",
              " 'Theo thông_tin ban_đầu, người_dân phát_hiện thi_thể một nam thanh_niên tử_vong bên vệ đường, nghi do bị điện giật.',\n",
              " 'Trong đó, TAND TP. HCM cho biết, đơn_vị này đang thụ_lý vụ tranh_chấp tranh_chấp dân_sự giữa hai công_ty TNHH Khải_Khải_Hoàn ( Công_ty Khải_Hoàn ) và Công_ty TNHH Khải_Hoàn.',\n",
              " 'Theo thông_tin ban_đầu, Công_an tỉnh Đắk_Lắk vừa triệt_phá chuyên_án lớn nhất tỉnh Đắk_Lắk về tội mua_bán trái_phép chất ma_tuý, tàng_trữ vũ_khí quân_dụng.',\n",
              " 'Ngày 1/6, Tổng_thống Philippines Rodrigo_Duterte đã ký Hiệp_ước hợp_tác an_ninh với Philippines, theo đó Mỹ sẽ hợp_tác với Philippines.',\n",
              " 'Trong quá_trình điều_tra, Công_an tỉnh Đắk_Lắk vừa triệt_phá thành_công đường_dây buôn_bán ma_tuý quy_mô lớn nhất tỉnh này để triệt_phá triệt_phá đường_dây mua_bán trái_phép chất ma_tuý.',\n",
              " 'Trong quá_trình điều_tra, Phòng Cảnh_sát điều_tra tội_phạm tội_phạm về ma_tuý ( PC 47 ), Công_an tỉnh Đắk_Lắk vừa triệt_phá thành_công đường_dây buôn_bán ma_tuý lớn lớn nhất tỉnh này.',\n",
              " 'Theo thông_tin trên mạng xã_hội, một nhóm người dùng dùng mạng xã_hội đã bị một nhóm đối_tượng dùng hung_khí tấn_công, cướp tài_sản.',\n",
              " 'Trong quá_trình xây_dựng dự_án, Công_ty TNHH TNHH MTV MTV MTV hạ_tầng giao_thông TP. HCM ( TNHH MTV ) vừa được UBND TP. HCM cho biết, từ ngày 1/6, đơn_vị này đã ký hợp_đồng thuê đất với chủ đầu_tư để thực_hiện dự_án này.',\n",
              " 'Trong trận đấu với MU, HLV Mourinho đã công_bố danh_sách 23 cầu_thủ Anh sẽ ra sân sân.',\n",
              " 'Theo thông_tin ban_đầu, Công_an tỉnh Đắk_Lắk vừa triệt_phá chuyên_án lớn về buôn_bán ma_tuý lớn lớn nhất tỉnh này.',\n",
              " 'Ngày 1/6, tại Công_viên văn_hoá Sa_Pa, tỉnh Lào_Cai đã tổ_chức Lễ khởi_công Dự_án Trung_tâm thương_mại Sa_Pa. Đây là dự_án Trung_tâm văn_hoá Sa_Pa.',\n",
              " 'Theo thông_tin ban_đầu từ cơ_quan công_an tỉnh Đắk_Lắk cho biết, đơn_vị này đang điều_tra vụ án_mạng xảy ra trên địa_bàn tỉnh Đắk_Lắk.',\n",
              " 'Sáng nay ( 1/6 ), Công_an tỉnh Bắc_Ninh ) đã phối_hợp với Công_an TP Bắc_Ninh ( Bắc_Ninh ), phối_hợp điều_tra, truy bắt chiếc xe container đang chạy trên đường.',\n",
              " 'Theo thông_tin ban_đầu, người_dân phát_hiện thi_thể một nam thanh_niên nằm bên vệ đường, nghi bị điện giật tử_vong.',\n",
              " 'Trong đó, một vụ án_mạng nghiêm_trọng xảy ra tại huyện Yên_Phong, tỉnh Bắc_Ninh, khiến một người bị_thương.',\n",
              " 'Sáng nay ( 1/6 ), Công_an tỉnh Bắc_Giang ) đã phối_hợp với Công_an huyện Sơn_Động ( Bắc_Giang ), bắt quả_tang 2 đối_tượng đã vận_chuyển trái_phép chất ma_tuý, tàng_trữ vũ_khí quân_dụng.',\n",
              " 'Theo báo_cáo của Tổng_thống Mỹ Barack_Obama, Tổng_thống Mỹ Donald_Trump đã ký thoả_thuận hợp_tác an_ninh với Việt_Nam.',\n",
              " 'Theo báo_cáo của Tổng_cục Thống_kê vừa được Tổng_cục Thống_kê công_bố trên trang thông_tin điện_tử chính_thức của mình.',\n",
              " 'Theo thông_tin ban_đầu, người_dân phát_hiện thi_thể một nam thanh_niên nằm bên vệ đường, nghi do bị điện giật.',\n",
              " 'Trong khi đang đánh_bắt cá_ngừ vây vây xanh, tàu cá của ngư_dân Khánh_Hoà đang đánh_bắt được một con cá_ngừ xanh xanh nặng nhất thế_giới.',\n",
              " 'Trong đó, Thủ_tướng Nguyễn_Xuân_Phúc đã ký quyết_định bổ_nhiệm Thủ_tướng Nguyễn_Xuân_Phúc, Thủ_tướng Chính_phủ Nguyễn_Xuân_Phúc, Phó Thủ_tướng Thủ_tướng Nguyễn_Xuân_Phúc và các đồng_chí Uỷ_viên Bộ_Chính_trị, Ban Thường_vụ Thường_vụ Đảng, Ban Ban Tổ_chức Trung_ương, Ban Chỉ_đạo Chỉ_đạo Trung_ương về xây_dựng Đảng, xây_dựng cơ_sở cơ_sở chính_trị.',\n",
              " 'Theo thông_tin từ Công_an tỉnh Đắk_Lắk cho biết, đơn_vị này đang tạm giữ giữ 2 đối_tượng để điều_tra về hành_vi mua_bán trái_phép chất ma_tuý.',\n",
              " 'Theo thông_tin ban_đầu, Công_an tỉnh Đắk_Lắk vừa triệt_phá chuyên_án lớn về ma_tuý lớn nhất tỉnh này để điều_tra về hành_vi mua_bán trái_phép chất ma_tuý, tàng_trữ vũ_khí quân_dụng.',\n",
              " 'Ngày 1/6, Tổng_thống Mỹ Barack_Obama đã ký Hiệp_ước an_ninh với Triều_Tiên, theo đó đó Mỹ sẽ hợp_tác chặt_chẽ với Mỹ.',\n",
              " 'Sáng nay ( 1/6 ), tại Hà_Nội ) đã diễn ra lễ khai_mạc giải bóng_đá nữ quốc_tế 2016 2016.',\n",
              " 'Ngày 1/6, Tập_đoàn Vingroup ( Vingroup ) đã chính_thức tổ_chức Lễ ký_kết hợp_tác hợp_tác chiến_lược với Tập_đoàn Vingroup, từ ngày 1/6 đến 1/6.',\n",
              " 'Ngày 1/6, một bé trai đã thiệt_mạng sau khi một bé gái bị sét đánh trúng vào đầu.',\n",
              " 'Theo thông_tin ban_đầu, Công_an tỉnh Đắk_Lắk vừa triệt_phá chuyên_án lớn về buôn_bán ma_tuý lớn lớn nhất tỉnh này. Đối_tượng đã bị bắt_giữ.',\n",
              " 'Sáng nay ( 1/6 ), tại Cảng_hàng_không Buôn_Ma_Thuột ), Cảng_hàng_không Buôn_Ma_Thuột ( Đắk_Lắk ) đã xảy ra vụ tai_nạn máy_bay xảy ra tại sân_bay Buôn_Ma_Thuột.',\n",
              " 'Theo thông_tin từ Công_an tỉnh Đắk_Lắk, đơn_vị này đang phối_hợp với Công_an TP Buôn_Ma_Thuột ( Đắk_Lắk ) để điều_tra, truy bắt các đối_tượng có hành_vi gây ra vụ án_mạng nghiêm_trọng xảy ra trên địa_bàn.',\n",
              " 'Trong trận đấu với Hải_Phòng, Hải_Phòng đã bị gạch tên khỏi danh_sách thi_đấu ở vòng 11 V-League 2016.',\n",
              " 'Theo thông_tin ban_đầu từ Công_an TP. Biên_Hoà, Công_an TP Biên_Hoà, tỉnh Đồng_Nai cho biết, đơn_vị này đang phối_hợp với Công_an huyện Long_Thành để điều_tra, truy bắt các nghi phạm.',\n",
              " 'Trong trận đấu với GwangGwangju_FC ( Gwangju_) đã bị gạch tên khỏi danh_sách thi_đấu của đội bóng này.',\n",
              " 'Ngày 1/6, tại TP. HCM, Chủ_tịch UBND TP. HCM Nguyễn_Thành_Phong đã ký quyết_định uỷ_quyền uỷ_quyền cho Chủ_tịch UBND TPHCM Nguyễn_Thành_Phong làm Chủ_tịch UBND TP HCM Nguyễn_Thành_Phong, Bí_thư Thành_uỷ Đinh_La_Thăng.',\n",
              " 'Sáng nay ( 1/6 ), tại Cảng_hàng_không Buôn_Ma_Thuột ), Cảng_hàng_không Buôn_Ma_Thuột ( Đắk_Lắk ) đã tổ_chức lễ khởi_công khởi_công Cảng_hàng_không quốc_tế Buôn_Ma_Thuột - Buôn_Ma_Thuột.',\n",
              " 'Theo thông_tin từ trang cá_nhân của ca_sĩ Calvin_Harris và Calvin_Calvin_Harris sẽ có màn trình_diễn đặc_biệt tại một sự_kiện âm_nhạc lớn nhất thế_giới.',\n",
              " 'Ngày 1/6, tại Cảng_hàng_không Nội_Bài ( Hà_Nội ), Cảng_hàng_không Nội_Bài đã tổ_chức Lễ khởi_công Dự_án Tổ_hợp Tổ_hợp Tổ_hợp khách_sạn The_The_Nội_Bài tại sân_bay Nội_Bài, Hà_Nội.',\n",
              " 'Ngày 1/6, tại Hà_Nội, Ban Tổ_chức Hoa_hậu Việt_Nam 2016 2016 đã tổ_chức lễ trao giải Hoa_khôi Hoa_khôi Thể_thao Việt_Nam 2016.',\n",
              " 'Sau khi bị kết_án tù_treo vì âm_mưu âm_mưu gián_điệp cho Nhà_nước Nhà_nước Hồi_giáo ( IS ), một công_dân Canada đã bị kết_án 8 năm tù_giam.',\n",
              " 'Trong đó, Bộ Công_Thương vừa có văn_bản gửi Bộ Công_Thương đề_nghị Bộ Công_Thương khẩn_trương rà_soát rà_soát hoạt_động hoạt_động bán hàng đa_cấp của các doanh_nghiệp bán đa_cấp.',\n",
              " 'Sáng nay ( 1/6 ), tại TP. HCM ) đã xảy ra vụ tai_nạn tai_nạn nghiêm_trọng xảy ra trên đường Nguyễn_Văn_Linh, TP. HCM.',\n",
              " 'Sáng nay ( 1/6 ), TAND tỉnh Đắk_Lắk ) đã tuyên_án tử_hình đối_với một bị_cáo về tội giết người và giết người.',\n",
              " 'Theo thông_tin ban_đầu, một nam thanh_niên đã bị một nhóm thanh_niên cầm dao chém gục.',\n",
              " 'Sau khi bị ném bom_xăng bom_xăng, nhóm thanh_niên cầm mã_tấu ném bom_xăng, ném bom_xăng vào nhà dân.',\n",
              " 'Ngày 1/6, một vụ hoả_hoạn xảy ra tại một bệnh_viện Nhi ở miền bắc nước này, khiến một bé trai thiệt_mạng.',\n",
              " 'Trong trận đấu giữa hai đội đội bóng đã kết_thúc hồi cuối năm nay.',\n",
              " 'Sáng nay ( 1/6 ), tại xã An_Hải, huyện An_Hải, tỉnh Khánh_Hoà ), lực_lượng chức_năng tỉnh Khánh_Hoà đã phối_hợp với Công_an xã An_Hải ( huyện An_Hải ) để truy_quét lâm_tặc, truy_quét lâm_tặc.',\n",
              " 'Theo thông_tin từ Công_an TP. HCM cho biết, đơn_vị này đang phối_hợp với Công_an TP HCM để điều_tra, truy bắt phạm phạm gây ra vụ án_mạng xảy ra trên địa_bàn.',\n",
              " 'Theo thông_tin ban_đầu từ cơ_quan Công_an tỉnh Đắk_Lắk cho biết, đơn_vị này đang điều_tra, xác_minh, điều_tra, xác_định nguyên_nhân ban_đầu.',\n",
              " 'Theo thông_tin ban_đầu cho biết, đơn_vị này vừa phát_hiện một vụ tai_nạn máy_bay xảy ra tại sân_bay Buôn_Ma_Thuột, Buôn_Ma_Thuột.',\n",
              " 'Trong trận đấu giữa hai đội đội bóng bóng mạnh nhất thế_giới của Brazil đã được HLV Dunga triệu_tập vào danh_sách 23 cầu_thủ tham_dự Euro 2016.',\n",
              " 'Trong trận đấu với Hải_Phòng trên sân_nhà của Hải_Phòng, Hải_Phòng đã giành chiến_thắng đậm ở trận đấu diễn ra vào chiều nay ( 21/5 ).']"
            ]
          },
          "metadata": {
            "tags": []
          },
          "execution_count": 13
        }
      ]
    },
    {
      "cell_type": "code",
      "metadata": {
        "id": "HMZJ8OZDibxD",
        "colab": {
          "base_uri": "https://localhost:8080/"
        },
        "outputId": "07d2f776-bbbb-464b-cfc9-7864751a139a"
      },
      "source": [
        "label_str"
      ],
      "execution_count": null,
      "outputs": [
        {
          "output_type": "execute_result",
          "data": {
            "text/plain": [
              "['“ Bộ Tài_chính đề_nghị Ngân_hàng Nhà_nước chỉ_đạo người đại_diện phần vốn Nhà_nước tại Ngân_hàng TMCP Đầu_tư và Phát_triển ( BIDV ) và Ngân_hàng TMCP Công_thương ( Vietinbank ) biểu_quyết chia cổ_tức năm tài_chính 2015 bằng tiền_mặt và nộp toàn_bộ số cổ_tức được chia cho phần vốn Nhà_nước tại hai ngân_hàng trên vào ngân_sách nhà_nước ” – đây là nội_dung chính của văn_bản số 6854 / BTC-TCT ngày 19-5-2016 của Bộ Tài_chính gửi Thống_đốc NHNN .',\n",
              " 'Mẹ Rồng của Game of Thrones đã tâm_sự rằng mình phải uống rượu để say mới dám đóng các cảnh nóng .',\n",
              " 'Với sự hiếu_kì và tò_mò , hàng trăm người_dân đã tập_trung về gia_đình anh Nguyễn_Hữu_Thông , tại khối 13 , thị_trấn Phố Châu , huyện Hương_Sơn ( Hà_Tĩnh ) để xem thần trăn xuất_hiện tại đây .',\n",
              " 'Bức ảnh từ hai năm trước của nữ tiếp_viên trên chuyến bay MS804 của EgyptAir chụp ghép với một máy_bay chìm xuống biển đang gây xôn_xao dư_luận giữa lúc vụ mất_tích MS804 vẫn là một bí_ẩn lớn .',\n",
              " 'Trước hiện_tượng cá chết hàng_loạt ở miền Trung , Nafiqad vừa ra công_văn khẩn yêu_cầu kiểm_tra chỉ_tiêu kim_loại nặng trong muối biển tại khu_vực này .',\n",
              " 'Cách đây ít phút , HLV Chris_Coleman đã chính_thức công_bố danh_sách 23 tuyển_thủ xứ Wales chuẩn_bị sang Pháp dự EURO 2016 .',\n",
              " 'Trong lúc đi tập_thể_dục , một_số người_dân hoảng_hốt phát_hiện thi_thể nam thanh_niên dính nhiều máu ở miệng và tai nên đã báo cơ_quan công_an .',\n",
              " 'Đất Xanh_Miền_Bắc vừa chính_thức giới_thiệu ra thị_trường và trở_thành đơn_vị phân_phối bán căn_hộ Dự_án Phumy_Complex .',\n",
              " 'Hoạt_động đầu_tư vào khu_vực Đông_Nam_Á của Nhật_Bản không ngừng tăng_trưởng , trong khi dần rút_lui khỏi thị_trường Trung_Quốc .',\n",
              " 'Chiều 2-6 , Bộ_trưởng , Chủ_nhiệm VPCP Mai_Tiến_Dũng cho biết đến nay đã xác_định được nguyên_nhân cá chết hàng_loạt ở biển miền Trung thời_gian qua .',\n",
              " 'Một_mình đạp xe xuyên Việt trên chiếc xe_đạp thô_sơ , chàng trai 27 tuổi , người Cà_Mau đã vượt hơn 2.000 km nhằm vận_động người_dân nâng cao ý_thức hiến tạng cho y_học .',\n",
              " 'Ngày 2-6 , Công_an TP Biên_Hoà , tỉnh Đồng_Nai cho biết đang làm rõ vụ gây náo_loạn trong đêm khiến cả khu_phố bất_an và một nhà dân bị đập vỡ cửa_kính xảy ra vào_khoảng 23 giờ đêm 1-6 .',\n",
              " 'Tại Đại_hội_đồng cổ_đông thường_niên vừa diễn ra hôm_qua ( 23/5 ) , các cổ_đông của Vietnam_Airlines - CTCP đã nhất_trí thông_qua Phạm_Ngọc_Minh thôi giữ chức Tổng_Giám_đốc để bổ_nhiệm làm Chủ_tịch Hội_đồng_quản_trị ; tân_Tổng_Giám_đốc mới là ông Dương_Trí_Thành - Phó Tổng_giám_đốc đương_nhiệm .',\n",
              " 'Những tranh_cãi về việc Messi hay Ronaldo xuất_sắc hơn có_lẽ đã đến hồi kết nếu nhìn vào BXH những cầu_thủ giá_trị nhất của thế_giới của CIES Football_Observatory .',\n",
              " 'Quy_định bắt_buộc dự_án nhà cao_tầng tại Hà_Nội phải có 3 tầng hầm đang gây xôn_xao dư_luận , làm \" nóng \" lĩnh_vực địa_ốc những ngày qua . Hiện quy_định này đang được các cơ_quan quản_lý thành_phố hướng_dẫn , quy_định cụ_thể về việc triển_khai chỉ_đạo của Thành_uỷ .',\n",
              " 'Cặp đôi vàng showbiz Việt_Đông_Nhi - Ông Cao_Thắng vừa công_bố dự_án mới để tuyển_chọn nhóm nhạc nữ mang tên Hello_Yellow .',\n",
              " 'Hoa_Kỳ đã nâng thuế nhập_khẩu đối_với các nhà_sản_xuất thép Trung_Quốc hơn 5 lần sau khi cáo_buộc họ bán dưới giá thị_trường .',\n",
              " 'Thêm một dấu_hiệu nữa cho thấy_kinh_tế Venezuela đang vướng vào rắc_rối lớn : ngày_càng có ít chuyến bay cất_cánh và hạ_cánh trên các đường_bay nước này .',\n",
              " 'Ngày 24.5 , hãng hàng_không Turkish_Airlines phải tiến_hành lục_soát một máy_bay của hãng này tại sân_bay Ataturk , thành_phố Istanbul sau khi phát_hiện một mẩu giấy có nội_dung đe_doạ đánh bom máy_bay .',\n",
              " 'Lực_lượng khủng_bố IS đang giữ vài trăm gia_đình ở Fallujah làm lá_chắn để ngăn các lực_lượng Iraq tấn_công vào trung_tâm thành_phố .',\n",
              " 'Ngày 28/05/2016 , Eurowindow_Holding tổ_chức sự_kiện ra_mắt dự_án Mövenpick_Cam_Ranh_Resort tại khách_sạn Lotte Hà_Nội . Với những lợi_thế vượt_trội tại thiên_đường du_lịch bậc nhất Việt_Nam , Movenpick_Cam_Ranh_Resort hứa_hẹn về sự bùng_nổ trên thị_trường bất_động_sản nghỉ_dưỡng .',\n",
              " 'Trong ngày 17/5 , hơn 60 công_nhân công_ty môi_trường TP HCM đã sử_dụng nhiều ca_nô để vớt hàng chục tấn cá chết nổi dày_đặc trên kênh Nhiêu_Lộc - Thị_Nghè .',\n",
              " 'Ngày 2/6 , nguồn tin từ UBND thành_phố Hải_Phòng cho biết thành_phố đã yêu_cầu Sở xây_dựng kiểm_điểm , xem_xét lại việc ông Đỗ_Trọng Đạt , Giám_đốc Sở này ký quyết_định bổ_nhiệm cho con trai giữ chức phó trưởng phòng thuộc sở không đúng quy_định .',\n",
              " 'Sau khi sự_cố mất điện do mưa to và sét khiến một_số khách_hàng hai miền Trung và Nam bị mất điện , EVN đã lên_tiếng xin_lỗi .',\n",
              " 'Theo AFP / Kyodo , ngày 20/5 , bà Thái_Anh_Văn đã tuyên_thệ nhậm_chức , trở_thành nhà_lãnh_đạo nữ đầu_tiên của Đài_Loan .',\n",
              " '“ Xe_buýt vòng_quanh trung_tâm TP - Bus_Hop_On_Hop Off ( mã_số tuyến 120 ) có đặc_trưng là dừng đón và trả khách tại các điểm thăm_quan nổi_tiếng của TP ! ” .',\n",
              " 'Trung_ương Đoàn đã trao huy_hiệu \" Tuổi_trẻ dũng_cảm \" cho hai thiếu_niên người dân_tộc Raglai dũng_cảm cứu 5 học_sinh bị đuối nước .',\n",
              " 'Nam diễn_viên và người đẹp Victoria ’ s Secret không ngại xuất_hiện bên nhau sau nghi_vấn hẹn_hò .',\n",
              " 'Chiều 1/6 , Công_an thành_phố Bạc_Liêu ( tỉnh Bạc_Liêu ) đã bắt khẩn_cấp đối_tượng chém trọng_thương Chủ_tịch Hội Nông_dân thành_phố Bạc_Liêu .',\n",
              " 'Liên_tiếp xảy ra hai vụ cháy trong đêm khuya khiến nhiều cụ_già và trẻ_em bị kẹt trong đám cháy khi cửa_cuốn mất điện không_thể mở ra được .',\n",
              " 'Trong lúc đi tập_thể_dục , người_dân hoảng_hốt phát_hiện thi_thể nam thanh_niên bê_bết máu gần khu_vực cầu Cứng , phường Phương_Lâm , TP Hoà_Bình , tỉnh Hoà_Bình .',\n",
              " 'Lê_Quang_Liêm đã bị đứt mạch chiến_thắng tại giải cờ_vua châu_Á khi không_thể đánh_bại Wen_Yang của Trung_Quốc . Nhưng trong lượt ván thứ_sáu kỳ_thủ Việt_Nam đã đánh_bại Sethuraman của Indonesia để giành lại vị_trí số_một của giải này .',\n",
              " 'Sáng ngày 1/6 , Lễ_hội Trái_cây Nam_bộ lần thứ 12 đã chính_thức diễn ra tại Khu du_lịch Suối_Tiên , quận 9 .',\n",
              " 'Để được gặp ông Đặng_Lê_Nguyên_Vũ – Chủ_tịch tập_đoàn cà_phê Trung_Nguyên , Công tìm đến showroom của tập_đoàn này và liên_tiếp yêu_cầu các nhân_viên cho gặp ông Vũ . Khi các nhân_viên từ_chối cho gặp , Công đã rút dao khống_chế một nữ nhân_viên để làm con_tin .',\n",
              " 'Nhờ bình_tĩnh và liều_lĩnh , tiền_đạo Alan_Pulido của tuyển Mexico đã thoát khỏi nhóm bắt_cóc có súng .',\n",
              " 'Huấn_luyện_viên Joachim_Loew đã chính_thức công_bố 23 cầu_thủ đội_tuyển Đức sẽ tới Pháp tham_dự vòng chung_kết EURO 2016 . Tuy_nhiên , trong bản danh_sách này không có tên tiền_vệ Marco_Reus .',\n",
              " 'Chi_cục quản_lý chất_lượng nông - lâm - thuỷ_sản các địa_phương báo_cáo kết_quả phân_tích chất_lượng muối_ăn trong ngày 20/5 .',\n",
              " 'Công_an đã bắt được kẻ khống_chế , hiếp_dâm thiếu_nữ giữa ban_ngày ở Kon_Tum sau 3 ngày gây án .',\n",
              " 'Trong khi bị lực_lượng chức_năng tổ_chức vây bắt , Vi_Văn_Thắng – nghi can sát_hại 2 vợ_chồng tại huyện Quế_Phong ( Nghệ_An ) đã dùng dao cắt vào cổ mình để tự_sát .',\n",
              " 'Sáng nay ( 19/5 ) , Hợp_tác_xã Dịch_vụ Sản_xuất nông_nghiệp Triều_Khúc đã tổ_chức họp_báo với nội_dung liên_quan đến hoá_đơn nước hơn 19 triệu đồng / tháng của một gia_đình .',\n",
              " 'Chiếc taxi đang đi đến cầu Thanh_Trì thì bất_ngờ nam thanh_niên mở_cửa xe , nhảy xuống sông Hồng tự_tử .',\n",
              " 'Nghe tiếng kêu cứu phát ra từ trong ngôi nhà đang cháy , nhiều người_dân địa_phương đã chạy đến dùng xà_beng phá cửa và giải_cứu đôi vợ_chồng 70 tuổi bị kẹt bên trong .',\n",
              " 'Tổng hợp cả bản án cũ trong vụ án đã xét xử năm 2015 , nguyên phó giám đốc Agribank_Bình_Chánh Nguyễn_Văn_Lợi nhận 15 năm tù , hai cán bộ khác 13 năm tù .',\n",
              " 'Ngày 16/5 vừa_qua , Đất Xanh_Miền_Bắc chính_thức ra_mắt dự_án Căn_hộ PHUMY Complex nằm trong Quần_thể Khu đô_thị Đoàn_Ngoại_Giao .',\n",
              " 'Hôm_nay 19/5 , hơn 20 khoang chứa oxy tại một căn_cứ_quân_sự của Mỹ ở Hàn_Quốc đã phát_nổ và gây ra hoả_hoạn lớn , tuy_nhiên đến nay vẫn chưa có báo_cáo nào được đưa ra về số thương_vong sau vụ nổ , AP dẫn tin từ các quan_chức Hàn_Quốc cho biết .',\n",
              " 'Công_viên văn_hoá Sa_Pa được xây_dựng với đẳng_cấp quốc_tế bao_gồm Khu vui_chơi giải_trí theo mô_hình Disneyland kết_hợp du_lịch sinh_thái ngoài_trời .',\n",
              " 'Trong một buổi lễ vinh_danh các bậc phụ_huynh tại Điện Kremlin , Tổng_thống Nga Vladimir_Putin đã cố_gắng an_ủi một bé gái bật khóc .',\n",
              " 'Ngày 3.6 , Vietnam_Airlines ( VNA ) tạm ngừng khai_thác 6 chuyến bay đến và đi từ Buôn_Ma_Thuột với lý_do đường_băng bị bong tróc lớn , cảng_hàng_không Buôn_Ma_Thuột tạm_thời đóng_cửa đến 14 giờ chiều cùng ngày để sửa_chữa .',\n",
              " 'Đại_diện Hiệp_hội tinh_dầu , hương_liệu , mỹ_phẩm Việt_Nam đã có những thông_tin cụ_thể về việc sử_dụng các chất bảo_quản bị_cáo buộc là chất cấm trong sản_phẩm dầu_gội đầu .',\n",
              " 'Chiều 2-6 , Đại_sứ_quán Thuỵ_Điển tại Việt_Nam và Bệnh_viện Nhi trung_ương tổ_chức lễ đặt tượng cố Thủ_tướng Olof_Palme tại toà nhà mang tên Olof_Palme ở Bệnh_viện Nhi trung_ương .',\n",
              " 'Bộ Dầu_mỏ Iran mới_đây thông_báo , nước này không có kế_hoạch đóng_băng sản_lượng dầu trước thềm cuộc họp với các nước xuất_khẩu dầu_mỏ OPEC diễn ra vào ngày 2/6/2016 .',\n",
              " 'Ngoài sự tiện_lợi giành cho người_dân , wifi miễn_phí sẽ góp_phần giải_quyết được nhiều vấn_đề trong việc xây_dựng chính_quyền điện_tử mà TP HCM đang tập_trung triển_khai .',\n",
              " 'Chủ_tịch Yokohama_FC , ông Koji_Kitawaga mới_đây đã tuyên_bố muốn ký hợp_đồng có thời_hạn 10 năm với Nguyễn_Tuấn_Anh .',\n",
              " 'Sáng 29/5 , TAND TP Hồ_Chí_Minh đã mở phiên_toà xét_xử bị_cáo Nguyễn_Thanh_Hải về tội Mua_bán trái_phép chất ma_tuý .',\n",
              " 'Để khắc_phục tình_trạng chạy trường , chạy lớp , UBND tỉnh , thành_phố chỉ_đạo phân tuyến , giao chỉ_tiêu tuyển_sinh cho phù_hợp với chỉ_tiêu trường_lớp .',\n",
              " 'Thấy vợ bị giật mất chiếc bóp , người đàn_ông quốc_tịch Marốc liền đuổi theo để lấy lại tài_sản thì bị kẻ_cướp dùng dao đâm gây thương_tích .',\n",
              " \"Chỉ cần thao_tác trong khoảng 15 ' , người_dân hiện đã có_thể đăng_ký cấp đổi giấy_phép lái_xe quốc_tế qua mạng và nhận tại nhà thông_qua dịch_vụ chuyển_phát nhanh .\",\n",
              " 'Chiều 30-5 , lãnh_đạo UBND TPHCM có văn_bản giao UBND quận 5 khẩn_trương rà_soát phương_án hỗ_trợ , bồi_thường , tái định_cư , đảm_bảo hợp_tình_hợp_lý và khả_thi để làm cơ_sở vận_động , thuyết_phục 10 hộ dân còn lại khẩn_trương di_dời để tháo_dỡ khẩn_cấp chung_cư số 727 đường Trần_Hưng_Đạo , phường 1 , quận 5 .',\n",
              " 'Trong cái nắng gắt tháng 5 oi_ả , một chàng thanh_niên nhỏ_bé , gầy queo với chiếc xe_đạp cà_tàng đã cán đích Hà_Nội , kết_thúc cuộc hành_trình xuyên Việt đặc_biệt từ Mũi_Cà_Mau ( quê anh ) với mong_muốn , đi để mang thông_điệp vận_động hiến tạng “ cho đi là còn mãi ” khiến nhiều người nể phục .',\n",
              " 'Sáng 20/5 , 2.045 cử_tri tại 10 tổ bầu_cử của xã Phà_Đánh , huyện Kỳ_Sơn náo_nức đi bỏ_phiếu sớm bầu đại_biểu Quốc_hội khoá XIV và HĐND các cấp nhiệm_kỳ 2016 - 2021 .',\n",
              " 'Cầu_thủ Alan_Pulido đã được cảnh_sát giải_cứu thành_công sau vài giờ bị bắt_cóc ở phía Đông_Bắc_Mexico .',\n",
              " 'Nhằm phát_triển bền_vững , tạo không_gian , cảnh_quan , môi_trường đô_thị và phục_vụ nhu_cầu của du_khách , UBND tỉnh Lào_Cai vừa có quyết_định phê_duyệt Quy_hoạch chi_tiết Công_viên văn_hoá Sa_Pa .',\n",
              " 'Theo Sở Giao_thông Vận_tải TP. HCM , tuyến bus du_lịch sẽ hoạt_động liên_tục 24 giờ / ngày , thời_gian giãn cách 30 phút / chuyến .',\n",
              " 'Xạ_thủ số 1 Việt_Nam Hoàng_Xuân_Vinh vừa giành huy_chương đồng_nội dung 10m súng_ngắn hơi nam tại World_Cup bắn súng ở TP Munich ( Đức ) .',\n",
              " 'Cơ_quan cảnh_sát điều_tra Công_an tỉnh Nghệ_An và Công_an TP Vinh đang khẩn_trương điều_tra , truy bắt nghi phạm chém một người chết , một người bị_thương trưa cùng ngày .',\n",
              " 'Do dính chấn_thương cổ_tay khá nghiêm_trọng nên tay_vợt người Tây_Ban_Nha , Rafael_Nadal phải quyết_định rút khỏi Roland_Garros , ngay trước thềm vòng 3 .',\n",
              " 'Đây là tháng thứ tám liên_tiếp , chỉ_số giá tiêu_dùng ( CPI ) tăng so với các tháng liền trước .',\n",
              " 'Các lực_lượng chức_năng vớt được gần 70 tấn cá chết trên kênh Nhiêu_Lộc - Thị_Nghè đem xử_lý ở bãi rác Đa_Phước .',\n",
              " 'Sân_bay Nội_Bài sẽ được mở_rộng theo hướng xây_dựng đối_diện với sân_bay hiện_nay ( lật qua đại_lộ Võ_Nguyên_Giáp ) với diện_tích 720 ha thuộc 3 xã Phú_Minh , Phú_Cường , Mai_Đình , huyện Sóc_Sơn .',\n",
              " 'Ngày 23/5 , Chính_phủ Áo xác_nhận ứng_cử_viên Alexander van der Bellen , người được đảng Xanh hậu_thuẫn , đã giành chiến_thắng sít_sao trước đối_thủ có chủ_trương cực_hữu Norbert_Hofer trong cuộc bầu_cử tổng_thống .',\n",
              " '\" Nữ_hoàng judo \" Văn_Ngọc_Tú là VĐV mới nhất mang về cho thể_thao Việt_Nam một tấm vé nữa dự Thế_vận_hội 2016 tại Brazil .',\n",
              " 'Chủ_tịch UBND xã Tân_Triều cho biết , xã đã triệu_tập lãnh_đạo HTX dịch_vụ sản_xuất nông_nghiệp Tân_Triều lên để làm rõ vụ hoá_đơn nước 19 triệu đồng của gia_đình ông Ứng .',\n",
              " 'Việc thu_hồi cuốn \" Madam_Nhu \" theo đúng tinh_thần của Cục Xuất_bản , in và phát_hành đã đưa ra , chỉ áp_dụng với ấn_bản 1 còn mắc một_số lỗi nội_dung .',\n",
              " 'Ngày 1-6 , Quỹ_Nhi đồng Liên_hợp_quốc ( UNICEF ) cho biết , ít_nhất 20 nghìn trẻ_em vẫn mắc_kẹt trong TP Fallujah , thành_trì của tổ_chức Nhà_nước Hồi_giáo ( IS ) tự_xưng gần Thủ_đô Baghdad . Các em đang đối_mặt với nguy_cơ bị buộc phải tham_chiến và không được chung sống với gia_đình .',\n",
              " 'Adele được cho là đã ký một hợp_đồng thu âm nhiều album cùng hãng Sony với trị_giá lên tới 90 triệu bảng Anh . Đây là hợp_đồng thu âm “ đắt_giá ” nhất trong lịch_sử từ trước đến nay .',\n",
              " 'Ngày 23.5 , Phòng CSĐT tội_phạm về ma_tuý ( PC 47 ) - Công_an TP. HCM cho biết đã khởi_tố , bắt tạm giam 7 bị_can trong chuyên_án ma_tuý cực lớn phối_hợp với Công_an tỉnh Lâm_Đồng triệt_phá .',\n",
              " 'Ngày 22/5 , một đám cháy lớn đã thiêu rụi khu ký_túc_xá của nữ_sinh tại trường Pithakkiart_Witthaya ở tỉnh Chiang_Rai , phía bắc Thái_Lan làm ít_nhất 17 nữ_sinh thiệt_mạng .',\n",
              " 'Đây là lần đầu_tiên Kỳ_Duyên công_khai chia_sẻ về hình_ảnh của người_yêu trên instagram cá_nhân nên nhận được nhiều sự quan_tâm của công_chúng .',\n",
              " 'Nhà ông Trương_Văn_Hiền , người vừa trúng_cử đại_biểu HĐND TP. HCM khoá IX bị trộm đột_nhập lấy đi 2 tỷ đồng .',\n",
              " 'Đang đi cùng bạn gái trên xe taxi , nam thanh_niên bất_ngờ xuống xe nhảy_cầu Thanh_Trì tự_tử .',\n",
              " 'Ngày 19-5 , tại Hà_Nội , Ban Tổ_chức T.Ư , Tạp_chí Cộng_sản , Đài_Truyền_hình Việt_Nam chủ_trì phối_hợp Ban Tuyên_giáo T.Ư , Bộ Thông_tin và Truyền_thông , Hội Nhà_báo Việt_Nam tổ_chức họp_báo công_bố và phát_động Giải báo_chí toàn_quốc về xây_dựng Đảng mang tên “ Búa liềm vàng ” .',\n",
              " 'Trong quá_trình vận_chuyển vật_liệu từ dưới đất lên tầng 3 ngôi nhà đang xây , anh Tiến không may bị té ngã , rơi xuống đất , tử_vong ngay sau đó .',\n",
              " 'Nhà_lãnh_đạo mới của Đài_Loan , bà Thái_Anh_Văn , hôm_nay chính_thức nhậm_chức và có bài diễn_văn nhân_sự kiện này .',\n",
              " 'Liên_quan đến thông_tin EU cảnh_báo hiện_tượng cá chết bất_thường ở Việt_Nam , Hiệp_hội Chế_biến và Xuất_khẩu Thuỷ_sản Việt_Nam ( Vasep ) vừa thông_báo , khẳng_định các sản_phẩm hải_sản của Việt_Nam xuất_khẩu đảm_bảo an_toàn , không ảnh_hưởng từ việc cá chết .',\n",
              " 'Lionel_Messi đưa ra lí_do cực_kì bất_ngờ khi được hỏi về những rắc_rối thuế_má trong thời_gian gần đây .',\n",
              " 'Tên cướp 28 tuổi ở Hà_Nam đã dùng hung_khí đe_doạ để cướp tài_sản và hiếp_dâm nữ_sinh lớp 11 , khi cô này đang tâm_sự cùng bạn trai ở chỗ vắng .',\n",
              " 'Mới_đây , tại quận Volokolamsk , tỉnh Moscow ( LB Nga ) , Tập_đoàn TH đã tổ_chức trọng_thể lễ khởi_công Dự_án Tổ_hợp chăn_nuôi bò_sữa và chế_biến sữa giai_đoạn 1 tại Nga',\n",
              " 'Trong lúc làm_việc anh Huy bất_ngờ điện giật bất_tỉnh nhưng không ai hay_biết .',\n",
              " 'Theo báo_cáo nhanh của Ban chỉ_huy PCTT-TKCN ( Phòng_chống thiên_tai –Tìm kiếm cứu nạn ) huyện Lục_Yên ( Yên_Bái ) , thiệt_hại do mưa kèm theo dông , gió_giật gây ra ước_tính thiệt_hại hơn 1,6 tỷ đồng .',\n",
              " 'Hai ngày trước lúc bà Thái_Anh_Văn thuộc đảng Dân Tiến chủ_trương độc_lập , tuyên_thệ nhậm_chức lãnh_đạo Đài_Loan , ngày 18.5 , Trung_Quốc chính_thức xác_nhận đã tiến_hành một_số cuộc tập_trận hùng_hậu ở vùng bờ biển phía đông nam , hướng về phía Đài_Loan .',\n",
              " 'Nằm trong kế_hoạch chuyến thăm Việt_Nam của Tổng_thống Mỹ_Obama , Nhà_Trắng đã tính phương_án dự_phòng hai máy_bay chuyên_cơ C17 và C-32 tại sân_bay quốc_tế Đà_Nẵng khi cần dùng đến .',\n",
              " 'Bộ NN & PTNT vừa trình Thủ_tướng Chính_phủ xem_xét về chủ_trương chuyển mục_đích sử_dụng rừng tại Vườn_quốc_gia Yok_Đôn để xây_dựng Thuỷ_điện Đrăng_Phốk , tỉnh Đắk_Lắk .',\n",
              " 'Các nhân_viên sở thú Cincinnati ở bang Ohio ( Mỹ ) ngày 28.5 kịp_thời bắn chết con khỉ đột nặng hơn 180 kg , giải_cứu bé trai 3 tuổi bị con khỉ kéo lê khắp chuồng .',\n",
              " 'Giới săn tin Hồng_Kông đã “ tóm ” được hình_ảnh Trần_Quán_Hy đi cùng siêu_mẫu Tần_Thư_Bồi vào ngày 1/6 . Trong khi Trần_Quán_Hy vui_vẻ với giới săn tin thì người đẹp họ Tần lại khá bối_rối và tìm cách né_tránh ống_kính máy_ảnh .',\n",
              " 'Công_ty Anheuser-Busch InBev ( AB InBev ) vừa tổ_chức Lễ kỷ_niệm một năm khánh_thành nhà_máy bia AB InBev tại Việt_Nam .',\n",
              " 'Ngày 1/6 , Tập_đoàn Vingroup đã tổ_chức Lễ ký_kết hợp_tác đợt 1 với gần 250 doanh_nghiệp Việt tham_gia chương_trình “ Đồng_hành , hỗ_trợ và thúc_đẩy sản_xuất nội_địa ” . Các doanh_nghiệp ký_kết với Vingroup thuộc 7 ngành_hàng tiêu_dùng cơ_bản là thực_phẩm , hoá_mỹ_phẩm , VPP đồ_chơi , hàng gia_dụng , hàng thực_phẩm tươi_sống , thời_trang , bông vải_sợi đến từ 18 tỉnh / thành_phố trên toàn_quốc .',\n",
              " '“ Ngoài nghi_vấn rằng đây là một vụ tự_sát thì cũng không loại_trừ trường_hợp có sự tham_gia của người thứ ba thực_hiện việc phạm_tội ” , luật_sư Hà_Trọng_Đại nhận_định .',\n",
              " 'Thông_tin từ cơ_quan tố_tụng tỉnh Bắc_Ninh cho_hay , từ ngày 1/6 đến 3/6 , TAND tỉnh Bắc_Ninh sẽ đưa “ ông trùm ” Minh “ Sâm ” và đồng_bọn ra ra xét_xử với tội_danh \" cưỡng_đoạt tài_sản và tàng_trữ trái_phép vũ_khí quân_dụng \" .',\n",
              " 'Chiếc xe ben đang đổ dốc cầu Phú_Mỹ ( TP. HCM ) bất_ngờ mất lái húc văng dải_phân_cách bê_tông lao vào làn xe_máy , khiến phương_tiện lật ngang , xoay 180 độ .',\n",
              " 'Sáng 27-5 , tại quận 8 , TAND TP. HCM xử sơ_thẩm lưu_động đã tuyên_phạt Nguyễn_Văn_Bông ( SN 1984 tại Đồng_Tháp ) tù chung_thân về tội giết người .',\n",
              " 'Cảnh_sát Đức vừa bắt_giữ các nghi phạm là thành_viên tổ_chức IS vì liên_quan tới âm_mưu tấn_công khủng_bố tại Düsseldorf , Đức .',\n",
              " 'Về gần tới_bến , xe_khách giường_nằm bỗng lao lên lề_đường , tông gãy cột điện trung thế cao hơn chục mét . Nhiều hành_khách la_hét hoảng_sợ ...',\n",
              " 'Ứng_dụng đi chung xe Uber vừa nhận thêm vốn từ Quỹ_Đầu tư Công ( PIF ) của Saudi_Arabia để mở_rộng tại Trung_Đông .',\n",
              " 'Ngày 19-5 , Tập_đoàn Hoa_Sen tổ_chức Lễ_Khởi công xây_dựng Dự_án Khu Trung_tâm Thương_mại , Dịch_vụ , Khách_sạn , Nhà_hàng và Tổ_chức sự_kiện Hoa_Sen_Yên_Bái ( gọi tắt là Dự_án Khu Trung_tâm Thương_mại , Khách_sạn Hoa_Sen_Yên_Bái ) tại tổ 48 , phường Đồng_Tâm , TP. Yên_Bái , tỉnh Yên_Bái .',\n",
              " 'Đối_với nhiều người Việt_Nam , Thuỵ_Điển được xem là người bạn tốt nhất , chung_thuỷ nhất . Người đặt nền_móng cho mối quan_hệ hết_sức tốt_đẹp đó chính là cố Thủ_tướng Olof_Palme .',\n",
              " 'Nhà_Trắng cho biết Mỹ sẽ cung_cấp 18 tàu tuần_tra cho Việt_Nam , đồng_thời hỗ_trợ huấn_luyện và thiết_bị thực_thi pháp_luật trên biển cho Cảnh_sát Biển Việt_Nam .',\n",
              " 'Do ghen_tuông , gã chồng hờ ra_tay dã_man chém chết vợ rồi uống thuốc tự_tử .',\n",
              " 'Ông Phong tự nhận là chủ_tịch HĐQT một công_ty xây_dựng , khoe có suất xin vào học trung_cấp cảnh_sát .',\n",
              " 'Liên đoàn Cầu lông VN ( VBF ) vừa thông_tin về việc Nguyễn Tiến_Minh vàVũ Thị_Trang , hai tay vợt hàng đầu của Việt Nam chính thức có_mặt tại Olympic_Rio 2016 vào tháng 8 tới .',\n",
              " 'Ý_kiến của Sở Quy_hoạch –Kiến trúc Hà_Nội ( QH-KT ) về quy_định công_trình cao_tầng bắt_buộc phải có tối_thiểu 3 tầng hầm .',\n",
              " 'Các binh_sĩ Syria mới_đây đã bắt_giữ đao_phủ của Nhà_nước Hồi_giáo tự_xưng ( IS ) có biệt_danh là \" Máy_ủi ” , theo một báo_cáo .',\n",
              " 'Cầu_thủ Ilkay_Gundogan đã chính_thức đến với đội chủ sân Etihad theo bản hợp_đồng có thời_hạn 4 năm từ Borussia_Dortmund .',\n",
              " 'Phòng Cảnh_sát giao_thông đường_bộ - đường_sắt ( Công_an tỉnh Bắc_Giang ) vừa phát_hiện và bắt quả_tang vụ vận_chuyển hơn nửa tấn ngà_voi và chủ phương_tiện còn gợi_ý đưa hối_lộ .',\n",
              " 'Công_ty Coca-Cola FEMSA tại Venezuela hiện đã ngừng sản_xuất do tình_trạng thiếu đường .',\n",
              " 'HLV Jose_Mourinho của M.U cho biết , ông sẽ tập_trung vào công_việc của mình , chứ không bị phân_tâm bởi cuộc_chiến cá_nhân với người đồng_nghiệp Pep_Guardiola bên phía Man_City .',\n",
              " 'Nữ ca_sĩ Bảo_Thy ra_mắt ca_khúc \" Lonely \" cùng những hình_ảnh mới đầy trẻ_trung , tươi mới .',\n",
              " 'Chiều ngày 20/5 , tại Cảng cá Hòn_Rớ ( thành_phố Nha_Trang , Khánh_Hoà ) , con cá_ngừ vây xanh do tàu KH 90297 TS của ông Huỳnh_Phi_Minh ( 50 tuổi , ở Hòn_Rớ , xã Phước_Đồng , Nha_Trang , Khánh_Hoà ) bắt được ở vùng_biển phía Đông quần_đảo Hoàng_Sa đã được một doanh_nghiệp mua với giá khoảng 55 triệu đồng .',\n",
              " 'Quân_đội Syria vừa đăng_tải một video ghi lại cảnh bắt_giữ tên đao_phủ khét_tiếng của IS có biệt_danh “ Máy_ủi ” . Hắn là thành_viên của \" Uỷ_ban Chặt chém \" IS , nặng 127kg .',\n",
              " 'Đây là tháng tăng thứ 4 liên_tiếp của chỉ_số PMI và là tháng thứ 6 chỉ_số này trên ngưỡng 50 điểm . Số đơn hàng mới tăng nhanh nhất trong 1 năm qua .',\n",
              " 'Chiếc xe thuộc hạng siêu sang Bentley đang dừng đèn_đỏ trên đường Nguyễn_Văn_Linh ( quận 7 , TP. HCM ) thì bị xe Container từ phía sau lao tới tông phải .',\n",
              " 'Cảnh_sát Mexico cho_hay , tiền_đạo Alan_Pulido đang khoác_áo CLB Olympiakos , Hy_Lạp đã bị một nhóm có vũ_trang bắt_cóc gần biên_giới với Mỹ .',\n",
              " 'Hai vị_trí lãnh_đạo cấp cao của Vietnam_Airlines là Chủ_tịch Hội_đồng_quản_trị , Tổng_giám_đốc mới đã được bổ_nhiệm sau đại_hội cổ_đông thường_niên của Tổng_công_ty vào ngày 23/5 .',\n",
              " 'Trở về Manchester sau kỳ nghỉ ,_Ryan_Giggs chuẩn_bị nói lời chia_tay MU , sau khi từ_chối đảm_nhận vai_trò dẫn_dắt đội trẻ .',\n",
              " 'Chiều 3-6 , ông Lê_Thy_Hà - Trưởng đại_diện Cảng_hàng_không Miền Nam tại Cảng_hàng_không Buôn_Ma_Thuột , cho biết bộ_phận kỹ_thuật đã khắc_phục xong vết bong tróc trên đường_băng và hoạt_động bay đã trở_lại bình_thường .',\n",
              " 'Khoảng 45,8 triệu người trên thế_giới đang phải sống trong cảnh nô_lệ , dưới nhiều hình_thức khác nhau - tăng 28% so với báo_cáo 2 năm trước của Quỹ_Walk_Free – theo báo New_York_Times .',\n",
              " 'Năm 2015 , Jean_Liu - chủ_tịch công_ty Didi_Dache được Fortune bình_chọn là một trong 25 nữ doanh_nhân có ảnh_hưởng nhất tại Trung_Quốc đại_lục .',\n",
              " 'Đầu_tư từ Nhật_Bản vào các quốc_gia Đông_Nam_Á như Việt_Nam , Thái_Lan , Singapore và Myanmar tiếp_tục tăng_trưởng . Ngược_lại , sự hấp_dẫn của Trung_Quốc dần mờ_nhạt trong mắt giới doanh_nghiệp Nhật .',\n",
              " 'Ngày 27-5 , TAND TP. HCM đã xét_xử lưu_động tại Trường tiểu_học An_Phong , phường 7 , quận 8 và tuyên_phạt Nguyễn_Văn_Bông ( 32 tuổi , ngụ quận 12 ) mức án chung_thân về tội “ giết người ” .',\n",
              " 'Tập_đoàn hàng_không hàng_đầu Nhật_Bản ANA Holdings Inc. ( Tập_đoàn ANA ) đã chính_thức trở_thành nhà_đầu_tư chiến_lược của Tổng_công_ty hàng_không Việt_Nam ( Vietnam_Airlines ) .',\n",
              " 'Chiến_thắng 2-0 trước Syria , ĐT Việt_Nam đã có được phần_thưởng là việc tăng 12 bậc trên BXH FIFA .',\n",
              " 'Bộ GD & ĐT quy_định , không thu lệ_phí phúc_khảo đối_với các thí_sinh dự thi kỳ thi THPT Quốc_gia năm 2016 .',\n",
              " 'Sau khi dự_án bò của Hoàng_Anh Gia_Lai bị UBND tỉnh Kon_Tum thu_hồi , UBND tỉnh Gia_Lai lại vừa có quyết_định thu_hồi 50,89 ha đất trồng tiêu của Hoàng_Anh Gia_Lai .',\n",
              " '“ Mẹ rồng ” Emilia_Clarke mới_đây đã “ bật_mí ” tuyệt_chiêu giúp cô nàng diễn_xuất thật “ ngọt ” trong những cảnh nude trên màn_ảnh .',\n",
              " 'Các đơn_vị nghiệp_vụ Công_an TP. Hồ_Chí_Minh phối_hợp với Công_an quận 2 đang phong_toả hiện_trường bãi đất trống cạnh chung_cư Thạnh_Mỹ_Lợi , nơi người_dân phát_hiện thi_thể một cô gái trong bao_tải để làm rõ nghi_án .',\n",
              " 'Cảnh_sát Đức vừa bắt_giữ các nghi phạm trong vụ tấn_công tình_dục 18 phụ_nữ Đức .',\n",
              " 'Cơ_quan_chức_năng TP Cần_Thơ xác_định , đại_gia thuỷ_sản Tòng \" Thiên_Mã \" nợ hơn 891 tỉ đồng và khó có_thể cứu_vãn được công_ty này .',\n",
              " 'Mẫu xe côn tay 150 phân_khối mà Honda lắp_ráp sẽ bán ra thị_trường Việt từ tháng 6 tới .',\n",
              " 'Chiều 20/5 , Paul_Blackthorne – nam diễn_viên , nhà_sản_xuất phim Hollywood đã có buổi giao_lưu cùng hơn 500 sinh_viên Đại_học Thăng_Long , Hà_Nội về vấn_đề bảo_tồn tê_giác .',\n",
              " 'Cơ_quan điều_tra đã xác_định xác người phụ_nữ trong bao_tải là bà Hương ( 42 tuổi , ngụ quận 2 ) . Người_nhà nạn_nhân cho biết chiều_qua chị đi làm móng tay rồi mất liên_lạc .',\n",
              " 'Cơ_quan thẩm_quyền EU đã có văn_bản cảnh_báo số 16-814 tới các nước thành_viên EU về việc cá chết bất_thường tại Việt_Nam và đề_nghị các nước kiểm_soát chặt_chẽ các lô hàng thuỷ_sản biển nhập_khẩu từ Việt_Nam . Hiệp_hội chế_biến xuất_khẩu thuỷ_sản Việt_Nam ( Vasep ) khẳng_định , sản_phẩm hải_sản xuất_khẩu vẫn đảm_bảo chất_lượng ổn_định',\n",
              " 'Hôm_qua ( 20/5 ) , nam diễn_viên , nhà_sản_xuất phim Hollywood_Paul_Blackthorne đã có buổi giao_lưu cùng hơn 500 sinh_viên trường Đại_học Thăng_Long ( Hà_Nội ) về vấn_đề bảo_tồn tê_giác . Đây là sự_kiện mở_màn chiến_dịch “ Việt_Nam ơi , bảo_vệ tê_giác ! ” kéo_dài hai tuần , do diễn_viên Paul , Trung_tâm Giáo_dục Thiên_nhiên ( ENV ) và Tổ_chức Bảo_vệ Tê_giác Thế_giới ( SRI ) cùng phối_hợp thực_hiện nhằm nâng cao nhận_thức cộng_đồng và giảm_thiểu nhu_cầu tiêu_thụ sừng tê_giác tại Việt_Nam .',\n",
              " 'Tại Hải_Phòng , đối_tượng Tráng_Láo_Tú trú tại xã Lóng_Sập , huyện Mộc_Châu , tỉnh Sơn_La vừa bị bắt quả_tang về hành_vi vận_chuyển 2 bánh heroin . Đây là mắt_xích quan_trọng trong đường_dây vận_chuyển mua_bán ma_tuý liên tỉnh với số_lượng lớn .',\n",
              " 'Sự_việc xảy ra tại xã Đông_Tiến ( Yên_Phong , Bắc_Ninh ) , ngoài ông Thuỷ , bốn nạn_nhân còn lại đều ở độ tuổi vị_thành_niên hoặc thiếu_niên , trong đó hai em 16 tuổi , một em 15 tuổi và một em 12 tuổi , có hai nạn_nhân là cậu cháu ruột .',\n",
              " 'Sau khi đại gia thủy sản Phan Bá Tòng bị bắt , tổ công tác do UBND TP Cần Thơ lập để giải quyết vụ việc của công_ty Thiên Mã đã xác định công_ty còn nợ như trên .',\n",
              " 'Từ cuối tháng 5 , những người có nhu_cầu đăng_ký giấy_phép lái_xe quốc_tế có_thể đăng_ký qua mạng và nhận giấy_phép tại nhà .',\n",
              " 'Cùng với Nagasaki , Hiroshima là một trong hai thành_phố tại Nhật_Bản bị quân_đội Mỹ ném bom_nguyên_tử ...',\n",
              " 'Sáng 19-5 , tại Trung_tâm Pháp_y TP Đà_Nẵng , tập_thể giảng_viên , sinh_viên khoa y_dược Đại_học Đà_Nẵng đã tổ_chức lễ tri_ân người hiến tặng thi_hài ( Macchabée ) trong không_khí trang_nghiêm và xúc_động .',\n",
              " 'Đây là một trong những quy_định về việc lắp_đặt , quản_lý , sử_dụng hộp_thư tập_trung , hệ_thống cáp viễn_thông , hệ_thống phủ_sóng trong các toà nhà cao_tầng có nhiều chủ sử_dụng , vừa được UBND TP Hà_Nội ban_hành .',\n",
              " 'Có_lẽ , những sân_chơi lớn với ĐTQG không có duyên với Marco_Reus khi anh lại phải đón_nhận tin dữ .',\n",
              " 'Dịp_Quốc_tế thiếu_nhi là một lý_do thời_sự để ca_sĩ Đức Tuấn tung ra đĩa đơn ( single ) online với liên khúc gồm ba sáng_tác của nhạc_sĩ Trịnh_Công_Sơn dành cho thiếu_nhi .',\n",
              " 'Ký nhiều hợp đồng , giấy tờ khống gây thất thoát cho nhà nước hơn 69 tỉ đồng , nguyên tổng giám đốc Trần Cảnh Lạc đã phải nhận bản án về tội cố ý làm trái .',\n",
              " 'EU vừa thông_báo , các cơ_sở chế_biến thuỷ_sản của Việt_Nam sẽ bị EU đưa ra khỏi danh_sách các cơ_sở chế_biến thuỷ_sản được phép xuất_khẩu vào thị_trường này trong trường_hợp có lô hàng thuỷ_sản xuất_khẩu bị cảnh_báo hoá_chất kháng_sinh cấm .',\n",
              " 'Số_phận đã không mỉm cười với Kaka khi tiền_vệ điển_trai này bất_đắc_dĩ phải chia_tay ĐT Brazil ngay trước thềm Copa_America 2016 .',\n",
              " 'Hiện_nay , phần vốn nhà_nước tại hai ngân_hàng VietinBank và BIDV lần_lượt là 64,46% và hơn 95% .',\n",
              " '14 trẻ_em đã bị_thương sau khi bị một con chó hung_dữ tấn_công vào chiều 18/5 tại công_viên Northumberland , Anh .',\n",
              " 'Trong chiều 23-5 ( giờ VN ) , hai thành_phố biển của Syria là Jableh và Tartus đã hứng_chịu tổng_cộng 7 đợt đánh bom , làm ít_nhất 100 người thiệt_mạng và nhiều người khác bị_thương .',\n",
              " 'Sau Mitsubishi , đến lượt hãng Suzuki_Nhật_Bản thừa_nhận gian_lận lượng nhiên_liệu tiêu_thụ của xe .',\n",
              " 'Gia_đình của sáu thành_viên phi_hành_đoàn trên chuyến bay số_hiệu MH17 thuộc hãng hàng_không Malaysia Airlines gặp nạn gần 2 năm trước ở miền đông Ukraine mới_đây đã nộp đơn kiện hãng hàng_không này .',\n",
              " 'Đi tập_thể_dục buổi sáng , người_dân khu_vực cầu Cứng , phường Phương_Lâm , TP Hoà_Bình , tỉnh Hoà_Bình , phát_hiện một nam thanh_niên đã chết liền báo cơ_quan công_an .',\n",
              " '38 ngày , Trần Nguyễn_An_Khương đã mải_miết đạp xe từ Cà_Mau ra Hà_Nội hơn 2.000 km để xin hiến một phần cơ_thể mình . 28 tuổi , Trần Nguyễn_An_Khương ( Tân_Lộc , Bình_Thới , Cà_Mau ) nặng chỉ vẻn_vẹn 37kg , cao chưa đầy 150cm .',\n",
              " 'Sau 6 ngày mất_tích trong rừng , cậu bé Yamato_Tanooka , Nhật_Bản đã được tìm thấy vẫn còn sống và không có thương_tật nghiêm_trọng .',\n",
              " 'Một tàu cá của ngư_dân Khánh_Hoà câu được một con cá_ngừ vây xanh được cho cực hiếm , nặng hơn bốn tạ nhưng không bán được vì cá đã bị hỏng .',\n",
              " 'Trong báo_cáo tình_hình thị_trường bất_động_sản Phú_Quốc quý 1.2016 , Savills Việt_Nam cho biết , hầu_hết người mua bất_động_sản Phú_Quốc đến từ Hà_Nội , chiếm khoảng 80% , tiếp_theo là người mua Tp. HCM với khoảng 15% . Những người mua bất_động_sản nghỉ_dưỡng ở Phú_Quốc chủ_yếu là mua để đầu_tư hoặc nghỉ_dưỡng .',\n",
              " 'Chiều nay ( 2-6 ) , nhà_xe Khánh_Đơn ( huyện Nghi_Lộc , Nghệ_An ) đang đưa xe và đồ khâm_liệm sang Lào để đưa thi_thể 8 nạn_nhân bị tử_vong trong vụ nổ xe_khách ở Lào về quê nhà Nghệ_An .',\n",
              " 'Khoảng 17h30 ngày 31/5 , tại nút giao_thông Xã Đàn ( Đống_Đa – Hà_Nội ) một chiếc ô_tô 7 chỗ hiệu Toyota Fortuner mất lái đã đâm hàng_loạt xe_máy .',\n",
              " 'Ca_sỹ Đức Tuấn vừa phát_hành single và MV phòng thu liên khúc thiếu_nhi nhằm chúc_mừng ngày 1/6 và kỉ_niệm 15 năm ngày mất của cố nhạc_sỹ Trịnh_Công_Sơn',\n",
              " 'Jean_Liu , 38 tuổi , là chủ_tịch của công_ty dịch_vụ gọi taxi Didi_Chuxing , là người khiến CEO Apple đầu_tư 1 tỉ USD chỉ sau 1 câu nói đùa và khiến đối_thủ lớn nhất của Didi là Uber lâm vào cảnh khó_khăn tại Trung_Quốc .',\n",
              " 'Thấy vợ bị giật mất chiếc bóp , người đàn_ông quốc_tịch Marốc liền đuổi theo thì bị kẻ_cướp dùng vật nhọn chống_trả rồi cùng đồng_bọn tẩu_thoát .',\n",
              " 'Hôm_nay , Liên_đoàn bóng_đá thế_giới đã công_bố BXH FIFA tháng 6/2016. Theo đó ĐT Việt_Nam đã bất_ngờ tăng đến 12 bậc để vọt lên vị_trí 133 thế_giới .',\n",
              " 'Chân sút chuẩn_bị cập bến MU , mặt tươi_rói , cưỡi siêu xe Porsche 918 Spyder có giá triệu đô đến trại_tập_trung tuyển Thuỵ_Điển , chuẩn_bị cho EURO 2016 .',\n",
              " 'Dự_án Khu trung_tâm Thương_mại , Dịch_vụ , Khách_sạn , Nhà_hàng và Tổ_chức sự_kiện Hoa_Sen_Yên_Bái ( Khu trung_tâm Thương_mại , Khách_sạn Hoa_Sen_Yên_Bái ) của Tập_đoàn Hoa_Sen vừa được khởi_công tại TP. Yên_Bái với quy_mô dự_kiến 1.200 tỷ đồng .',\n",
              " 'Ngày 1.6 , thông_tin một vụ va_chạm trong giao_thông xảy ra trước cổng Bộ Y_tế lan_truyền trên mạng xã_hội . Một cán_bộ được cho là đang công_tác tại Bộ Y_tế , được cho là đang say rượu , đã có hành_vi thiếu văn_hoá khi xúc_phạm , chỉ thẳng_tay vào người phụ_nữ đối_diện , thậm_chí mắng_mỏ chiến_sĩ công_an phường đang làm nhiệm_vụ .',\n",
              " '\" Mục_đích là cuộc bầu_cử , tất_cả chỉ có vậy . Một loại tuyên_truyền hay quảng_bá . Vô_nghĩa và không có sự chân_thành \" - đại_sứ Triều_Tiên tại LHQ So_Se_Pyong nói .',\n",
              " 'Bộ ảnh chụp cho tạp_chí Marie_Claire trước thềm đám_cưới của cặp đôi Goo_Hye_Sun - Ahn_Jae_Hyun nhận được sự yêu_mến của công_chúng .',\n",
              " 'Ngày 31-5 ( giờ Uzbekistan ) , Lê_Quang_Liêm ( Elo 2718 ) đã đánh_bại kỳ_thủ Ấn_Độ Sethuraman_Panayappan ( Elo 2647 ) ở ván thứ 6 để giành lại ngôi đầu_bảng nam của Giải cờ_vua vô_địch cá_nhân châu_Á 2016 tại Uzbekistan .',\n",
              " \"Vào sáng nay ( 21/5 ) , mỹ_nữ ' Vườn sao_băng ' Goo_Hye_Sun đã chính_thức tổ_chức hôn_lễ . Mỹ_nữ ' Vườn sao_băng ' không diện váy cưới và tổ_chức tiệc như các cặp đôi khác .\",\n",
              " 'Latest đưa tin , một người đàn_ông Mỹ được đăng tới 2 bản cáo_phó trên một tờ báo địa_phương , vì vợ và nhân_tình của ông không ai muốn chịu_thua thiệt .',\n",
              " 'Ngày 16/05/2016 Đất Xanh_Miền_Bắc ra_mắt dự_án Căn_hộ PHUMY Complex nằm trong Quần_thể Khu đô_thị Đoàn_Ngoại_Giao . Với vị_trí đắc_địa , thiết_kế nội_thất đẳng_cấp , dự_án đã thu_hút sự quan_tâm lớn của khách_hàng .',\n",
              " 'Đạo_diễn Đức_Thịnh , một trong các huấn_luyện_viên của Đấu_trường tiếu_lâm đã chia_sẻ xung_quanh những ý_kiến trái chiều của khán_giả về việc kịch_bản trong vòng hai của chương_trình đa_phần đều không hấp_dẫn .',\n",
              " 'Tàu Lowlands_Sky tải_trọng 32.200 DWT , dài 177 mét chở 21.000 tấn than_đá nhập_khẩu từ Indonesia vừa cập cảng Gò_Dầu ( xã Phước_Thái , huyện Long_Thành , Đồng_Nai ) an_toàn .',\n",
              " 'Ban lãnh_đạo nhóm cực_đoan Taliban ở Afghanistan đã xác_nhận cái chết của thủ_lĩnh tối_cao Mullah_Akhtar_Mohammad_Mansour do một cuộc tấn_công bằng máy_bay không người lái của quân_đội Mỹ .',\n",
              " 'Trong khi Triều_Tiên lên_tiếng đề_nghị đối_thoại quân_sự thì Hàn_Quốc đã kiên_quyết lập_trường từ_chối nguyện_vọng này .',\n",
              " 'Cuộc khẩu_chiến giữa Nga và Ba_Lan chưa có dấu_hiệu lắng xuống sau khi Tổng_thống Nga Vladimir_Putin cảnh_báo đặt quốc_gia thành_viên NATO này trong tầm ngắm tên_lửa . Bộ_trưởng Quốc_phòng Ba_Lan hôm_qua đã kịch_bản chỉ cần dùng 1 tiểu_đoàn để “ cầm_chân ” Nga nếu xảy ra một cuộc tấn_công .',\n",
              " 'Trên trang cá_nhân , Hoa_hậu Kỳ_Duyên không ngần_ngại chia_sẻ hình_ảnh về bạn trai của mình khiến nhiều người thích_thú .',\n",
              " 'Được bạn cho 500.000 đồng và nhờ cất giúp heroin , Hải_đồng ý và đem ma_tuý về giấu trong bụi chuối . Sợ bị phát_hiện , Hải đem đi nơi khác giấu thì bị bắt_giữ .',\n",
              " 'Sáng 3-6 , Hội_đồng chung_khảo Giải Báo_chí quốc_gia lần thứ 10 - năm 2015 bắt_đầu làm_việc tại Hà_Nội . Theo chương_trình , Hội_đồng sẽ làm_việc liên_tục hai ngày 3 và 4-6 để chấm chọn ra các tác_phẩm đạt giải thuộc 11 loại giải khác nhau .',\n",
              " 'Tỷ_phú Mikhail_Fridman – được tạp_chí Forbes của Nga bầu_chọn là người giàu thứ hai nước này với tổng giá_trị tài_sản lên tới 13,3 tỉ USD , đã quyết_định di_chúc toàn_bộ tài_sản làm từ_thiện .',\n",
              " '“ Đến nay các nhà_khoa_học đã xác_định được nguyên_nhân cá chết . Thủ_tướng đã giao các cơ_quan_chức_năng mời tư_vấn trong và ngoài nước để phản_biện độc_lập , hay nói cách khác là trước khi kết_luận chính_thức \" - Bộ_trưởng , Chủ_nhiệm VPCP Mai_Tiến_Dũng nói .',\n",
              " 'Đây là một phần nằm trong chiến_dịch vận_động tài_trợ mới nhất của Uber và được coi là \" khoản đầu_tư lớn nhất được cung_cấp cho một công_ty đại_chúng \" .',\n",
              " 'Xúc_xích Vietfoods được âm_thầm \" minh_oan \" , theo luật_sư , doanh_nghiệp phải lên_tiếng mạnh_mẽ để được đối_xử công_bằng .',\n",
              " 'Hình_ảnh \" khoá môi \" của cả hai càng khiến fan tin cặp đôi đã sẵn_sàng công_khai chuyện tình_cảm .',\n",
              " '24 giờ sau khi bị bắt_cóc , Alan_Pulido , tiền_đạo từng cùng ĐT Mexico dự World_Cup 2014 và đang thuộc biên_chế Olympiakos , đã thoát hiểm khó tin . Chân sút 25 tuổi này có màn tự giải_cứu ly_kỳ và ngoạn_mục như trong phim trước khi được cảnh_sát giải_thoát an_toàn .',\n",
              " 'Trong lúc đi tập_thể_dục buổi sáng , người_dân hoảng_hốt phát_hiện thi_thể một quân_nhân bê_bết máu nằm bên vệ đường nên đã nhanh_chóng trình_báo cơ_quan_chức_năng .',\n",
              " 'Khu trung_tâm thương_mại , khách_sạn 4 sao đầu_tiên của Tập_đoàn Hoa_Sen được xây_dựng tại tỉnh Yên_Bái với lối kiến_trúc “ bậc thang ” độc_đáo , lấy cảm_hứng từ hình_ảnh cánh đồng_ruộng bậc thang Mù_Cang_Chải - một danh_thắng quốc_gia nổi_tiếng , hứa_hẹn sẽ là “ đòn_bẩy ” du_lịch cho tỉnh này .',\n",
              " 'Mừng ngày Quốc_tế Thiếu_nhi 1-6 , ca_sĩ Đức Tuấn đã phát_hành album đơn và MV phòng thu liên khúc gồm ba ca_khúc thiếu_nhi của cố nhạc_sĩ Trịnh_Công_Sơn .',\n",
              " 'Vậy là ước mớ một đám_cưới cổ_tích của \" công_chúa nhạc_đồng_quê \" Taylor_Swift coi như đã chấm_dứt khi cuộc tình giữa cô và DJ giàu_có nổi_tiếng nhất thế_giới Calvin_Harris đã kết_thúc sau 15 tháng mặn_nồng .',\n",
              " 'Một thiếu_niên Trung_Quốc bị bắt vì đi lậu máy_bay sang Dubai , Các tiểu vương_quốc Arab_Thống nhất , vì nghe nói có_thể kiếm bộn tiền chỉ bằng việc ăn_xin tại đây .',\n",
              " 'Trong lúc đạp xe đi dạo quanh quảng_trường biển Tam_Thanh , C vướng vào đường dây_điện dân_sinh cũ của nhà_hàng Ba Cơ và bị điện giật tử_vong .',\n",
              " 'Một quan_chức cấp cao của Triều_Tiên cho rằng lời đề_nghị gặp_mặt nhà_lãnh_đạo Kim Jong-un của tỉ_phú Mỹ Donald_Trump “ không có ý_nghĩa , không có sự chân_thành ” .',\n",
              " 'Nhã_Phương chia_sẻ , trong phần 2 \" Tuổi thanh_xuân \" , cặp đôi Linh - Junsu gặp nhiều sóng_gió và Linh sẽ phải mạnh_mẽ đối_diện với những khó_khăn đó .',\n",
              " '25 tấn hoá_chất zeolite dùng trong nuôi_trồng thuỷ_sản được rải xuống kênh Nhiêu_Lộc - Thị_Nghè nhằm ngăn tình_trạng cá chết tiếp_tục .',\n",
              " 'Qua hơn 1 tháng xảy ra vụ án giết người bằng súng tại thành_phố Phủ_Lý , tỉnh Hà_Nam , dưới sự chỉ_đạo của lãnh_đạo Bộ Công_an đã làm rõ vụ giết anh Lê_Hữu_Trí , sinh năm 1975 xảy ra vào ngày 4/7 , bắt khẩn_cấp 3 đối_tượng .',\n",
              " '38 tuổi , là con gái của nhà_sáng_lập Lenovo , Jean_Liu là người có công lớn trong việc thu_hút được 1 tỉ USD tiền vốn đầu_tư từ Apple về cho Didi_Chuxing tại thị_trường Trung_Quốc .',\n",
              " 'Vingroup hỗ_trợ 240 doanh_nghiệp đưa hàng vào siêu_thị , trong đó miễn chiết_khấu một năm cho 140 doanh_nghiệp thực_phẩm .',\n",
              " 'Uber vừa có thêm 3,5 tỉ USD từ quỹ đầu_tư Ả_Rập_Xê_Út , qua đó cho thấy công_ty đã có được đối_tác quan_trọng để rộng đường đẩy_mạnh thị_trường Trung_Đông .',\n",
              " 'Hôm 1/6 , Thị_trưởng Tokyo ông Yoichi_Masuzoen phải cúi đầu xin_lỗi trước người_dân về lối sống xa_hoa , phung_phí của mình .',\n",
              " 'Ông Nguyễn_Xuân_Trường - Chánh Văn_phòng Bộ Y_tế đã ký thông_báo về việc kỷ_luật cán_bộ , công_chức đối_với ông Đỗ_Trường_Duy - cán_bộ Văn_phòng Bộ Y_tế vì có hành_động say rượu , xúc_phạm dân .',\n",
              " 'Tờ The_Washington_Post ngày 27/5 đưa tin cho biết , một người dì của nhà_lãnh_đạo Triều_Tiên Kim_Jong_Un đã sống ẩn_dật tại Mỹ trong gần 20 năm qua .',\n",
              " 'Hậu_vệ Trương_Đình_Luật của B.Bình Dương sẽ bị đình_chỉ thi_đấu 3 trận ở V.League cùng số tiền phạt 15 triệu đồng do có hành_vi phạm lỗi thô_bạo với cầu_thủ Felix bên phía QNK Quảng_Nam .',\n",
              " 'Qua công_tác nghiệp_vụ , Phòng Cảnh_sát điều_tra tội_phạm về ma_tuý ( Công_an tỉnh Lạng_Sơn ) đã xác_lập chuyên_án để đấu_tranh triệt_phá đường_dây ma_tuý với số_lượng lớn từ Trung_Quốc về Việt_Nam . Đặc_biệt , đối_tượng cầm_đầu lại là phụ_nữ , vô_cùng gian_manh .',\n",
              " 'Những ngày này , chuyện phổ_biến sau các buổi họp phụ_huynh ở trường tiểu_học là “ con được ghi gì trên giấy khen ? ” .',\n",
              " 'Theo nhiều nguồn tin , đã có 18 phụ_nữ bị tấn_công tình_dục tại liên_hoan âm_nhạc Schlossgrabenfest diễn ra ở Darmstadt ( Đức ) hồi cuối tuần qua . Thực_tế là tình_trạng quấy_rối và tấn_công tình_dục đang trở_thành một vấn_nạn tại các liên_hoan âm_nhạc trên thế_giới .',\n",
              " 'Lợi_dụng lúc kẻ bắt_cóc lơ_đễnh , Alan_Pulido quật ngã tên canh_chừng mình , đoạt lấy điện_thoại_di_động và gọi tới số khẩn_cấp để cầu_cứu .',\n",
              " 'Cầu_thủ FLC Thanh_Hoá đã nhận được liều “ doping ” lớn trước trận gặp Hải_Phòng khi lãnh_đạo đội bóng treo thưởng 1 tỷ đồng cho chiến_thắng ở trận đấu này .',\n",
              " 'Ông Hồ_Sỹ_Nam , trưởng đại_diện Cảng_vụ hàng không miền Bắc tại Cảng_hàng_không Vinh cho biết đang kiểm_tra chuyến bay của hãng nào làm tốc mái nhà dân để có phương_án giải_quyết .',\n",
              " '70 năm sau cuộc chiến_tranh , những kẻ cựu thù hay đã trở_thành bạn_bè , đồng_minh , chúng_ta chia_sẻ với nhau nhiều giá_trị và ràng_buộc với nhau bởi niềm tin và tình hữu_nghị sâu_sắc giữa 2 đất_nước . Liên_minh Nhật - Mỹ đã trở_thành liên_minh hy_vọng cho thế_giới này .',\n",
              " 'Chiếc xe siêu sang hiệu Bentley đang dừng chờ đèn_đỏ trên đại_lộ Nguyễn_Văn_Linh ( quận 7 , TPHCM ) thì bất_ngờ bị xe container tông mạnh từ phía sau gây hư_hỏng nặng .',\n",
              " '\\' Liễu_yếu_đào_tơ \" không_thể chống_đỡ lại kẻ côn_đồ có hung_khí trong tay , H. đành thúc_thủ để đốn_mạt dày vò thân_xác .',\n",
              " 'Diva_Hồng_Nhung cho rằng Mỹ Linh là một tài_năng đủ lớn , sống vượt qua thị_phi bên ngoài để làm tốt nhất vai_trò là người nghệ_sĩ có tâm và có tầm .',\n",
              " 'Vượt qua các đối_thủ tối 1/6 , Stan_Wawrinka đại_chiến Andy_Murray ở bán_kết giải quần_vợt Roland_Garros .',\n",
              " 'Mỹ vừa tăng thuế nhập_khẩu đối_với sản_phẩm thép tấm cán nguội nhập_khẩu từ Trung_Quốc lên hơn gấp 5 lần , sau khi cáo_buộc nước này bán sản_phẩm dưới giá thị_trường , hãng tin BBC cho_hay .',\n",
              " 'Yanbi ngồi xe_lăn hát trên sân_khấu . Trong tập 4 vòng Hội_ngộ X-Factor vừa lên sóng tối_qua ( 24/4 ) , rất nhiều khán_giả đã bất_ngờ khi nhìn thấy Yanbi đi thi với vai_trò là một thành_viên của nhóm nhạc mang tên FOE .',\n",
              " 'UBND TP Hải_Phòng đang yêu_cầu Sở xây_dựng kiểm_điểm , xem_xét lại việc ông Đỗ_Trọng Đạt - Giám_đốc Sở Xây_dựng đã ký quyết_định bổ_nhiệm cho con trai giữ chức phó trưởng phòng không đúng quy_định .',\n",
              " 'Theo quy_hoạch vừa được Thủ_tướng phê_duyệt , sân_bay Nội_Bài sẽ được mở_rộng ( sân_bay Nội_Bài 2 ) theo hướng đối_diện với sân_bay hiện_nay .',\n",
              " 'Tài_xế xe container thắng gấp để tránh một người đi xe_máy . Cuộn sắt hàng chục tấn đổ_dồn phía trước , đè nát cabin , rớt xuống_đường . May_mắn là không có ai bị_thương .',\n",
              " 'Doanh_nghiệp muốn bỏ vốn lập dự_án đầu_tư công_viên , trung_tâm thương_mại , bãi đậu xe ngầm … kết_nối bến du_lịch khu_vực công_viên Bạch_Đằng ( sông Sài_Gòn ) .',\n",
              " 'Sáng 29/5 , ông Lương_Trường_Sơn - Trưởng CA xã Mường_Noọc , huyện Quế_Phong ( Nghệ_An ) cho biết , khi cơ_quan điều_tra đang tiến_hành bao_vây và kêu_gọi đầu_thú thì nghi can vụ án Vi_Văn_Thắng đã dùng dao cứa_cổ tự_sát nhưng bất_thành .',\n",
              " 'Hòng thoát tội vận_chuyển ngà_voi , đối_tượng đã có hành_vi đút_lót tiền cho CSGT nhưng bất_thành .',\n",
              " 'Cho rằng chủ nhà dùng chiêu trò đuổi mình đi mà không phải đền_bù hợp_đồng , Diệu_Hân khởi_kiện yêu_cầu bồi_thường 270 triệu đồng . Trong khi đó , chủ nhà có đơn tố ngược_lại .',\n",
              " 'Ngày 20-5 , Truyền_hình_cáp VN ( VTVcab ) , cho biết đơn_vị này chính_thức sở_hữu bản_quyền phát_sóng Giải bóng_đá Copa_America 2016 tại VN .',\n",
              " 'CLB vô_địch Scotland vừa ký hợp_đồng với Brendan_Rodgers , HLV phải nhường ghế cho Klopp tại Anfield từ hồi tháng 10/2015.',\n",
              " 'Trộm đột_nhập vào nhà của 1 đại_biểu HĐND TP. HCM để lấy trộm đi két sắt có chứa tài_sản có giá_trị lớn .',\n",
              " 'Sở Giáo_dục và Đào_tạo TP HCM vẫn chưa công_nhận HĐQT mới của Đại_học Hoa_Sen được bầu tại Đại_hội cổ_đông bất_thường hai năm trước .',\n",
              " 'Từ ngày 1/6 , Vietnam_Airlines sẽ có Chủ_tịch Hội_đồng_quản_trị và Tổng_giám_đốc mới .',\n",
              " 'Cục Quản_lý Cạnh_tranh ( Bộ Công_Thương ) cho biết , vừa_qua , một_số doanh_nghiệp kinh_doanh hoạt_động bán hàng đa_cấp trên địa_bàn một_số tỉnh , thành_phố trực_thuộc trung_ương nhưng chưa thực_hiện thủ_tục đăng_ký cấp giấy chứng_nhận hoạt_động bán hàng đa_cấp với cơ_quan có thẩm_quyền . Các doanh_nghiệp vi_phạm quy_định này đã bị các cơ_quan_chức_năng phát_hiện và xử_lý .',\n",
              " 'Bộ Giáo_dục & Đào_tạo ( GD & ĐT ) đã có các văn_bản hướng_dẫn định_mức chi cho Kỳ thi THPT quốc_gia năm 2016 .',\n",
              " 'Trong lúc đạp xe chơi ở công_viên , em Nguyễn_Thành_Công ( 11 tuổi , Quảng_Nam ) tử_vong thương_tâm khi bị điện giật .',\n",
              " 'Sáng 3.6 , tại thị_xã Cửa_Lò , UBND tỉnh Nghệ_An tổ_chức lễ khai_mạc triển_lãm bản_đồ và trưng_bày tư_liệu “ Hoàng_Sa , Trường_Sa của Việt_Nam - Những bằng_chứng lịch_sử và pháp_lý ” , khai_mạc Tuần_lễ Biển và Hải_đảo Việt_Nam , các hoạt_động nhân Ngày Môi_trường Thê giới , Ngày Đại_dương Thế_giới .',\n",
              " 'Bộ Giáo_dục và Đào_tạo quy_định , không thu lệ_phí phúc_khảo đối_với các thí_sinh dự thi kỳ thi THPT Quốc_gia .',\n",
              " 'Một đường_dây mua_bán , vận_chuyển trót_lọt 30kg ma_tuý đá từ Trung_Quốc về Việt_Nam vừa bị Phòng Cảnh_sát điều_tra tội_phạm về ma_tuý , Công_an tỉnh Lạng_Sơn triệt_phá .',\n",
              " 'Tờ Telegraph của Anh vừa bình_chọn Hà_Nội đứng đầu Top 16 thành_phố có nền ẩm_thực tuyệt_vời , hấp_dẫn nhất thế_giới .',\n",
              " 'Hãng hàng_không thế_hệ mới VietJet cho biết , ngày 23-5 , tại Phủ Chủ_tịch , Vietjet và Tập_đoàn chế_tạo máy_bay Boeing ( Mỹ ) đã ký_kết hợp_đồng đặt mua 100 máy_bay B737 MAX 200 , trị_giá 11,3 tỷ USD .',\n",
              " 'Chiều 23-5 , Đoàn công_tác Trung_ương do đồng_chí Đinh_Thế_Huynh , Uỷ_viên Bộ_Chính_trị , Thường_trực Ban_Bí_thư , làm Trưởng_đoàn , làm_việc với Ban Thường_vụ Tỉnh_uỷ Đác_Lắc về tình_hình triển_khai , tổ_chức thực_hiện Nghị_quyết Đại_hội lần thứ XII của Đảng và Nghị_quyết Đại_hội Đảng_bộ tỉnh lần thứ 16 . Cùng dự , có đại_diện Ban Tổ_chức T.Ư , Văn_phòng T.Ư , Ban Chỉ_đạo Tây_Nguyên , …',\n",
              " 'Tin_tức từ Tây_Ban_Nha cho_hay , đội bóng Hoàng_gia Real_Madrid đã đạt được thoả_thuận cá_nhân với “ sát_thủ ” Robert_Lewandowski và dự_kiến sẽ sớm đón cầu_thủ này tới sân Bernabeu .',\n",
              " 'Khi một doanh_nhân Venezuela mở nhà_máy ở miền Tây nước này hai thập_kỷ trước , ông không bao_giờ tưởng_tượng một ngày nào đó mình sẽ phải đối_mặt với án tù chỉ vì những cuộn giấy_vệ_sinh trong nhà_vệ_sinh của công_ty . Nhưng giờ_đây tại Venezuela , những thứ khó tưởng_tượng hôm_qua đều có_thể trở_thành bình_thường hôm_nay .',\n",
              " 'Đó là quyết_định mà Bộ Y_tế thực_hiện với ông Phó Chánh văn_phòng Bộ do say rượu , xúc_phạm người_dân trong giờ làm_việc . Hình_thức kỷ_luật là khiển_trách cán_bộ này trước toàn cán_bộ công_nhân_viên .',\n",
              " 'Nhà của ông Trương_Văn_Hiền , đại_biểu HĐND TP. HCM khoá IX , vừa bị trộm viếng lấy đi tài_sản “ khủng ” .',\n",
              " 'Hàng_loạt các vụ nổ đã xảy ra tại một căn_cứ_quân_sự của Mỹ ở thành_phố Chilgok , miền đông nam Hàn_Quốc hôm_nay ( 19/5 ) .',\n",
              " 'Hãng hàng_không VietJet_Air ký hợp_đồng mua 100 máy_bay Boeing 737 MAX 200 trong hôm_nay 23.5 , giữa lúc Tổng_thống Mỹ Barack_Obama thăm Việt_Nam .',\n",
              " 'Thiếu_tá Trần_Văn_Hùng , Phó Trưởng Công_an huyện Thanh_Chương cho biết : “ Công_an huyện đang khẩn_trương điều_tra làm rõ , truy bắt những đối_tượng chém đứt tay ông Lộc ” .',\n",
              " 'Nhà_máy thuỷ_điện Đrăng_Phốk vận_hành sẽ ảnh_hưởng trực_tiếp đến sinh cảnh sống của các loài động_vật hoang_dã , thúc_đẩy hoạt_động vận_chuyển gỗ trái_phép bằng đường_thuỷ .',\n",
              " 'Đang vén bao_tải để nhặt ve_chai người này hoảng_hồn khi phát_hiện bên trong là thi_thể một người phụ_nữ .',\n",
              " 'Cảnh_sát Brazil đang truy_tìm 30 người đàn_ông bị tình_nghi tham_gia vụ cưỡng_bức tập_thể một cô gái 16 tuổi .',\n",
              " 'Ông Perfecto_Yasay , người sắp trở_thành ngoại_trưởng Philippines nói rằng Manila sẽ không xa_rời đồng_minh Mỹ , nhưng cũng sẽ không khúm_núm trước bất_kỳ quốc_gia nào .',\n",
              " 'Chủ_tịch hãng phần_mềm Atlassian khẳng_định rằng ông tin công_ty của mình có_thể tăng_trưởng mà không cần tới bất_kỳ nhân_viên kinh_doanh nào cả .',\n",
              " 'Các tư_liệu , hiện_vật trưng_bày ở triển_lãm diễn ra tại Nghệ_An chứng_minh chủ_quyền của Việt_Nam với quần_đảo Hoàng_Sa , Trường_Sa .',\n",
              " 'Về việc Mỹ Linh hát Quốc_ca trước Tổng_thống Obama , diva Hồng_Nhung cho biết , Mỹ Linh đã hát một_cách nghiêm_túc , thể_hiện tình_yêu đất_nước .',\n",
              " 'Tia sét mạnh đánh trúng vào chòi nơi 6 người đang nấp khiến tất_cả bị_thương . Cách đó , 1 người đàn_ông đang làm_đồng cũng đã bị sét đánh tử_vong .',\n",
              " 'Anh_em ca_sĩ Quang_Hà vừa bị lừa , mất sổ_đỏ căn nhà 4 tỷ đồng vì quá tin vào bạn_bè thân_thiết .',\n",
              " 'Trong một bài phát_biểu hiếm có trên truyền_hình hôm 8/8 , Nhật hoàng Akihito , 82 tuổi , không tuyên_bố rõ rằng ông muốn thoái_vị nhưng đề_nghị mọi người thấu_hiểu .',\n",
              " 'Ngọn lửa bốc lên từ gian bếp của nhà_hàng rồi nhanh_chóng lan sang các khu_vực khác khiến nhiều người hoảng_loạn .',\n",
              " 'Trốn sang Việt_Nam , Kwon_Yonggil tiếp_tục điều_hành trang_web cá_độ trực_tuyến . Nghi phạm chuyên_quản_lý tiền của đường_dây đánh_bạc bị bắt khi xuất_hiện tại Sài_Gòn .',\n",
              " 'Sự_việc xảy ra vào_khoảng 15 giờ 45 chiều 19-5 khiến anh Phạm_Đức_Huy ( 31 tuổi , trú phường Khánh_Xuân , TP Buôn_Ma_Thuột , Đắk_Lắk ) tử_vong .',\n",
              " 'Đang trên đường vận_chuyển hơn nửa tấn ngà_voi đi tiêu_thụ thì lái_xe tên Nguyễn_Quang_Huy bị Tổ tuần_tra kiểm_soát giao_thông của Phòng Cảnh_sát giao_thông Bắc_Giang phát_hiện bắt_giữ . Ngay_lập_tức , Huy gợi_ý hối_lộ tổ công_tác nửa tỷ đồng nhưng CSGT kiên_quyết không nhận và bắt_giữ lô hàng trên .',\n",
              " 'Ngoại_trưởng Trung_Quốc Vương_Nghị ngày 1-6 đã mắng một phóng_viên Canada khi cô này nêu vấn_đề nhân_quyền , yêu_sách chủ_quyền phi_lý của Trung_Quốc ở Biển Đông và vụ một công_dân Canada bị giam_giữ vì cáo_buộc làm gián_điệp , đánh_cắp bí_mật Nhà_nước Trung_Quốc .',\n",
              " 'Đây là dự_án có vốn đầu_tư lớn nhất của Việt_Nam hiện_nay tại quốc_gia này .',\n",
              " 'Bốn người đàn_ông từ Syria bị tình_nghi có liên_quan tới Tổ_chức Nhà_nước Hồi_giáo tự_xưng ( IS ) đã lên kế_hoạch âm_mưu tấn_công khủng_bố tại Đức . Ngày 2/6 , cảnh_sát Đức cho biết họ đã bắt_giữ ba trong số các đối_tượng trên .',\n",
              " 'Cả “ một rừng cổ_động_viên ” đeo khẩu_trang , ngồi xem bóng_đá yên_lặng như đang nghe … nhạc_thính_phòng . Đấy là cảnh_tượng rất lạ ở sân Cẩm_Phả chiều 21/5 .',\n",
              " 'Đầu_tư của Nhật_Bản vào Đông_Nam_Á ngày_càng tăng , do tiềm_năng phát_triển và chi_phí nhân_công rẻ , trong bối_cảnh nước này vẫn căng_thẳng với Trung_Quốc .',\n",
              " 'Cuốn sách “ Madam_Nhu Trần_Lệ Xuân – Quyền_lực bà rồng ” do Công_ty sách Phương_Nam liên_kết với NXB Hội Nhà_văn ấn_hành vào đầu 2016 vừa nhận quyết_định thu_hồi từ Sở T T&T T TP.HCM.',\n",
              " 'Sau khi hiếp_dâm nữ_sinh lớp 11 , tên yêu râu xanh đã chở nạn_nhân ra quốc_lộ và đưa tiền cho cô này bắt taxi về nhà .',\n",
              " 'Iran tuyên_bố không có kế_hoạch tham_gia vào thoả_thuận đóng_băng sản_lượng dầu tại cuộc họp của Tổ_chức OPEC diễn ra vào ngày 2/6 tới .',\n",
              " 'The_Kop đang hoạt_động rất tích_cực trên TTCN khi họ đã có được chữ_ký của tân_binh thứ hai trong mùa hè này .',\n",
              " 'Gã khổng_lồ công_nghệ Apple vừa cho biết đã quyết_định đầu_tư 1 tỷ USD vào công_ty cung_cấp dịch_vụ chia_sẻ ô_tô Didi_Chuxing của Trung_Quốc .',\n",
              " 'Tương_lai của Daniel_Alves đã chính_thức được xác_định . Ngày hôm_qua , Giám_đốc thể_thao của Barcelona , Robert_Fernandez đã lên_tiếng xác_nhận về sự ra đi của hậu_vệ người Brazil .',\n",
              " 'Sau khi nhập_viện cấp_cứu , ông Lộc ( 69 tuổi ) trú huyện Thanh_Chương , Nghệ_An cho rằng bản_thân mình bị chém đứt lìa ngón tay là do liên_quan đến việc chống tiêu_cực .',\n",
              " 'Ngày 1-6 , Đoàn kiểm_tra liên_ngành vệ_sinh an_toàn thực_phẩm TP Vĩnh_Long ( tỉnh Vĩnh_Long ) đã lập biên_bản vi_phạm đối_với 2 cơ_sở sản_xuất , kinh_doanh mắm và dưa mắm ở TP Vĩnh_Long .',\n",
              " 'Có quá nhiều nỗi lo khủng_bố có_thể tấn_công mùa Euro 2016 . Mỹ cảnh_báo đồng_minh Pháp và khuyến_cáo công_dân nước mình cẩn_trọng .',\n",
              " 'Ông Lê_Thành_Huấn , Phó giám_đốc Sở GT-VT tỉnh Cà_Mau có báo_cáo đến Chủ_tịch UBND tỉnh và đề_xuất thành_lập tổ kiểm_tra cầu Ô_Rô , cây cầu vừa thông xe ... đã sập mà Thanh_Niên đã thông_tin .',\n",
              " 'Hơn 100 người đã thiệt_mạng trong 7 vụ nổ bom liên_tiếp tại thị_trấn ven biển Jableh và Tartus , thuộc tỉnh Latakia , Syria , nơi có sự hiện_diện của hai căn_cứ_quân_sự Nga .',\n",
              " 'Trong đêm thi thứ 3 của Tình bolero với chủ_đề Nàng_thơ , Hoa_khôi Nam_Em đã có màn trình_diễn khá tốt ca_khúc Ngày_xưa Hoàng thị và được các giám_khảo khen_ngợi .',\n",
              " 'Từ ngày 6/6 tới đây , việc bán tiền lưu_niệm \" Kỷ_niệm 65 năm thành_lập Ngân_hàng Việt_Nam \" sẽ kết_thúc tại tất_cả các điểm bán .',\n",
              " '10 hộ dân sống trong chung_cư hoang_tàn , xuống_cấp nhất Sài_Gòn được yêu_cầu di_dời đi nơi khác để đảm_bảo an_toàn tính_mạng và tài_sản .',\n",
              " 'Tại thời_điểm kiểm_tra , ông Nguyễn_Trọng_Dư thừa_nhận thu_gom lô lòng heo này từ nhiều ngày trước , sơ_chế bằng muối , phèn_chua , để tủ đông chuẩn_bị giao cho các quán ăn .',\n",
              " 'Hãng CIES_Football_Observatory ( chuyên phân_tích giá cầu_thủ ) vừa đưa ra danh_sách những cầu_thủ đắt_giá nhất thế_giới . Trong đó , đáng chú_ý , ngôi_sao C.Ronaldo đã tụt xuống vị_trí thú 3 .',\n",
              " 'Vào_khoảng 13 giờ ngày 27-5 , tại nhà anh Lê_Văn_Tiến ( SN 1960 , xóm 21 , xã Nghi_Trung , Nghi_Lộc , Nghệ_An ) đã xảy ra vụ_việc , một chuyến máy_bay trong lúc hạ_cánh xuống sân_bay Quốc_tế Vinh đã làm tốc mái nhà dân .',\n",
              " 'Chỉ vì vợ không đồng_ý chi tiền để mua phương_tiện chuyển nghề mà Nguyên đã nhẫn_tâm dùng dao chém chết vợ và truy_sát luôn cả mẹ_vợ .',\n",
              " 'Bộ Giáo_dục và Đào_tạo yêu_cầu khắc_phục tình_trạng chạy trường , chạy lớp trước khi bắt_đầu năm_học mới',\n",
              " 'Trong thời_gian vừa_qua , Bộ GD-ĐT , UBND các tỉnh_thành đã ban_hành nhiều quy_định và triển_khai nhiều giải_pháp để chấn_chỉnh những tiêu_cực phát_sinh do việc xin học trái tuyến và học chọn lớp . Tuy_nhiên , hiện_tượng chạy trường , chạy lớp vẫn còn tồn_tại ở nhiều đô_thị , khu_vực đông dân_cư gây áp_lực cho cha_mẹ học_sinh , tạo bức_xúc trong xã_hội và gây khó_khăn cho công_tác quản_lý của ngành .',\n",
              " 'Chuyện khá lạ xảy ra trên sân Cẩm_Phả chiều nay , 21.5 , khi Than_Quảng_Ninh tiếp Xổ_số kiến_thiết Cần_Thơ ở vòng 12 V-League 2016 . Hội cổ_động_viên chủ nhà đồng_loạt mang khẩu_trang vào sân .',\n",
              " 'Sau vụ án siêu lừa Dương_Thanh_Cường , nguyên phó giám_đốc và hai cán_bộ Agribank tiếp_tục nhận thêm một bản_án vì làm thất_thoát 231 tỉ đồng .',\n",
              " 'Liên_quan tới vụ bé trai tử_vong do vướng dây_điện nhà_hàng xảy ra ở khu công_viên biển xã Tam_Thanh , TP. Tam_Kỳ , tỉnh Quảng_Nam , đại_diện nhà_hàng đã nhận lỗi và hứa sẽ bù_đắp những mất_mát của gia_đình nạn_nhân .',\n",
              " 'Nghe tiếng la_hét kêu cứu , người_dân đổ_xô đến thì tá_hoả nhìn thấy người phụ_nữ đang vật_vã cạnh một thanh_niên treo_cổ trên cây . Sau đó , mọi người cắt dây đưa nam thanh_niên đi cấp_cứu ở bệnh_viện nhưng người này đã tử_vong từ trước .',\n",
              " 'Tại cuộc Họp_báo Chính_phủ thường_kỳ đang diễn ra ( 2-6 ) , Bộ_trưởng , Chủ_nhiệm Văn_phòng Chính_phủ Mai_Tiến_Dũng cho biết , đến nay , các nhà_khoa_học đã xác_định được nguyên_nhân gây ra hiện_tượng cá chết hàng_loạt ở khu_vực biển miền Trung thời_gian vừa_qua .',\n",
              " 'Ngày 3.6 , Cơ_quan CSĐT Công_an tỉnh Nghệ_An đang khẩn_trương truy bắt nghi phạm dùng dao chém 1 một người chết và 1 bị_thương trong đám giỗ tại phường Cửa Nam , TP.Vinh.',\n",
              " 'Quan_chức Mỹ cho biết thủ_lĩnh Taliban có_thể đã thiệt_mạng trong vụ không_kích ngày 21.5 tại Pakistan .',\n",
              " 'Hãng hàng_không lớn nhất khu_vực Mỹ_Latinh , LATAM , ngày 30/5 thông_báo sẽ tạm ngừng các chuyến bay của hãng tới Venezuela trong thời_gian không giới_hạn , sau một động_thái tương_tự của hãng Lufthansa .',\n",
              " 'Nghi phạm Vi_Văn_Thắng đến nhà ông Dần ở dưới khu_vực chân núi Pù_Hiếu uống rượu . Tại đây , Thắng chuốc rượu cho ông say , sau đó quay sang giết bà vợ để cướp tài_sản .',\n",
              " 'UBND xã yêu_cầu HTX DVSX Nông_nghiệp Triều_Khúc không được phép dừng việc cấp nước_sạch cho gia_đình ông Ứng , đồng_thời phải thực tìm_hiểu nguyên_nhân giá tiền nước tăng cao đột_biến .',\n",
              " 'Đó là một ý_tưởng độc_đáo của Đại_sứ_quán Italia nhân_dịp kỷ_niệm 70 năm quốc_khánh nước cộng_hoà Italia diễn ra vào ngày 2/6 tới . Khoảng 50m góc phố Lê_Phụng_Hiểu sẽ trở_thành sàn_diễn thời_trang hoà cùng với âm_nhạc và ẩm_thực mang phong_cách Ý.',\n",
              " 'Người giàu thứ nhì nước Nga , tỷ_phú Mikhail_Fridman tuyên_bố sẽ để lại toàn_bộ tài_sản để làm từ_thiện . Trong bản di_chúc của mình , ông không để lại bất_cứ điều gì cho con_cái vì muốn họ tự_tạo tài_sản riêng .',\n",
              " 'Tuy_nhiên , Dương_Khắc_Linh tin rằng lượng fan đông_đảo của chàng ca_sỹ Thu cuối sẽ “ cứu ” nhóm của anh bước vào vòng trong .',\n",
              " 'Một phụ_nữ trong lúc nhặt ve_chai phát_hiện trong bao_tải có thi_thể của một cô gái .',\n",
              " 'Theo Savills Việt_Nam , khoảng 80% người mua BĐS Phú_Quốc là khách_hàng đến từ Hà_Nội , tiếp_theo là người mua từ Hồ_Chí_Minh với khoảng 15% . Những người mua bất_động_sản nghỉ_dưỡng ở Phú_Quốc chủ_yếu là mua để đầu_tư hoặc nghỉ_dưỡng .',\n",
              " 'Hơn 148 người đã thiệt_mạng trong 7 vụ đánh bom liên_tiếp xảy ra tại hai thành_phố thuộc tỉnh Latakia-Syria.',\n",
              " 'Một cô gái người Pakistan đã qua_đời tại bệnh_viện hôm_nay ( 1/6 ) sau khi bị một đám đông tra_tấn , thiêu sống vì từ_chối lời cầu_hôn của con trai một hiệu_trưởng .',\n",
              " 'Người_dân địa_phương hoảng_hốt phát_hiện Đỗ_Viết_Tuấn tử_vong tại_chỗ sau khi một tiếng nổ lớn vang trời tại thôn Đồng Rì , thị_trấn Thanh_Sơn , huyện Sơn_Động , tỉnh Bắc_Giang . Còn vợ của Tuấn chết tại nhà trong tư_thế bị trói chặt chân_tay , cổ bị siết .',\n",
              " 'Trung_vệ Đình_Luật bị cấm thi_đấu 3 trận , nộp phạt 15 triệu đồng vì hành_vi cố_tình xâm_phạm thân_thể cầu_thủ Felix của QNK Quảng_Nam .',\n",
              " 'Sáng 19-5 , quản_lý của ca_sĩ Quang_Hà đã có buổi gặp_gỡ phóng_viên để tố_cáo việc bị hai người bạn lừa lấy sổ_đỏ căn nhà của Quang_Hà tại Lô_B chung_cư Hồ_Văn_Huê , Phú_Nhuận ( TP. HCM )',\n",
              " 'Trong tập 4 vòng Tranh_đấu The X-Factor 2016 , may_mắn được ngồi ghế nóng nhưng gần cuối chương_trình , nhóm của Yanbi buộc phải nhường vị_trí .',\n",
              " 'Một trận động_đất với cường_độ 7.2 độ Richter đã xảy ra ở phía đông bắc Đài_Loan vào chiều ngày 31/5 .',\n",
              " 'Hoa_hậu Việt_Nam 2014 bị bắt_gặp xuất_hiện tình_tứ bên bạn trai đại_gia tin_đồn Tạ_Công_Sơn .',\n",
              " 'Ngày 31-5 , Tập_đoàn Điện_lực Việt_Nam – EVN đã gửi lời xin_lỗi đến khách_hàng vì sự_cố đường_dây 500 kV Bắc – Nam gây mất điện tối 30-5 .',\n",
              " 'Sáng nay 2-6 , đơn kiện của gia_đình 6 thành_viên phi_hành_đoàn trên máy_bay MH17 bị bắn hạ ở Ukraina gần 2 năm trước đã được nộp lên Toà_án Kuala_Lumpur , cáo_buộc hãng Malaysia Airlines cẩu_thả và vi_phạm hợp_đồng .',\n",
              " 'Một cựu Hoa_hậu Thổ_Nhĩ_Kỳ đã bị kết_án 14 tháng tù_treo vì tội xúc_phạm tổng_thống nước này .',\n",
              " 'Dù ai chiến_thắng trong cuộc bầu_cử tổng_thống Áo thì đây cũng là bước_ngoặt chính_trị mới ở quốc_gia này .',\n",
              " \"Một nghi can vừa bị công_an bắt để điều_tra vụ ' truy_sát trong đêm ' xảy ra mới_đây ở Cà_Mau .\",\n",
              " 'Hàng phòng_ngự của Hoàng_Anh Gia_Lai thi_đấu như mơ_ngủ giúp Sanna_Khánh_Hoà có chiến_thắng đậm với tỷ_số 4-1 tại vòng 11 V-League 2016',\n",
              " 'Bí_thư Thành_uỷ TPHCM Đinh_La_Thăng nói như trên khi nghe Giám_đốc Công_ty TNHH MTV Phát_triển Công_viên phần_mềm Quang_Trung ( QTSC ) Lâm Nguyễn_Hải_Long báo_cáo , lương kỹ_sư phần_mềm ( kinh_nghiệm 3 – 5 năm ) trung_bình là 8 – 10 triệu đồng / tháng .',\n",
              " 'Giới_chức Mỹ đang điều_tra sự_cố máy_bay hải_quân EA-18 G bị hư_hỏng khi hạ_cánh trên tàu_sân_bay John C.Stennis ở Biển_Đông .',\n",
              " 'Nam diễn_viên Hollywood_Paul_Blackthorne nhấn_mạnh : “ Loài tê_giác đang đứng bên bờ vực tuyệt_chủng bởi lòng tham và sự thiếu hiểu_biết của nhiều người . Tôi chọn Việt_Nam là điểm dừng chân bởi lẽ đây là một điểm_nóng về tiêu_thụ sừng tê_giác \" .',\n",
              " 'Trận mưa kèm lốc xoáy đã làm 9 người bị_thương , 24 nhà ở , 6 nhà_bếp bị sập hoàn_toàn ; 170 ngôi nhà bị hư_hại , tốc mái .',\n",
              " 'Hai người quen dàn_cảnh lừa mua nhà gần 4 tỉ đồng của ca_sĩ Quang_Hà nhưng không thanh_toán tiền . Liệu căn_hộ này có mất hay không khi thủ_tục công_chứng hợp_đồng mua_bán căn_hộ đã được hoàn_tất ?',\n",
              " 'Trong đợt bầu_cử này , huyện Lý_Sơn ( Quảng_Ngãi ) có 8 đơn_vị bầu_cử với 22 tổ bầu_cử và gần 16.500 cử_tri . Trong đó , có gần 3.000 cử_tri là ngư_dân đang làm_ăn trên biển .',\n",
              " 'Minh_Quang_Pham , một người Anh gốc Việt bị_cáo buộc âm_mưu đánh bom sân_bay London , hôm_qua bị toà_án Mỹ kết_án 40 năm tù .',\n",
              " 'Người đàn_ông chuẩn_bị bước lên xe cùng người_tình tại một con hẻm trên đường Đinh_Bộ_Lĩnh ( quận Bình_Thạnh , TP. HCM ) thì bị trinh_sát ập đến bắt_giữ cùng tang_vật là 6 kg ma_tuý đá , súng , đạn và nhiều tỉ đồng .',\n",
              " 'Gia_đình ông Trần_Công_Ứng ( 62 tuổi , ở số 10 xóm Lẻ , Triều_Khúc , Tân_Triều , Thanh_Trì , Hà_Nội ) đã choáng_váng khi nhận được hoá_đơn tiền nước lên tới 19.125.036 đồng với số nước sử_dụng là 1.029 m3 ...',\n",
              " 'Liên_quan vụ máy_bay mang số_hiệu MS804 của hãng hàng_không EgyptAir mất_tích , chiều 19/5 , các nguồn tin quân_sự ở Hy_Lạp cho biết một tàu_khu_trục của nước này đã phát_hiện thấy hai mảnh vỡ lớn nghi là của máy_bay MS804 tại vùng_biển cách phía Nam đảo Crete khoảng 370km .',\n",
              " 'Do gia_đình bức_xúc vì chủ nhà_hàng có dây_điện giật chết bé trai không thừa_nhận trách_nhiệm nên mang thi_thể nạn_nhân đến trước cửa , đòi công_bằng .',\n",
              " 'Cho rằng nữ chủ_nhân mặt_bằng shop thời_trang cố_tình vu_khống , xúc_phạm danh_dự của mình , Hoa_hậu Diệu_Hân khởi_kiện bà này ra toà yêu_cầu chấm_dứt hợp_đồng thuê nhà và đặt ra những yêu_cầu khác .',\n",
              " 'Sáng nay ( 1-6 ) , TAND tỉnh Bắc_Ninh đã khai mở phiên_toà xét_xử trùm giang_hồ Minh “ sâm ” cùng 9 đối_tượng liên_quan về các tội “ Cưỡng_đoạt tài_sản ” và “ Tàng_trữ trái_phép vũ_khí quân_dụng ” . Phiên xử dự_kiến diễn ra trong 3 ngày liên_tiếp .',\n",
              " 'Ngày 1/6 , Ngoại_trưởng Philippines vừa được bổ_nhiệm Perfecto_Yasay cho biết Manila sẽ không tạo khoảng_cách với đồng_minh an_ninh lâu năm là Washington , song khẳng_định quốc_gia này cũng sẽ không trở_thành “ tay_sai ” của bất_cứ thế_lực nước_ngoài nào .',\n",
              " 'Sau khi ra tù về tội tàng_trữ , sử_dụng trái_phép chất ma_tuý , Nguyễn_Duy_Hùng mở xưởng sửa_chữa xe ôtô làm bình_phong che_đậy việc phi_pháp .',\n",
              " 'Bộ Công_an và Công_an tỉnh Lâm_Đồng đã triệt_phá thành_công một đường_dây buôn_bán ma_tuý quy_mô lớn , bắt_giữ tên trùm ma_tuý cùng với nhiều tang_vật',\n",
              " 'Camera tại đền Xã_Tắc ( Quảng_Ninh ) ghi lại hình_ảnh hai thanh_niên cạy cửa đền , dùng thanh sắt và đục phá hỏng 3 chiếc hòm công_đức lấy đi số tiền ước_tính 300 triệu đồng .',\n",
              " 'Sáng nay , 3-6 , nút giao_thông Mỹ Thuỷ - điểm giao của hai trục đường giao_thông chính quan_trọng của thành_phố gồm đường Nguyễn_Thị_Định , Đồng_Văn Cống và Vành_đai 2 ( thuộc địa_bàn quận 2 ) - đã được khởi_công , và được kỳ_vọng sẽ giúp xoá điểm đen về ùn_tắc giao_thông tại khu_vực này .',\n",
              " 'Huyền_thoại Ryan_Giggs đã kết_thúc kỳ nghỉ của mình và trở_lại M.U để chuẩn_bị sẵn_sàng chia_tay đội bóng sau 29 năm gắn_bó .',\n",
              " 'Phòng Cảnh_sát điều_tra tội_phạm về ma_tuý – Công_an tỉnh Lạng_Sơn vừa bắt 3_kiều nữ mua_bán , vận_chuyển 30kg ma_tuý , khám_xét nơi ở của các đối_tượng thu_giữ 700 triệu đồng , 5 cuốn sổ tiết_kiệm tổng_số tiền gần 3 tỷ đồng và nhiều tài_liệu liên_quan .',\n",
              " 'Công_viên văn_hoá Sa_Pa bao_gồm các khu chức_năng chính như khu vui_chơi giải_trí theo mô_hình Disneyland .',\n",
              " 'Ông Nhỏ ( ở Kiên_Giang ) cho rằng vợ không chung_thuỷ nên người chồng này đã dùng búa sát_hại bà Mai rồi uống thuốc_độc tự_tử .',\n",
              " 'Sau khi va_chạm với xe_buýt , chiếc xe_tải tiếp_tục đâm vào một xe_máy khác đi ngược chiều .',\n",
              " 'Nam thanh_niên đang hàn cửa_ô tô thì bị chạm dây_điện khiến tử_vong tại_chỗ .',\n",
              " 'Ngày 2-6 , Công_an TP. Biên_Hoà phối_hợp với Công_an phường Tam_Hoà ( TP. Biên_Hoà ) để điều_tra , xác_minh nhóm thanh_niên ném bom_xăng , dùng mã_tấu đuổi đánh nhau trong đêm , khiến cả khu_phố náo_loạn xảy ra tại phường Tam_Hoà .',\n",
              " 'Kiểm_tra chiếc xe_tải , lực_lượng CSGT phát_hiện có tới hơn 500 kg ngà_voi đang được vận_chuyển đi tiêu_thụ .',\n",
              " 'Chỉ_huy lực_lượng tác_chiến đặc_biệt Mỹ ở châu_Á - Thái_Bình_Dương cho_hay , các lực_lượng đặc_nhiệm Mỹ sẵn_sàng hợp_tác với đặc_công Việt_Nam .',\n",
              " 'Mẫu xe côn tay thể_thao 150 phân_khối Winner của Honda sẽ được bán ra từ ngày 8/6 tại các đại_lý với giá từ 45,49 – 45,99 triệu đồng .',\n",
              " 'Khoảng 8 giờ sáng ngày ( 3/6 ) , tại căn nhà số 123 đường Lê_Thanh_Nghị ( TP Đà_Nẵng ) đã xảy ra một vụ tai_nạn lao_động khiến một công_nhân đang thi_công căn nhà này tử_vong .',\n",
              " 'Lần đầu_tiên một tàu cá của ngư_dân ở Khánh_Hoà đánh_bắt được một con cá_ngừ vây xanh cực hiếm , nặng hơn 3 tạ .',\n",
              " 'Thủ_tướng Nguyễn_Xuân_Phúc cho rằng cần phấn_đấu đến hơn 90% người_dân tham_gia BHYT để mọi người_dân đều được hưởng phúc_lợi xã_hội , đặc_biệt là đối_tượng khó_khăn , người nghèo .',\n",
              " 'Do bị lừa làm nhân_viên bán hàng cơm cho quán cơm trá_hình để hoạt_động tổ_chức mại_dâm , thiếu_nữ 15 tuổi đã bị cưỡng_hiếp ngay ngày đầu đi làm .',\n",
              " 'Cơ_quan Công_an vừa bắt_giữ Tráng_Láo_Tú ( 48 tuổi ) , trú tại xã Lóng_Sập , huyện Mộc_Châu tỉnh Sơn_La , vận_chuyển trái_phép 2 bánh heroin , trọng_lượng 698gam .',\n",
              " 'Một quan_chức cấp cao của Triều_Tiên hôm 23-5 tuyên_bố đề_nghị gặp_gỡ ông Kim Jong-un của ứng_viên tổng_thống đảng Cộng_hoà Donald_Trump là “ một hình_thức tuyên_truyền hoặc quảng_cáo ” trong chiến_dịch tranh_cử .',\n",
              " 'CĐV Than_Quảng_Ninh bịt khẩu_trang , gần như giữ im_lặng trong suốt trận đấu chiều nay như cách mỉa_mai , phản_đối việc VPF cấm mang loa đài vào sân .',\n",
              " 'Các doanh_nghiệp cung_ứng thực_phẩm , đặc_biệt là thực_phẩm tươi_sống như thịt , cá , gia_cầm , rau củ quả , trái_cây … qua kênh của Tập_đoàn VinGroup sẽ được hưởng mức chiết_khấu bằng 0% .',\n",
              " 'Cậu bé Yamato_Tanooka , 7 tuổi , đã được tìm thấy gần một tuần sau khi bị bố_mẹ phạt và bỏ lại trong khu rừng có rất nhiều gấu .',\n",
              " 'Ngày 2-6 , Phòng CSĐT tội_phạm về ma_tuý Công_an tỉnh Lạng_Sơn cho biết , đơn_vị vừa xác_lập chuyên_án , đấu_tranh triệt_phá đường_dây vận_chuyển ma_tuý lớn từ nước_ngoài về Việt_Nam tiêu_thụ .',\n",
              " 'Người_dân xã Nghi_Trung ( H.Nghi Lộc , Nghệ_An ) tố chuyện máy_bay hạ_cánh xuống sân_bay Vinh làm tốc ngói nhà dân .',\n",
              " 'Nhiều xe taxi trên đường chở khách từ TP Nha_Trang đi sân_bay Cam_Ranh ( Khánh_Hoà ) đã bị một_số đối_tượng chặn đầu , xịt sơn lên kính chắn gió , đe_doạ khách đưa tiền .',\n",
              " 'Cuộc đọ sức giữa Than_Quảng_Ninh và Cần_Thơ đã được giải_quyết ngay trong hiệp 1 , với tỷ_số 2-1 nghiêng về đội bóng đất Mỏ , trong trận đấu mà các cổ_động_viên ( CĐV ) Quảng_Ninh đeo khẩu_trang vào sân phản_đối VPF .',\n",
              " 'Theo bà Thái_Thiện_Thanh , bà có xích_mích với người bạn gái của người đứng sau mấy vụ truy_sát gia_đình bà .',\n",
              " 'HLV Nguyễn_Quốc_Tuấn thừa_nhận HAGL thất_bại đậm trước Sanna_Khánh_Hoà vì tinh_thần thi_đấu yếu_kém .',\n",
              " 'Khi biết lương trung_bình của một nhân_viên tại Công_viên phần_mềm Quang_Trung vào_khoảng 8 - 10 triệu đồng , ông Thăng nhận_xét : “ Thu_nhập chỉ nhỉnh hơn công_nhân tăng ca thì kỹ_sư phần_mềm sao đủ sống ” .',\n",
              " 'Chiều 3.6 , bà Trần_Thị_Minh_Nguyệt – Chánh văn_phòng TCty_Cảng hàng_không VN – cho biết , Cảng_hàng_không Buôn_Ma_Thuột ( Đắk_Lắk ) đã khắc_phục xong sự_cố bong tróc đường_băng , hiện các chuyến bay đi và đến cảng_hàng_không này hoạt_động bình_thường .',\n",
              " 'Rạng sáng nay ( 23/5 ) theo giờ Việt_Nam , lễ trao giải âm_nhạc uy_tín quy_tụ nhiều nghệ_sỹ nổi_tiếng trong làng nhạc TG đã diễn ra và không quá bất_ngờ khi hầu_hết các giải_thưởng lớn đều rơi vào tay hai cái tên đình đàm , Adele và The_Weeknd',\n",
              " 'Cục Hàng_không Việt_Nam đang tiến_hành lên kế_hoạch xây_dựng sân_bay Nội_Bài 2 , nhằm giảm tải cho sân_bay Nội_Bài hiện_tại . Chi_phí dự_kiến lên tới 122.000 tỷ , tương_đương hơn 5 tỷ USD .',\n",
              " 'Đám_cưới của hoa_khôi thể_thao 2012 Lại_Hương_Thảo diễn ra hôm 29.5 tại một khách_sạn lớn tại TP.HCM. Cô gái sinh năm 1991 vừa khoe những tấm ảnh mình và chồng rạng_rỡ trong ngày trọng_đại .',\n",
              " 'Cả thế_giới hiện có trên 45 triệu đàn_ông , phụ_nữ và trẻ_em là nô_lệ , cao gấp nhiều lần so với những con_số thống_kê trước_đây , với 2/3 số nô_lệ tập_trung ở châu Á-Thái Bình_Dương .',\n",
              " 'Công_ty đa_cấp của ông chủ người Thái đã tiến_hành giải_thể và xin rút_tiền ký_quỹ . Trong vòng 30 ngày , đơn_vị này phải hoàn_thành nghĩa_vụ thanh_toán cho những người tham_gia trong mạng_lưới .',\n",
              " 'Chiếc xe container đang chở theo cuộn sắt chạy trên đường bất_ngờ thắng gấp làm cuộn sắt đứt dây va vào đầu xe nát bét , tài_xế thoát chết trong gang tất .',\n",
              " 'Sáng nay ( 31/5 ) , TAND tỉnh Quảng_Trị đã đưa ra xét_xử lưu_động đối_tượng giết vợ rồi vượt hàng nghìn cây_số giết tình_địch . Phiên_toà được tổ_chức tại xã Gio_Việt , huyện Gio_Linh , tỉnh Quảng_Trị .',\n",
              " 'Chiếc taxi đang lưu_thông đến gần giữa cầu Thanh_Trì , bất_ngờ nam thanh_niên bỏ lại bạn gái trên xe rồi gieo mình xuống sông Hồng tự_tử .',\n",
              " 'Nhóm gần 10 người ở Đồng_Nai mang theo kiếm đi vào con hẻm quậy_phá , đập cửa_kính nhà dân . Trước khi rời đi , họ ném 3 quả bom_xăng trên đường làm lửa bốc cháy dữ_dội .',\n",
              " '14 trẻ_em đã bị_thương sau khi một con chó bắt_đầu cắn chúng trong một công_viên ở Blyth , Northumberland , nước Anh .',\n",
              " 'Cựu_HLV_Liverpool , Brendan_Rodgers đã được bổ_nhiệm làm HLV trưởng CLB Celtic ( Scotland ) với bản hợp_đồng có thời_hạn một năm .',\n",
              " 'Ngày 3-6 , ông Trương_Quốc Dụng-Hạt trưởng Hạt kiểm_lâm huyện Krông_Pa ( Gia_Lai ) cho biết , trong ngày 2-6 , trong khi truy_quét gỗ lậu , một cán_bộ kiểm_lâm đã nổ_súng thị_uy khiến một lâm_tặc tử_vong , hai cán_bộ kiểm_lâm cũng bị_thương trong vụ xô_xát này . Hiện Hạt đang làm báo_cáo nhanh gửi các cơ_quan_chức_năng về vụ_việc trên .',\n",
              " 'Trên facebook đang lan_truyền hình_ảnh một cán_bộ của Bộ Y_tế có sử_dụng rượu_bia , sau khi va_chạm giao_thông đã xúc_phạm người_dân và công_an phường',\n",
              " 'Điều_tra ban_đầu cho thấy anh T. nổ_mìn tự_sát ở phòng bảo_vệ của công_ty .',\n",
              " 'Việc hành_khách trên chuyến bay của Vietnam_Airlines ( VNA ) sáng 2-6 đã tự_ý mở_cửa thoát hiểm , làm bung cầu_phao đã ảnh_hưởng lịch cất_cánh của ba chuyến bay khác trong ngày .',\n",
              " 'Tiền_vệ gốc Việt_Lee_Nguyễn đã không có tên trong danh_sách 23 cái tên cuối_cùng tham_dự Copa_America 2016 của tuyển Mỹ .',\n",
              " 'BLĐ FLC Thanh_Hoá đã treo số tiền thưởng lên đến 1 tỷ đồng nếu_như giành chiến_thắng trước Hải_Phòng trong trận đấu chiều mai .']"
            ]
          },
          "metadata": {
            "tags": []
          },
          "execution_count": 14
        }
      ]
    },
    {
      "cell_type": "markdown",
      "metadata": {
        "id": "7zdm50ZotZqb"
      },
      "source": [
        "The fully trained *RoBERTaShared* model is uploaded to the 🤗model hub under [patrickvonplaten/roberta_shared_bbc_xsum](https://huggingface.co/patrickvonplaten/roberta_shared_bbc_xsum). \n",
        "\n",
        "The model achieves a ROUGE-2 score of **16.89**, which is a bit worse than reported in the paper. Training the model for a bit longer will most likely close this performance gap.\n",
        "\n",
        "For some summarization examples, the reader is advised to use the online inference API of the model, [here](https://huggingface.co/patrickvonplaten/roberta_shared_bbc_xsum)."
      ]
    }
  ]
}